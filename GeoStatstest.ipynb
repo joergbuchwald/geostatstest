{
 "cells": [
  {
   "cell_type": "code",
   "execution_count": 55,
   "metadata": {},
   "outputs": [],
   "source": [
    "using GeoStats"
   ]
  },
  {
   "cell_type": "code",
   "execution_count": 56,
   "metadata": {},
   "outputs": [
    {
     "name": "stdout",
     "output_type": "stream",
     "text": [
      "search: \u001b[0m\u001b[1mG\u001b[22m\u001b[0m\u001b[1me\u001b[22m\u001b[0m\u001b[1mo\u001b[22m\u001b[0m\u001b[1mD\u001b[22m\u001b[0m\u001b[1ma\u001b[22m\u001b[0m\u001b[1mt\u001b[22m\u001b[0m\u001b[1ma\u001b[22m\u001b[0m\u001b[1mF\u001b[22m\u001b[0m\u001b[1mr\u001b[22m\u001b[0m\u001b[1ma\u001b[22m\u001b[0m\u001b[1mm\u001b[22m\u001b[0m\u001b[1me\u001b[22m\n",
      "\n"
     ]
    },
    {
     "data": {
      "text/latex": [
       "\\begin{verbatim}\n",
       "GeoDataFrame(data, coordnames)\n",
       "\\end{verbatim}\n",
       "A dataframe object \\texttt{data} with additional metadata for tracking the columns \\texttt{coordnames} that represent spatial coordinates.\n",
       "\n",
       "\\subsection{Examples}\n",
       "If the data was already loaded in a normal DataFrame \\texttt{data}, and there exists columns named \\texttt{x}, \\texttt{y} and \\texttt{z}, wrap the data and specify the column names:\n",
       "\n",
       "\\begin{verbatim}\n",
       "julia> GeoDataFrame(data, [:x,:y,:z])\n",
       "\\end{verbatim}\n",
       "Alternatively, load the data directly into a \\texttt{GeoDataFrame} object by using the method \\href{@ref}{\\texttt{readgeotable}}.\n",
       "\n",
       "\\subsubsection{Notes}\n",
       "This type is a lightweight wrapper over Julia's DataFrame types. No additional storage is required other than a vector of symbols with the columns names representing spatial coordinates.\n",
       "\n"
      ],
      "text/markdown": [
       "```\n",
       "GeoDataFrame(data, coordnames)\n",
       "```\n",
       "\n",
       "A dataframe object `data` with additional metadata for tracking the columns `coordnames` that represent spatial coordinates.\n",
       "\n",
       "## Examples\n",
       "\n",
       "If the data was already loaded in a normal DataFrame `data`, and there exists columns named `x`, `y` and `z`, wrap the data and specify the column names:\n",
       "\n",
       "```julia\n",
       "julia> GeoDataFrame(data, [:x,:y,:z])\n",
       "```\n",
       "\n",
       "Alternatively, load the data directly into a `GeoDataFrame` object by using the method [`readgeotable`](@ref).\n",
       "\n",
       "### Notes\n",
       "\n",
       "This type is a lightweight wrapper over Julia's DataFrame types. No additional storage is required other than a vector of symbols with the columns names representing spatial coordinates.\n"
      ],
      "text/plain": [
       "\u001b[36m  GeoDataFrame(data, coordnames)\u001b[39m\n",
       "\n",
       "  A dataframe object \u001b[36mdata\u001b[39m with additional metadata for tracking the columns\n",
       "  \u001b[36mcoordnames\u001b[39m that represent spatial coordinates.\n",
       "\n",
       "\u001b[1m  Examples\u001b[22m\n",
       "\u001b[1m  ==========\u001b[22m\n",
       "\n",
       "  If the data was already loaded in a normal DataFrame \u001b[36mdata\u001b[39m, and there exists\n",
       "  columns named \u001b[36mx\u001b[39m, \u001b[36my\u001b[39m and \u001b[36mz\u001b[39m, wrap the data and specify the column names:\n",
       "\n",
       "\u001b[36m  julia> GeoDataFrame(data, [:x,:y,:z])\u001b[39m\n",
       "\n",
       "  Alternatively, load the data directly into a \u001b[36mGeoDataFrame\u001b[39m object by using\n",
       "  the method \u001b[36mreadgeotable\u001b[39m.\n",
       "\n",
       "\u001b[1m  Notes\u001b[22m\n",
       "\u001b[1m  –––––––\u001b[22m\n",
       "\n",
       "  This type is a lightweight wrapper over Julia's DataFrame types. No\n",
       "  additional storage is required other than a vector of symbols with the\n",
       "  columns names representing spatial coordinates."
      ]
     },
     "execution_count": 56,
     "metadata": {},
     "output_type": "execute_result"
    }
   ],
   "source": [
    "?GeoDataFrame"
   ]
  },
  {
   "cell_type": "code",
   "execution_count": 57,
   "metadata": {},
   "outputs": [],
   "source": [
    "using CSV"
   ]
  },
  {
   "cell_type": "code",
   "execution_count": 58,
   "metadata": {
    "collapsed": true,
    "jupyter": {
     "outputs_hidden": true
    }
   },
   "outputs": [
    {
     "data": {
      "text/html": [
       "<table class=\"data-frame\"><thead><tr><th></th><th>Column1</th></tr><tr><th></th><th>Float64</th></tr></thead><tbody><p>400 rows × 1 columns</p><tr><th>1</th><td>2.64432e5</td></tr><tr><th>2</th><td>1.67688e5</td></tr><tr><th>3</th><td>6.70549e5</td></tr><tr><th>4</th><td>1.1592e5</td></tr><tr><th>5</th><td>6.93351e5</td></tr><tr><th>6</th><td>5.5556e5</td></tr><tr><th>7</th><td>188443.0</td></tr><tr><th>8</th><td>1.96863e5</td></tr><tr><th>9</th><td>4.8118e5</td></tr><tr><th>10</th><td>853647.0</td></tr><tr><th>11</th><td>5.80936e5</td></tr><tr><th>12</th><td>4.80871e5</td></tr><tr><th>13</th><td>8.55956e5</td></tr><tr><th>14</th><td>1.56585e5</td></tr><tr><th>15</th><td>4.81739e5</td></tr><tr><th>16</th><td>2.39086e5</td></tr><tr><th>17</th><td>2.49747e5</td></tr><tr><th>18</th><td>84040.0</td></tr><tr><th>19</th><td>5.88136e5</td></tr><tr><th>20</th><td>4.0308e5</td></tr><tr><th>21</th><td>2.10281e5</td></tr><tr><th>22</th><td>8.9886e5</td></tr><tr><th>23</th><td>1.69447e5</td></tr><tr><th>24</th><td>5.52283e5</td></tr><tr><th>25</th><td>7.98437e5</td></tr><tr><th>26</th><td>1.23146e6</td></tr><tr><th>27</th><td>1.0136e5</td></tr><tr><th>28</th><td>5.9464e5</td></tr><tr><th>29</th><td>2.01832e5</td></tr><tr><th>30</th><td>91747.1</td></tr><tr><th>&vellip;</th><td>&vellip;</td></tr></tbody></table>"
      ],
      "text/latex": [
       "\\begin{tabular}{r|c}\n",
       "\t& Column1\\\\\n",
       "\t\\hline\n",
       "\t& Float64\\\\\n",
       "\t\\hline\n",
       "\t1 & 2.64432e5 \\\\\n",
       "\t2 & 1.67688e5 \\\\\n",
       "\t3 & 6.70549e5 \\\\\n",
       "\t4 & 1.1592e5 \\\\\n",
       "\t5 & 6.93351e5 \\\\\n",
       "\t6 & 5.5556e5 \\\\\n",
       "\t7 & 188443.0 \\\\\n",
       "\t8 & 1.96863e5 \\\\\n",
       "\t9 & 4.8118e5 \\\\\n",
       "\t10 & 853647.0 \\\\\n",
       "\t11 & 5.80936e5 \\\\\n",
       "\t12 & 4.80871e5 \\\\\n",
       "\t13 & 8.55956e5 \\\\\n",
       "\t14 & 1.56585e5 \\\\\n",
       "\t15 & 4.81739e5 \\\\\n",
       "\t16 & 2.39086e5 \\\\\n",
       "\t17 & 2.49747e5 \\\\\n",
       "\t18 & 84040.0 \\\\\n",
       "\t19 & 5.88136e5 \\\\\n",
       "\t20 & 4.0308e5 \\\\\n",
       "\t21 & 2.10281e5 \\\\\n",
       "\t22 & 8.9886e5 \\\\\n",
       "\t23 & 1.69447e5 \\\\\n",
       "\t24 & 5.52283e5 \\\\\n",
       "\t25 & 7.98437e5 \\\\\n",
       "\t26 & 1.23146e6 \\\\\n",
       "\t27 & 1.0136e5 \\\\\n",
       "\t28 & 5.9464e5 \\\\\n",
       "\t29 & 2.01832e5 \\\\\n",
       "\t30 & 91747.1 \\\\\n",
       "\t$\\dots$ & $\\dots$ \\\\\n",
       "\\end{tabular}\n"
      ],
      "text/plain": [
       "400×1 DataFrame\n",
       "│ Row │ Column1   │\n",
       "│     │ \u001b[90mFloat64\u001b[39m   │\n",
       "├─────┼───────────┤\n",
       "│ 1   │ 2.64432e5 │\n",
       "│ 2   │ 1.67688e5 │\n",
       "│ 3   │ 6.70549e5 │\n",
       "│ 4   │ 1.1592e5  │\n",
       "│ 5   │ 6.93351e5 │\n",
       "│ 6   │ 5.5556e5  │\n",
       "│ 7   │ 188443.0  │\n",
       "│ 8   │ 1.96863e5 │\n",
       "│ 9   │ 4.8118e5  │\n",
       "│ 10  │ 853647.0  │\n",
       "⋮\n",
       "│ 390 │ 5.49584e5 │\n",
       "│ 391 │ 3.97004e5 │\n",
       "│ 392 │ 4.10825e5 │\n",
       "│ 393 │ 1.02428e5 │\n",
       "│ 394 │ 317454.0  │\n",
       "│ 395 │ 4.32704e5 │\n",
       "│ 396 │ 2.0702e5  │\n",
       "│ 397 │ 1.19395e6 │\n",
       "│ 398 │ 5.86269e5 │\n",
       "│ 399 │ 7.86013e5 │\n",
       "│ 400 │ 859230.0  │"
      ]
     },
     "execution_count": 58,
     "metadata": {},
     "output_type": "execute_result"
    }
   ],
   "source": [
    "x_prime_df=CSV.read(\"x_shuffled.csv\",header=0)\n",
    "y_prime_df=CSV.read(\"y_shuffled.csv\", header=0)"
   ]
  },
  {
   "cell_type": "code",
   "execution_count": null,
   "metadata": {
    "collapsed": true,
    "jupyter": {
     "outputs_hidden": true
    }
   },
   "outputs": [],
   "source": []
  },
  {
   "cell_type": "code",
   "execution_count": 60,
   "metadata": {
    "collapsed": true,
    "jupyter": {
     "outputs_hidden": true
    }
   },
   "outputs": [
    {
     "name": "stderr",
     "output_type": "stream",
     "text": [
      "┌ Warning: `getindex(df::DataFrame, col_ind::ColumnIndex)` is deprecated, use `df[!, col_ind]` instead.\n",
      "│   caller = top-level scope at In[60]:1\n",
      "└ @ Core In[60]:1\n",
      "┌ Warning: `setindex!(df::DataFrame, v::AbstractVector, col_ind::ColumnIndex)` is deprecated, use `begin\n",
      "│     df[!, col_ind] = v\n",
      "│     df\n",
      "│ end` instead.\n",
      "│   caller = top-level scope at In[60]:1\n",
      "└ @ Core In[60]:1\n"
     ]
    },
    {
     "data": {
      "text/plain": [
       "400-element CSV.Column{Float64,Float64}:\n",
       " 264432.25520764623       \n",
       " 167688.41183851557       \n",
       " 670549.1309412513        \n",
       " 115919.8530580652        \n",
       " 693350.508694783         \n",
       " 555560.1098441511        \n",
       " 188442.96715840694       \n",
       " 196862.60159301193       \n",
       " 481180.30510619          \n",
       " 853647.0166223499        \n",
       " 580936.4451294354        \n",
       " 480871.4034428356        \n",
       " 855955.6781931772        \n",
       "      ⋮                   \n",
       " 534234.1675322347        \n",
       " 549584.2680083631        \n",
       " 397004.1057001574        \n",
       " 410824.6893967921        \n",
       " 102427.80128575808       \n",
       " 317454.0032188951        \n",
       " 432703.8716610953        \n",
       " 207019.8774613448        \n",
       "      1.1939538005072905e6\n",
       " 586269.1259098226        \n",
       " 786013.4761361814        \n",
       " 859230.0453506851        "
      ]
     },
     "execution_count": 60,
     "metadata": {},
     "output_type": "execute_result"
    }
   ],
   "source": [
    "x_prime_df[:result]=y_prime_df[:Column1]"
   ]
  },
  {
   "cell_type": "code",
   "execution_count": null,
   "metadata": {},
   "outputs": [],
   "source": []
  },
  {
   "cell_type": "code",
   "execution_count": null,
   "metadata": {},
   "outputs": [],
   "source": []
  },
  {
   "cell_type": "code",
   "execution_count": 61,
   "metadata": {},
   "outputs": [
    {
     "data": {
      "text/plain": [
       "normalize (generic function with 1 method)"
      ]
     },
     "execution_count": 61,
     "metadata": {},
     "output_type": "execute_result"
    }
   ],
   "source": [
    "function normalize(dataframe)\n",
    "    df=dataframe\n",
    "    for name in names(dataframe[1:15])\n",
    "        df[name] = dataframe[name].-minimum(dataframe[name])\n",
    "        df[name] = df[name]./maximum(df[name])\n",
    "    end\n",
    "    return df\n",
    "end\n",
    "    "
   ]
  },
  {
   "cell_type": "code",
   "execution_count": 62,
   "metadata": {
    "collapsed": true,
    "jupyter": {
     "outputs_hidden": true
    }
   },
   "outputs": [
    {
     "name": "stderr",
     "output_type": "stream",
     "text": [
      "┌ Warning: `getindex(df::DataFrame, col_inds::Union{AbstractVector, Regex, Not})` is deprecated, use `df[:, col_inds]` instead.\n",
      "│   caller = normalize(::DataFrame) at In[61]:3\n",
      "└ @ Main ./In[61]:3\n",
      "┌ Warning: `getindex(df::DataFrame, col_ind::ColumnIndex)` is deprecated, use `df[!, col_ind]` instead.\n",
      "│   caller = normalize(::DataFrame) at In[61]:4\n",
      "└ @ Main ./In[61]:4\n",
      "┌ Warning: `getindex(df::DataFrame, col_ind::ColumnIndex)` is deprecated, use `df[!, col_ind]` instead.\n",
      "│   caller = normalize(::DataFrame) at In[61]:4\n",
      "└ @ Main ./In[61]:4\n",
      "┌ Warning: `setindex!(df::DataFrame, v::AbstractVector, col_ind::ColumnIndex)` is deprecated, use `begin\n",
      "│     df[!, col_ind] = v\n",
      "│     df\n",
      "│ end` instead.\n",
      "│   caller = normalize(::DataFrame) at In[61]:4\n",
      "└ @ Main ./In[61]:4\n",
      "┌ Warning: `getindex(df::DataFrame, col_ind::ColumnIndex)` is deprecated, use `df[!, col_ind]` instead.\n",
      "│   caller = normalize(::DataFrame) at In[61]:5\n",
      "└ @ Main ./In[61]:5\n",
      "┌ Warning: `getindex(df::DataFrame, col_ind::ColumnIndex)` is deprecated, use `df[!, col_ind]` instead.\n",
      "│   caller = normalize(::DataFrame) at In[61]:5\n",
      "└ @ Main ./In[61]:5\n",
      "┌ Warning: `setindex!(df::DataFrame, v::AbstractVector, col_ind::ColumnIndex)` is deprecated, use `begin\n",
      "│     df[!, col_ind] = v\n",
      "│     df\n",
      "│ end` instead.\n",
      "│   caller = normalize(::DataFrame) at In[61]:5\n",
      "└ @ Main ./In[61]:5\n"
     ]
    },
    {
     "data": {
      "text/html": [
       "<table class=\"data-frame\"><thead><tr><th></th><th>Column1</th><th>Column2</th><th>Column3</th><th>Column4</th><th>Column5</th><th>Column6</th><th>Column7</th><th>Column8</th></tr><tr><th></th><th>Float64</th><th>Float64</th><th>Float64</th><th>Float64</th><th>Float64</th><th>Float64</th><th>Float64</th><th>Float64</th></tr></thead><tbody><p>400 rows × 16 columns (omitted printing of 8 columns)</p><tr><th>1</th><td>0.325524</td><td>0.950538</td><td>0.357411</td><td>0.389105</td><td>0.194585</td><td>0.184043</td><td>0.237166</td><td>0.485226</td></tr><tr><th>2</th><td>0.652948</td><td>0.704087</td><td>0.861773</td><td>0.837654</td><td>0.434892</td><td>0.379896</td><td>0.744429</td><td>0.225178</td></tr><tr><th>3</th><td>0.290786</td><td>0.383286</td><td>0.833265</td><td>0.9898</td><td>0.638877</td><td>0.0566432</td><td>0.936918</td><td>0.222246</td></tr><tr><th>4</th><td>0.749271</td><td>0.479017</td><td>0.0575158</td><td>0.904464</td><td>0.506446</td><td>0.166152</td><td>0.47365</td><td>0.285476</td></tr><tr><th>5</th><td>0.60662</td><td>0.653666</td><td>0.589511</td><td>0.0862952</td><td>0.499406</td><td>0.199111</td><td>0.0911868</td><td>0.151885</td></tr><tr><th>6</th><td>0.657132</td><td>0.329131</td><td>0.215921</td><td>0.33697</td><td>0.326447</td><td>0.371088</td><td>0.521115</td><td>0.341996</td></tr><tr><th>7</th><td>0.287145</td><td>0.397668</td><td>0.518124</td><td>0.920083</td><td>0.448945</td><td>0.527357</td><td>0.81018</td><td>0.539941</td></tr><tr><th>8</th><td>0.677486</td><td>0.642819</td><td>0.279754</td><td>0.225433</td><td>0.128728</td><td>0.543143</td><td>0.903321</td><td>0.528444</td></tr><tr><th>9</th><td>0.482049</td><td>0.555148</td><td>0.955058</td><td>0.503599</td><td>0.50785</td><td>0.411249</td><td>0.702991</td><td>0.805342</td></tr><tr><th>10</th><td>0.335434</td><td>0.281389</td><td>0.618836</td><td>0.666675</td><td>0.652585</td><td>0.623918</td><td>0.80255</td><td>0.584131</td></tr><tr><th>11</th><td>0.458438</td><td>0.735938</td><td>0.266868</td><td>0.106359</td><td>0.630907</td><td>0.496983</td><td>0.638357</td><td>0.161225</td></tr><tr><th>12</th><td>0.310861</td><td>0.412033</td><td>0.303915</td><td>0.419046</td><td>0.376088</td><td>0.402153</td><td>0.449262</td><td>0.494171</td></tr><tr><th>13</th><td>0.576896</td><td>0.294779</td><td>0.96941</td><td>0.75033</td><td>0.520029</td><td>0.537296</td><td>0.909499</td><td>0.306723</td></tr><tr><th>14</th><td>0.392065</td><td>0.435471</td><td>0.598637</td><td>0.931822</td><td>0.45636</td><td>0.464672</td><td>0.543519</td><td>0.510021</td></tr><tr><th>15</th><td>0.425576</td><td>0.348063</td><td>0.180856</td><td>0.301368</td><td>0.85775</td><td>0.42866</td><td>0.510179</td><td>0.615141</td></tr><tr><th>16</th><td>0.359006</td><td>0.577339</td><td>0.54691</td><td>0.884851</td><td>0.880364</td><td>0.783504</td><td>0.527174</td><td>0.352456</td></tr><tr><th>17</th><td>0.589832</td><td>0.558778</td><td>0.426632</td><td>0.290842</td><td>0.727711</td><td>0.555608</td><td>0.586813</td><td>0.365777</td></tr><tr><th>18</th><td>0.502076</td><td>0.301273</td><td>0.264452</td><td>0.574789</td><td>0.976604</td><td>0.261376</td><td>0.439503</td><td>0.0647753</td></tr><tr><th>19</th><td>0.450434</td><td>0.665669</td><td>0.648166</td><td>0.053733</td><td>0.546662</td><td>0.555058</td><td>0.271488</td><td>0.519957</td></tr><tr><th>20</th><td>0.44587</td><td>0.459155</td><td>0.464098</td><td>0.487003</td><td>0.405918</td><td>0.536733</td><td>0.378737</td><td>0.450529</td></tr><tr><th>21</th><td>0.542378</td><td>0.527117</td><td>0.371689</td><td>0.691241</td><td>0.107093</td><td>0.833408</td><td>0.0965144</td><td>0.368986</td></tr><tr><th>22</th><td>0.669897</td><td>0.664922</td><td>0.622139</td><td>0.133887</td><td>0.402061</td><td>0.397167</td><td>0.246108</td><td>0.734135</td></tr><tr><th>23</th><td>0.629783</td><td>0.200161</td><td>0.32651</td><td>0.906532</td><td>0.204959</td><td>0.557692</td><td>0.614071</td><td>0.579697</td></tr><tr><th>24</th><td>0.411584</td><td>0.260469</td><td>0.0455288</td><td>0.552722</td><td>0.698403</td><td>0.919109</td><td>0.672511</td><td>0.360388</td></tr><tr><th>25</th><td>0.305997</td><td>0.441539</td><td>0.91563</td><td>0.0905758</td><td>0.839354</td><td>0.297998</td><td>0.370569</td><td>0.693888</td></tr><tr><th>26</th><td>0.708904</td><td>0.331038</td><td>0.76662</td><td>0.898491</td><td>0.483878</td><td>0.696153</td><td>0.564596</td><td>0.542634</td></tr><tr><th>27</th><td>0.801126</td><td>0.954448</td><td>0.723712</td><td>0.441696</td><td>0.465846</td><td>0.475121</td><td>0.35621</td><td>0.373658</td></tr><tr><th>28</th><td>0.576402</td><td>0.349992</td><td>0.594552</td><td>0.126931</td><td>0.611318</td><td>0.516955</td><td>0.610987</td><td>0.480667</td></tr><tr><th>29</th><td>0.617537</td><td>0.726191</td><td>0.640535</td><td>0.20074</td><td>0.297947</td><td>0.509823</td><td>0.406331</td><td>0.625572</td></tr><tr><th>30</th><td>0.503111</td><td>0.916579</td><td>0.823435</td><td>0.416974</td><td>0.608272</td><td>0.356364</td><td>0.555124</td><td>0.217127</td></tr><tr><th>&vellip;</th><td>&vellip;</td><td>&vellip;</td><td>&vellip;</td><td>&vellip;</td><td>&vellip;</td><td>&vellip;</td><td>&vellip;</td><td>&vellip;</td></tr></tbody></table>"
      ],
      "text/latex": [
       "\\begin{tabular}{r|ccccccccc}\n",
       "\t& Column1 & Column2 & Column3 & Column4 & Column5 & Column6 & Column7 & Column8 & \\\\\n",
       "\t\\hline\n",
       "\t& Float64 & Float64 & Float64 & Float64 & Float64 & Float64 & Float64 & Float64 & \\\\\n",
       "\t\\hline\n",
       "\t1 & 0.325524 & 0.950538 & 0.357411 & 0.389105 & 0.194585 & 0.184043 & 0.237166 & 0.485226 & $\\dots$ \\\\\n",
       "\t2 & 0.652948 & 0.704087 & 0.861773 & 0.837654 & 0.434892 & 0.379896 & 0.744429 & 0.225178 & $\\dots$ \\\\\n",
       "\t3 & 0.290786 & 0.383286 & 0.833265 & 0.9898 & 0.638877 & 0.0566432 & 0.936918 & 0.222246 & $\\dots$ \\\\\n",
       "\t4 & 0.749271 & 0.479017 & 0.0575158 & 0.904464 & 0.506446 & 0.166152 & 0.47365 & 0.285476 & $\\dots$ \\\\\n",
       "\t5 & 0.60662 & 0.653666 & 0.589511 & 0.0862952 & 0.499406 & 0.199111 & 0.0911868 & 0.151885 & $\\dots$ \\\\\n",
       "\t6 & 0.657132 & 0.329131 & 0.215921 & 0.33697 & 0.326447 & 0.371088 & 0.521115 & 0.341996 & $\\dots$ \\\\\n",
       "\t7 & 0.287145 & 0.397668 & 0.518124 & 0.920083 & 0.448945 & 0.527357 & 0.81018 & 0.539941 & $\\dots$ \\\\\n",
       "\t8 & 0.677486 & 0.642819 & 0.279754 & 0.225433 & 0.128728 & 0.543143 & 0.903321 & 0.528444 & $\\dots$ \\\\\n",
       "\t9 & 0.482049 & 0.555148 & 0.955058 & 0.503599 & 0.50785 & 0.411249 & 0.702991 & 0.805342 & $\\dots$ \\\\\n",
       "\t10 & 0.335434 & 0.281389 & 0.618836 & 0.666675 & 0.652585 & 0.623918 & 0.80255 & 0.584131 & $\\dots$ \\\\\n",
       "\t11 & 0.458438 & 0.735938 & 0.266868 & 0.106359 & 0.630907 & 0.496983 & 0.638357 & 0.161225 & $\\dots$ \\\\\n",
       "\t12 & 0.310861 & 0.412033 & 0.303915 & 0.419046 & 0.376088 & 0.402153 & 0.449262 & 0.494171 & $\\dots$ \\\\\n",
       "\t13 & 0.576896 & 0.294779 & 0.96941 & 0.75033 & 0.520029 & 0.537296 & 0.909499 & 0.306723 & $\\dots$ \\\\\n",
       "\t14 & 0.392065 & 0.435471 & 0.598637 & 0.931822 & 0.45636 & 0.464672 & 0.543519 & 0.510021 & $\\dots$ \\\\\n",
       "\t15 & 0.425576 & 0.348063 & 0.180856 & 0.301368 & 0.85775 & 0.42866 & 0.510179 & 0.615141 & $\\dots$ \\\\\n",
       "\t16 & 0.359006 & 0.577339 & 0.54691 & 0.884851 & 0.880364 & 0.783504 & 0.527174 & 0.352456 & $\\dots$ \\\\\n",
       "\t17 & 0.589832 & 0.558778 & 0.426632 & 0.290842 & 0.727711 & 0.555608 & 0.586813 & 0.365777 & $\\dots$ \\\\\n",
       "\t18 & 0.502076 & 0.301273 & 0.264452 & 0.574789 & 0.976604 & 0.261376 & 0.439503 & 0.0647753 & $\\dots$ \\\\\n",
       "\t19 & 0.450434 & 0.665669 & 0.648166 & 0.053733 & 0.546662 & 0.555058 & 0.271488 & 0.519957 & $\\dots$ \\\\\n",
       "\t20 & 0.44587 & 0.459155 & 0.464098 & 0.487003 & 0.405918 & 0.536733 & 0.378737 & 0.450529 & $\\dots$ \\\\\n",
       "\t21 & 0.542378 & 0.527117 & 0.371689 & 0.691241 & 0.107093 & 0.833408 & 0.0965144 & 0.368986 & $\\dots$ \\\\\n",
       "\t22 & 0.669897 & 0.664922 & 0.622139 & 0.133887 & 0.402061 & 0.397167 & 0.246108 & 0.734135 & $\\dots$ \\\\\n",
       "\t23 & 0.629783 & 0.200161 & 0.32651 & 0.906532 & 0.204959 & 0.557692 & 0.614071 & 0.579697 & $\\dots$ \\\\\n",
       "\t24 & 0.411584 & 0.260469 & 0.0455288 & 0.552722 & 0.698403 & 0.919109 & 0.672511 & 0.360388 & $\\dots$ \\\\\n",
       "\t25 & 0.305997 & 0.441539 & 0.91563 & 0.0905758 & 0.839354 & 0.297998 & 0.370569 & 0.693888 & $\\dots$ \\\\\n",
       "\t26 & 0.708904 & 0.331038 & 0.76662 & 0.898491 & 0.483878 & 0.696153 & 0.564596 & 0.542634 & $\\dots$ \\\\\n",
       "\t27 & 0.801126 & 0.954448 & 0.723712 & 0.441696 & 0.465846 & 0.475121 & 0.35621 & 0.373658 & $\\dots$ \\\\\n",
       "\t28 & 0.576402 & 0.349992 & 0.594552 & 0.126931 & 0.611318 & 0.516955 & 0.610987 & 0.480667 & $\\dots$ \\\\\n",
       "\t29 & 0.617537 & 0.726191 & 0.640535 & 0.20074 & 0.297947 & 0.509823 & 0.406331 & 0.625572 & $\\dots$ \\\\\n",
       "\t30 & 0.503111 & 0.916579 & 0.823435 & 0.416974 & 0.608272 & 0.356364 & 0.555124 & 0.217127 & $\\dots$ \\\\\n",
       "\t$\\dots$ & $\\dots$ & $\\dots$ & $\\dots$ & $\\dots$ & $\\dots$ & $\\dots$ & $\\dots$ & $\\dots$ &  \\\\\n",
       "\\end{tabular}\n"
      ],
      "text/plain": [
       "400×16 DataFrame. Omitted printing of 10 columns\n",
       "│ Row │ Column1  │ Column2  │ Column3   │ Column4   │ Column5  │ Column6   │\n",
       "│     │ \u001b[90mFloat64\u001b[39m  │ \u001b[90mFloat64\u001b[39m  │ \u001b[90mFloat64\u001b[39m   │ \u001b[90mFloat64\u001b[39m   │ \u001b[90mFloat64\u001b[39m  │ \u001b[90mFloat64\u001b[39m   │\n",
       "├─────┼──────────┼──────────┼───────────┼───────────┼──────────┼───────────┤\n",
       "│ 1   │ 0.325524 │ 0.950538 │ 0.357411  │ 0.389105  │ 0.194585 │ 0.184043  │\n",
       "│ 2   │ 0.652948 │ 0.704087 │ 0.861773  │ 0.837654  │ 0.434892 │ 0.379896  │\n",
       "│ 3   │ 0.290786 │ 0.383286 │ 0.833265  │ 0.9898    │ 0.638877 │ 0.0566432 │\n",
       "│ 4   │ 0.749271 │ 0.479017 │ 0.0575158 │ 0.904464  │ 0.506446 │ 0.166152  │\n",
       "│ 5   │ 0.60662  │ 0.653666 │ 0.589511  │ 0.0862952 │ 0.499406 │ 0.199111  │\n",
       "│ 6   │ 0.657132 │ 0.329131 │ 0.215921  │ 0.33697   │ 0.326447 │ 0.371088  │\n",
       "│ 7   │ 0.287145 │ 0.397668 │ 0.518124  │ 0.920083  │ 0.448945 │ 0.527357  │\n",
       "│ 8   │ 0.677486 │ 0.642819 │ 0.279754  │ 0.225433  │ 0.128728 │ 0.543143  │\n",
       "│ 9   │ 0.482049 │ 0.555148 │ 0.955058  │ 0.503599  │ 0.50785  │ 0.411249  │\n",
       "│ 10  │ 0.335434 │ 0.281389 │ 0.618836  │ 0.666675  │ 0.652585 │ 0.623918  │\n",
       "⋮\n",
       "│ 390 │ 0.689604 │ 0.18274  │ 0.0773333 │ 0.0786033 │ 0.468915 │ 0.552519  │\n",
       "│ 391 │ 0.823232 │ 0.496345 │ 0.818769  │ 0.0562795 │ 0.887363 │ 0.723541  │\n",
       "│ 392 │ 0.52157  │ 0.77115  │ 0.130445  │ 0.439108  │ 0.648234 │ 0.63025   │\n",
       "│ 393 │ 0.331634 │ 0.584108 │ 0.370114  │ 0.774935  │ 0.152599 │ 0.644087  │\n",
       "│ 394 │ 0.879449 │ 0.403628 │ 0.260727  │ 0.785875  │ 0.462214 │ 0.231174  │\n",
       "│ 395 │ 0.181605 │ 0.231573 │ 0.853557  │ 0.213557  │ 0.390841 │ 0.483039  │\n",
       "│ 396 │ 0.260827 │ 0.599174 │ 0.219731  │ 0.793242  │ 0.667713 │ 0.31699   │\n",
       "│ 397 │ 0.711291 │ 0.206614 │ 0.543204  │ 0.874076  │ 0.912797 │ 0.221809  │\n",
       "│ 398 │ 0.306579 │ 0.470404 │ 0.680667  │ 0.25232   │ 0.0      │ 0.278409  │\n",
       "│ 399 │ 0.692603 │ 0.662464 │ 0.988678  │ 0.610005  │ 0.470332 │ 0.516158  │\n",
       "│ 400 │ 0.456645 │ 0.515678 │ 0.888828  │ 0.104131  │ 0.310573 │ 0.436043  │"
      ]
     },
     "execution_count": 62,
     "metadata": {},
     "output_type": "execute_result"
    }
   ],
   "source": [
    "x_prime_norm=normalize(x_prime_df)"
   ]
  },
  {
   "cell_type": "code",
   "execution_count": 63,
   "metadata": {},
   "outputs": [
    {
     "data": {
      "text/html": [
       "400×16 GeoDataFrame (Column1, Column2, Column3, Column4, Column5, Column6, Column7, Column8, Column9, Column10, Column11, Column12, Column13, Column14 and Column15)\n",
       "<table class=\"data-frame\"><thead><tr><th></th><th>Column1</th><th>Column2</th><th>Column3</th><th>Column4</th><th>Column5</th><th>Column6</th><th>Column7</th><th>Column8</th></tr><tr><th></th><th>Float64</th><th>Float64</th><th>Float64</th><th>Float64</th><th>Float64</th><th>Float64</th><th>Float64</th><th>Float64</th></tr></thead><tbody><tr><th>1</th><td>0.325524</td><td>0.950538</td><td>0.357411</td><td>0.389105</td><td>0.194585</td><td>0.184043</td><td>0.237166</td><td>0.485226</td></tr><tr><th>2</th><td>0.652948</td><td>0.704087</td><td>0.861773</td><td>0.837654</td><td>0.434892</td><td>0.379896</td><td>0.744429</td><td>0.225178</td></tr><tr><th>3</th><td>0.290786</td><td>0.383286</td><td>0.833265</td><td>0.9898</td><td>0.638877</td><td>0.0566432</td><td>0.936918</td><td>0.222246</td></tr><tr><th>4</th><td>0.749271</td><td>0.479017</td><td>0.0575158</td><td>0.904464</td><td>0.506446</td><td>0.166152</td><td>0.47365</td><td>0.285476</td></tr><tr><th>5</th><td>0.60662</td><td>0.653666</td><td>0.589511</td><td>0.0862952</td><td>0.499406</td><td>0.199111</td><td>0.0911868</td><td>0.151885</td></tr><tr><th>6</th><td>0.657132</td><td>0.329131</td><td>0.215921</td><td>0.33697</td><td>0.326447</td><td>0.371088</td><td>0.521115</td><td>0.341996</td></tr><tr><th>7</th><td>0.287145</td><td>0.397668</td><td>0.518124</td><td>0.920083</td><td>0.448945</td><td>0.527357</td><td>0.81018</td><td>0.539941</td></tr><tr><th>8</th><td>0.677486</td><td>0.642819</td><td>0.279754</td><td>0.225433</td><td>0.128728</td><td>0.543143</td><td>0.903321</td><td>0.528444</td></tr><tr><th>9</th><td>0.482049</td><td>0.555148</td><td>0.955058</td><td>0.503599</td><td>0.50785</td><td>0.411249</td><td>0.702991</td><td>0.805342</td></tr><tr><th>10</th><td>0.335434</td><td>0.281389</td><td>0.618836</td><td>0.666675</td><td>0.652585</td><td>0.623918</td><td>0.80255</td><td>0.584131</td></tr><tr><th>11</th><td>0.458438</td><td>0.735938</td><td>0.266868</td><td>0.106359</td><td>0.630907</td><td>0.496983</td><td>0.638357</td><td>0.161225</td></tr><tr><th>12</th><td>0.310861</td><td>0.412033</td><td>0.303915</td><td>0.419046</td><td>0.376088</td><td>0.402153</td><td>0.449262</td><td>0.494171</td></tr><tr><th>13</th><td>0.576896</td><td>0.294779</td><td>0.96941</td><td>0.75033</td><td>0.520029</td><td>0.537296</td><td>0.909499</td><td>0.306723</td></tr><tr><th>14</th><td>0.392065</td><td>0.435471</td><td>0.598637</td><td>0.931822</td><td>0.45636</td><td>0.464672</td><td>0.543519</td><td>0.510021</td></tr><tr><th>15</th><td>0.425576</td><td>0.348063</td><td>0.180856</td><td>0.301368</td><td>0.85775</td><td>0.42866</td><td>0.510179</td><td>0.615141</td></tr><tr><th>16</th><td>0.359006</td><td>0.577339</td><td>0.54691</td><td>0.884851</td><td>0.880364</td><td>0.783504</td><td>0.527174</td><td>0.352456</td></tr><tr><th>17</th><td>0.589832</td><td>0.558778</td><td>0.426632</td><td>0.290842</td><td>0.727711</td><td>0.555608</td><td>0.586813</td><td>0.365777</td></tr><tr><th>18</th><td>0.502076</td><td>0.301273</td><td>0.264452</td><td>0.574789</td><td>0.976604</td><td>0.261376</td><td>0.439503</td><td>0.0647753</td></tr><tr><th>19</th><td>0.450434</td><td>0.665669</td><td>0.648166</td><td>0.053733</td><td>0.546662</td><td>0.555058</td><td>0.271488</td><td>0.519957</td></tr><tr><th>20</th><td>0.44587</td><td>0.459155</td><td>0.464098</td><td>0.487003</td><td>0.405918</td><td>0.536733</td><td>0.378737</td><td>0.450529</td></tr><tr><th>21</th><td>0.542378</td><td>0.527117</td><td>0.371689</td><td>0.691241</td><td>0.107093</td><td>0.833408</td><td>0.0965144</td><td>0.368986</td></tr><tr><th>22</th><td>0.669897</td><td>0.664922</td><td>0.622139</td><td>0.133887</td><td>0.402061</td><td>0.397167</td><td>0.246108</td><td>0.734135</td></tr><tr><th>23</th><td>0.629783</td><td>0.200161</td><td>0.32651</td><td>0.906532</td><td>0.204959</td><td>0.557692</td><td>0.614071</td><td>0.579697</td></tr><tr><th>24</th><td>0.411584</td><td>0.260469</td><td>0.0455288</td><td>0.552722</td><td>0.698403</td><td>0.919109</td><td>0.672511</td><td>0.360388</td></tr><tr><th>25</th><td>0.305997</td><td>0.441539</td><td>0.91563</td><td>0.0905758</td><td>0.839354</td><td>0.297998</td><td>0.370569</td><td>0.693888</td></tr><tr><th>26</th><td>0.708904</td><td>0.331038</td><td>0.76662</td><td>0.898491</td><td>0.483878</td><td>0.696153</td><td>0.564596</td><td>0.542634</td></tr><tr><th>27</th><td>0.801126</td><td>0.954448</td><td>0.723712</td><td>0.441696</td><td>0.465846</td><td>0.475121</td><td>0.35621</td><td>0.373658</td></tr><tr><th>28</th><td>0.576402</td><td>0.349992</td><td>0.594552</td><td>0.126931</td><td>0.611318</td><td>0.516955</td><td>0.610987</td><td>0.480667</td></tr><tr><th>29</th><td>0.617537</td><td>0.726191</td><td>0.640535</td><td>0.20074</td><td>0.297947</td><td>0.509823</td><td>0.406331</td><td>0.625572</td></tr><tr><th>30</th><td>0.503111</td><td>0.916579</td><td>0.823435</td><td>0.416974</td><td>0.608272</td><td>0.356364</td><td>0.555124</td><td>0.217127</td></tr><tr><th>&vellip;</th><td>&vellip;</td><td>&vellip;</td><td>&vellip;</td><td>&vellip;</td><td>&vellip;</td><td>&vellip;</td><td>&vellip;</td><td>&vellip;</td></tr></tbody></table>"
      ],
      "text/plain": [
       "400×16 GeoDataFrame (Column1, Column2, Column3, Column4, Column5, Column6, Column7, Column8, Column9, Column10, Column11, Column12, Column13, Column14 and Column15)\n",
       "\n",
       "│ Row │ Column1  │ Column2  │ Column3   │ Column4   │ Column5  │ Column6   │\n",
       "│     │ \u001b[90mFloat64\u001b[39m  │ \u001b[90mFloat64\u001b[39m  │ \u001b[90mFloat64\u001b[39m   │ \u001b[90mFloat64\u001b[39m   │ \u001b[90mFloat64\u001b[39m  │ \u001b[90mFloat64\u001b[39m   │\n",
       "├─────┼──────────┼──────────┼───────────┼───────────┼──────────┼───────────┤\n",
       "│ 1   │ 0.325524 │ 0.950538 │ 0.357411  │ 0.389105  │ 0.194585 │ 0.184043  │\n",
       "│ 2   │ 0.652948 │ 0.704087 │ 0.861773  │ 0.837654  │ 0.434892 │ 0.379896  │\n",
       "│ 3   │ 0.290786 │ 0.383286 │ 0.833265  │ 0.9898    │ 0.638877 │ 0.0566432 │\n",
       "│ 4   │ 0.749271 │ 0.479017 │ 0.0575158 │ 0.904464  │ 0.506446 │ 0.166152  │\n",
       "│ 5   │ 0.60662  │ 0.653666 │ 0.589511  │ 0.0862952 │ 0.499406 │ 0.199111  │\n",
       "│ 6   │ 0.657132 │ 0.329131 │ 0.215921  │ 0.33697   │ 0.326447 │ 0.371088  │\n",
       "│ 7   │ 0.287145 │ 0.397668 │ 0.518124  │ 0.920083  │ 0.448945 │ 0.527357  │\n",
       "│ 8   │ 0.677486 │ 0.642819 │ 0.279754  │ 0.225433  │ 0.128728 │ 0.543143  │\n",
       "│ 9   │ 0.482049 │ 0.555148 │ 0.955058  │ 0.503599  │ 0.50785  │ 0.411249  │\n",
       "│ 10  │ 0.335434 │ 0.281389 │ 0.618836  │ 0.666675  │ 0.652585 │ 0.623918  │\n",
       "⋮\n",
       "│ 390 │ 0.689604 │ 0.18274  │ 0.0773333 │ 0.0786033 │ 0.468915 │ 0.552519  │\n",
       "│ 391 │ 0.823232 │ 0.496345 │ 0.818769  │ 0.0562795 │ 0.887363 │ 0.723541  │\n",
       "│ 392 │ 0.52157  │ 0.77115  │ 0.130445  │ 0.439108  │ 0.648234 │ 0.63025   │\n",
       "│ 393 │ 0.331634 │ 0.584108 │ 0.370114  │ 0.774935  │ 0.152599 │ 0.644087  │\n",
       "│ 394 │ 0.879449 │ 0.403628 │ 0.260727  │ 0.785875  │ 0.462214 │ 0.231174  │\n",
       "│ 395 │ 0.181605 │ 0.231573 │ 0.853557  │ 0.213557  │ 0.390841 │ 0.483039  │\n",
       "│ 396 │ 0.260827 │ 0.599174 │ 0.219731  │ 0.793242  │ 0.667713 │ 0.31699   │\n",
       "│ 397 │ 0.711291 │ 0.206614 │ 0.543204  │ 0.874076  │ 0.912797 │ 0.221809  │\n",
       "│ 398 │ 0.306579 │ 0.470404 │ 0.680667  │ 0.25232   │ 0.0      │ 0.278409  │\n",
       "│ 399 │ 0.692603 │ 0.662464 │ 0.988678  │ 0.610005  │ 0.470332 │ 0.516158  │\n",
       "│ 400 │ 0.456645 │ 0.515678 │ 0.888828  │ 0.104131  │ 0.310573 │ 0.436043  │\n",
       "\n",
       "│ Row │ Column7   │ Column8   │ Column9  │ Column10  │ Column11 │ Column12 │\n",
       "│     │ \u001b[90mFloat64\u001b[39m   │ \u001b[90mFloat64\u001b[39m   │ \u001b[90mFloat64\u001b[39m  │ \u001b[90mFloat64\u001b[39m   │ \u001b[90mFloat64\u001b[39m  │ \u001b[90mFloat64\u001b[39m  │\n",
       "├─────┼───────────┼───────────┼──────────┼───────────┼──────────┼──────────┤\n",
       "│ 1   │ 0.237166  │ 0.485226  │ 0.595528 │ 0.547244  │ 0.654956 │ 0.917294 │\n",
       "│ 2   │ 0.744429  │ 0.225178  │ 0.469169 │ 0.401166  │ 0.35635  │ 0.346895 │\n",
       "│ 3   │ 0.936918  │ 0.222246  │ 0.608    │ 0.321378  │ 0.14359  │ 0.891789 │\n",
       "│ 4   │ 0.47365   │ 0.285476  │ 0.637091 │ 0.366316  │ 0.484531 │ 0.581004 │\n",
       "│ 5   │ 0.0911868 │ 0.151885  │ 0.773359 │ 0.454087  │ 0.166154 │ 0.111092 │\n",
       "│ 6   │ 0.521115  │ 0.341996  │ 0.343542 │ 0.71529   │ 0.341602 │ 0.13268  │\n",
       "│ 7   │ 0.81018   │ 0.539941  │ 0.786988 │ 0.335605  │ 0.60964  │ 0.909823 │\n",
       "│ 8   │ 0.903321  │ 0.528444  │ 0.547586 │ 0.454642  │ 0.326231 │ 0.790782 │\n",
       "│ 9   │ 0.702991  │ 0.805342  │ 0.385823 │ 0.124711  │ 0.61379  │ 0.101821 │\n",
       "│ 10  │ 0.80255   │ 0.584131  │ 0.564552 │ 0.173564  │ 0.369043 │ 0.733823 │\n",
       "⋮\n",
       "│ 390 │ 0.85038   │ 0.183147  │ 0.826505 │ 0.1564    │ 0.866105 │ 0.462156 │\n",
       "│ 391 │ 0.257225  │ 0.533645  │ 0.647509 │ 0.0928094 │ 0.118059 │ 0.617093 │\n",
       "│ 392 │ 0.799499  │ 0.0775044 │ 0.611276 │ 0.219411  │ 0.370339 │ 0.49767  │\n",
       "│ 393 │ 0.503204  │ 0.543762  │ 0.701075 │ 0.618125  │ 0.174547 │ 0.57798  │\n",
       "│ 394 │ 0.845066  │ 0.425855  │ 0.337822 │ 0.357632  │ 0.371781 │ 0.443058 │\n",
       "│ 395 │ 0.394809  │ 0.447603  │ 0.588359 │ 0.33007   │ 0.391436 │ 0.471273 │\n",
       "│ 396 │ 0.293408  │ 0.258968  │ 0.536052 │ 0.535193  │ 0.568434 │ 0.571393 │\n",
       "│ 397 │ 0.755526  │ 0.70027   │ 0.277198 │ 0.207312  │ 0.549721 │ 0.46456  │\n",
       "│ 398 │ 0.427144  │ 0.29278   │ 0.0      │ 0.551677  │ 0.713461 │ 0.644396 │\n",
       "│ 399 │ 0.5343    │ 0.628319  │ 0.229407 │ 0.556778  │ 0.652596 │ 0.741005 │\n",
       "│ 400 │ 0.422314  │ 0.468031  │ 0.808323 │ 0.512315  │ 0.352976 │ 0.821427 │\n",
       "\n",
       "│ Row │ Column13 │ Column14  │ Column15  │ result    │\n",
       "│     │ \u001b[90mFloat64\u001b[39m  │ \u001b[90mFloat64\u001b[39m   │ \u001b[90mFloat64\u001b[39m   │ \u001b[90mFloat64\u001b[39m   │\n",
       "├─────┼──────────┼───────────┼───────────┼───────────┤\n",
       "│ 1   │ 0.616287 │ 0.305131  │ 0.165657  │ 2.64432e5 │\n",
       "│ 2   │ 0.631708 │ 0.660561  │ 0.518479  │ 1.67688e5 │\n",
       "│ 3   │ 0.337034 │ 0.442042  │ 0.0338813 │ 6.70549e5 │\n",
       "│ 4   │ 0.708453 │ 0.545701  │ 0.448983  │ 1.1592e5  │\n",
       "│ 5   │ 0.598314 │ 0.859845  │ 0.214738  │ 6.93351e5 │\n",
       "│ 6   │ 0.543194 │ 0.185986  │ 0.314512  │ 5.5556e5  │\n",
       "│ 7   │ 0.428322 │ 0.239789  │ 0.514247  │ 188443.0  │\n",
       "│ 8   │ 0.487099 │ 0.737915  │ 0.0592817 │ 1.96863e5 │\n",
       "│ 9   │ 0.587627 │ 0.23451   │ 0.17101   │ 4.8118e5  │\n",
       "│ 10  │ 0.714444 │ 0.576413  │ 0.0776534 │ 853647.0  │\n",
       "⋮\n",
       "│ 390 │ 0.577367 │ 0.336914  │ 0.489229  │ 5.49584e5 │\n",
       "│ 391 │ 0.596867 │ 0.313593  │ 0.251555  │ 3.97004e5 │\n",
       "│ 392 │ 0.531304 │ 0.373839  │ 0.762161  │ 4.10825e5 │\n",
       "│ 393 │ 0.553285 │ 0.511117  │ 0.228625  │ 1.02428e5 │\n",
       "│ 394 │ 1.0      │ 0.777778  │ 0.609589  │ 317454.0  │\n",
       "│ 395 │ 0.678764 │ 0.0199391 │ 0.12525   │ 4.32704e5 │\n",
       "│ 396 │ 0.369327 │ 0.993252  │ 0.223371  │ 2.0702e5  │\n",
       "│ 397 │ 0.419024 │ 0.205527  │ 0.0665026 │ 1.19395e6 │\n",
       "│ 398 │ 0.458512 │ 0.832928  │ 0.293363  │ 5.86269e5 │\n",
       "│ 399 │ 0.399347 │ 0.0244992 │ 0.0554767 │ 7.86013e5 │\n",
       "│ 400 │ 0.415229 │ 0.632068  │ 0.657092  │ 859230.0  │"
      ]
     },
     "execution_count": 63,
     "metadata": {},
     "output_type": "execute_result"
    }
   ],
   "source": [
    "gdata=GeoDataFrame(x_prime_df, [:Column1,:Column2,:Column3,:Column4,:Column5,:Column6,:Column7,:Column8,:Column9,:Column10,:Column11,:Column12,:Column13,:Column14,:Column15])"
   ]
  },
  {
   "cell_type": "code",
   "execution_count": 64,
   "metadata": {},
   "outputs": [
    {
     "data": {
      "text/html": [
       "400×16 GeoDataFrame (Column1, Column2, Column3, Column4, Column5, Column6, Column7, Column8, Column9, Column10, Column11, Column12, Column13, Column14 and Column15)\n",
       "<table class=\"data-frame\"><thead><tr><th></th><th>Column1</th><th>Column2</th><th>Column3</th><th>Column4</th><th>Column5</th><th>Column6</th><th>Column7</th><th>Column8</th></tr><tr><th></th><th>Float64</th><th>Float64</th><th>Float64</th><th>Float64</th><th>Float64</th><th>Float64</th><th>Float64</th><th>Float64</th></tr></thead><tbody><tr><th>1</th><td>0.325524</td><td>0.950538</td><td>0.357411</td><td>0.389105</td><td>0.194585</td><td>0.184043</td><td>0.237166</td><td>0.485226</td></tr><tr><th>2</th><td>0.652948</td><td>0.704087</td><td>0.861773</td><td>0.837654</td><td>0.434892</td><td>0.379896</td><td>0.744429</td><td>0.225178</td></tr><tr><th>3</th><td>0.290786</td><td>0.383286</td><td>0.833265</td><td>0.9898</td><td>0.638877</td><td>0.0566432</td><td>0.936918</td><td>0.222246</td></tr><tr><th>4</th><td>0.749271</td><td>0.479017</td><td>0.0575158</td><td>0.904464</td><td>0.506446</td><td>0.166152</td><td>0.47365</td><td>0.285476</td></tr><tr><th>5</th><td>0.60662</td><td>0.653666</td><td>0.589511</td><td>0.0862952</td><td>0.499406</td><td>0.199111</td><td>0.0911868</td><td>0.151885</td></tr><tr><th>6</th><td>0.657132</td><td>0.329131</td><td>0.215921</td><td>0.33697</td><td>0.326447</td><td>0.371088</td><td>0.521115</td><td>0.341996</td></tr><tr><th>7</th><td>0.287145</td><td>0.397668</td><td>0.518124</td><td>0.920083</td><td>0.448945</td><td>0.527357</td><td>0.81018</td><td>0.539941</td></tr><tr><th>8</th><td>0.677486</td><td>0.642819</td><td>0.279754</td><td>0.225433</td><td>0.128728</td><td>0.543143</td><td>0.903321</td><td>0.528444</td></tr><tr><th>9</th><td>0.482049</td><td>0.555148</td><td>0.955058</td><td>0.503599</td><td>0.50785</td><td>0.411249</td><td>0.702991</td><td>0.805342</td></tr><tr><th>10</th><td>0.335434</td><td>0.281389</td><td>0.618836</td><td>0.666675</td><td>0.652585</td><td>0.623918</td><td>0.80255</td><td>0.584131</td></tr><tr><th>11</th><td>0.458438</td><td>0.735938</td><td>0.266868</td><td>0.106359</td><td>0.630907</td><td>0.496983</td><td>0.638357</td><td>0.161225</td></tr><tr><th>12</th><td>0.310861</td><td>0.412033</td><td>0.303915</td><td>0.419046</td><td>0.376088</td><td>0.402153</td><td>0.449262</td><td>0.494171</td></tr><tr><th>13</th><td>0.576896</td><td>0.294779</td><td>0.96941</td><td>0.75033</td><td>0.520029</td><td>0.537296</td><td>0.909499</td><td>0.306723</td></tr><tr><th>14</th><td>0.392065</td><td>0.435471</td><td>0.598637</td><td>0.931822</td><td>0.45636</td><td>0.464672</td><td>0.543519</td><td>0.510021</td></tr><tr><th>15</th><td>0.425576</td><td>0.348063</td><td>0.180856</td><td>0.301368</td><td>0.85775</td><td>0.42866</td><td>0.510179</td><td>0.615141</td></tr><tr><th>16</th><td>0.359006</td><td>0.577339</td><td>0.54691</td><td>0.884851</td><td>0.880364</td><td>0.783504</td><td>0.527174</td><td>0.352456</td></tr><tr><th>17</th><td>0.589832</td><td>0.558778</td><td>0.426632</td><td>0.290842</td><td>0.727711</td><td>0.555608</td><td>0.586813</td><td>0.365777</td></tr><tr><th>18</th><td>0.502076</td><td>0.301273</td><td>0.264452</td><td>0.574789</td><td>0.976604</td><td>0.261376</td><td>0.439503</td><td>0.0647753</td></tr><tr><th>19</th><td>0.450434</td><td>0.665669</td><td>0.648166</td><td>0.053733</td><td>0.546662</td><td>0.555058</td><td>0.271488</td><td>0.519957</td></tr><tr><th>20</th><td>0.44587</td><td>0.459155</td><td>0.464098</td><td>0.487003</td><td>0.405918</td><td>0.536733</td><td>0.378737</td><td>0.450529</td></tr><tr><th>21</th><td>0.542378</td><td>0.527117</td><td>0.371689</td><td>0.691241</td><td>0.107093</td><td>0.833408</td><td>0.0965144</td><td>0.368986</td></tr><tr><th>22</th><td>0.669897</td><td>0.664922</td><td>0.622139</td><td>0.133887</td><td>0.402061</td><td>0.397167</td><td>0.246108</td><td>0.734135</td></tr><tr><th>23</th><td>0.629783</td><td>0.200161</td><td>0.32651</td><td>0.906532</td><td>0.204959</td><td>0.557692</td><td>0.614071</td><td>0.579697</td></tr><tr><th>24</th><td>0.411584</td><td>0.260469</td><td>0.0455288</td><td>0.552722</td><td>0.698403</td><td>0.919109</td><td>0.672511</td><td>0.360388</td></tr><tr><th>25</th><td>0.305997</td><td>0.441539</td><td>0.91563</td><td>0.0905758</td><td>0.839354</td><td>0.297998</td><td>0.370569</td><td>0.693888</td></tr><tr><th>26</th><td>0.708904</td><td>0.331038</td><td>0.76662</td><td>0.898491</td><td>0.483878</td><td>0.696153</td><td>0.564596</td><td>0.542634</td></tr><tr><th>27</th><td>0.801126</td><td>0.954448</td><td>0.723712</td><td>0.441696</td><td>0.465846</td><td>0.475121</td><td>0.35621</td><td>0.373658</td></tr><tr><th>28</th><td>0.576402</td><td>0.349992</td><td>0.594552</td><td>0.126931</td><td>0.611318</td><td>0.516955</td><td>0.610987</td><td>0.480667</td></tr><tr><th>29</th><td>0.617537</td><td>0.726191</td><td>0.640535</td><td>0.20074</td><td>0.297947</td><td>0.509823</td><td>0.406331</td><td>0.625572</td></tr><tr><th>30</th><td>0.503111</td><td>0.916579</td><td>0.823435</td><td>0.416974</td><td>0.608272</td><td>0.356364</td><td>0.555124</td><td>0.217127</td></tr><tr><th>&vellip;</th><td>&vellip;</td><td>&vellip;</td><td>&vellip;</td><td>&vellip;</td><td>&vellip;</td><td>&vellip;</td><td>&vellip;</td><td>&vellip;</td></tr></tbody></table>"
      ],
      "text/plain": [
       "400×16 GeoDataFrame (Column1, Column2, Column3, Column4, Column5, Column6, Column7, Column8, Column9, Column10, Column11, Column12, Column13, Column14 and Column15)\n",
       "\n",
       "│ Row │ Column1  │ Column2  │ Column3   │ Column4   │ Column5  │ Column6   │\n",
       "│     │ \u001b[90mFloat64\u001b[39m  │ \u001b[90mFloat64\u001b[39m  │ \u001b[90mFloat64\u001b[39m   │ \u001b[90mFloat64\u001b[39m   │ \u001b[90mFloat64\u001b[39m  │ \u001b[90mFloat64\u001b[39m   │\n",
       "├─────┼──────────┼──────────┼───────────┼───────────┼──────────┼───────────┤\n",
       "│ 1   │ 0.325524 │ 0.950538 │ 0.357411  │ 0.389105  │ 0.194585 │ 0.184043  │\n",
       "│ 2   │ 0.652948 │ 0.704087 │ 0.861773  │ 0.837654  │ 0.434892 │ 0.379896  │\n",
       "│ 3   │ 0.290786 │ 0.383286 │ 0.833265  │ 0.9898    │ 0.638877 │ 0.0566432 │\n",
       "│ 4   │ 0.749271 │ 0.479017 │ 0.0575158 │ 0.904464  │ 0.506446 │ 0.166152  │\n",
       "│ 5   │ 0.60662  │ 0.653666 │ 0.589511  │ 0.0862952 │ 0.499406 │ 0.199111  │\n",
       "│ 6   │ 0.657132 │ 0.329131 │ 0.215921  │ 0.33697   │ 0.326447 │ 0.371088  │\n",
       "│ 7   │ 0.287145 │ 0.397668 │ 0.518124  │ 0.920083  │ 0.448945 │ 0.527357  │\n",
       "│ 8   │ 0.677486 │ 0.642819 │ 0.279754  │ 0.225433  │ 0.128728 │ 0.543143  │\n",
       "│ 9   │ 0.482049 │ 0.555148 │ 0.955058  │ 0.503599  │ 0.50785  │ 0.411249  │\n",
       "│ 10  │ 0.335434 │ 0.281389 │ 0.618836  │ 0.666675  │ 0.652585 │ 0.623918  │\n",
       "⋮\n",
       "│ 390 │ 0.689604 │ 0.18274  │ 0.0773333 │ 0.0786033 │ 0.468915 │ 0.552519  │\n",
       "│ 391 │ 0.823232 │ 0.496345 │ 0.818769  │ 0.0562795 │ 0.887363 │ 0.723541  │\n",
       "│ 392 │ 0.52157  │ 0.77115  │ 0.130445  │ 0.439108  │ 0.648234 │ 0.63025   │\n",
       "│ 393 │ 0.331634 │ 0.584108 │ 0.370114  │ 0.774935  │ 0.152599 │ 0.644087  │\n",
       "│ 394 │ 0.879449 │ 0.403628 │ 0.260727  │ 0.785875  │ 0.462214 │ 0.231174  │\n",
       "│ 395 │ 0.181605 │ 0.231573 │ 0.853557  │ 0.213557  │ 0.390841 │ 0.483039  │\n",
       "│ 396 │ 0.260827 │ 0.599174 │ 0.219731  │ 0.793242  │ 0.667713 │ 0.31699   │\n",
       "│ 397 │ 0.711291 │ 0.206614 │ 0.543204  │ 0.874076  │ 0.912797 │ 0.221809  │\n",
       "│ 398 │ 0.306579 │ 0.470404 │ 0.680667  │ 0.25232   │ 0.0      │ 0.278409  │\n",
       "│ 399 │ 0.692603 │ 0.662464 │ 0.988678  │ 0.610005  │ 0.470332 │ 0.516158  │\n",
       "│ 400 │ 0.456645 │ 0.515678 │ 0.888828  │ 0.104131  │ 0.310573 │ 0.436043  │\n",
       "\n",
       "│ Row │ Column7   │ Column8   │ Column9  │ Column10  │ Column11 │ Column12 │\n",
       "│     │ \u001b[90mFloat64\u001b[39m   │ \u001b[90mFloat64\u001b[39m   │ \u001b[90mFloat64\u001b[39m  │ \u001b[90mFloat64\u001b[39m   │ \u001b[90mFloat64\u001b[39m  │ \u001b[90mFloat64\u001b[39m  │\n",
       "├─────┼───────────┼───────────┼──────────┼───────────┼──────────┼──────────┤\n",
       "│ 1   │ 0.237166  │ 0.485226  │ 0.595528 │ 0.547244  │ 0.654956 │ 0.917294 │\n",
       "│ 2   │ 0.744429  │ 0.225178  │ 0.469169 │ 0.401166  │ 0.35635  │ 0.346895 │\n",
       "│ 3   │ 0.936918  │ 0.222246  │ 0.608    │ 0.321378  │ 0.14359  │ 0.891789 │\n",
       "│ 4   │ 0.47365   │ 0.285476  │ 0.637091 │ 0.366316  │ 0.484531 │ 0.581004 │\n",
       "│ 5   │ 0.0911868 │ 0.151885  │ 0.773359 │ 0.454087  │ 0.166154 │ 0.111092 │\n",
       "│ 6   │ 0.521115  │ 0.341996  │ 0.343542 │ 0.71529   │ 0.341602 │ 0.13268  │\n",
       "│ 7   │ 0.81018   │ 0.539941  │ 0.786988 │ 0.335605  │ 0.60964  │ 0.909823 │\n",
       "│ 8   │ 0.903321  │ 0.528444  │ 0.547586 │ 0.454642  │ 0.326231 │ 0.790782 │\n",
       "│ 9   │ 0.702991  │ 0.805342  │ 0.385823 │ 0.124711  │ 0.61379  │ 0.101821 │\n",
       "│ 10  │ 0.80255   │ 0.584131  │ 0.564552 │ 0.173564  │ 0.369043 │ 0.733823 │\n",
       "⋮\n",
       "│ 390 │ 0.85038   │ 0.183147  │ 0.826505 │ 0.1564    │ 0.866105 │ 0.462156 │\n",
       "│ 391 │ 0.257225  │ 0.533645  │ 0.647509 │ 0.0928094 │ 0.118059 │ 0.617093 │\n",
       "│ 392 │ 0.799499  │ 0.0775044 │ 0.611276 │ 0.219411  │ 0.370339 │ 0.49767  │\n",
       "│ 393 │ 0.503204  │ 0.543762  │ 0.701075 │ 0.618125  │ 0.174547 │ 0.57798  │\n",
       "│ 394 │ 0.845066  │ 0.425855  │ 0.337822 │ 0.357632  │ 0.371781 │ 0.443058 │\n",
       "│ 395 │ 0.394809  │ 0.447603  │ 0.588359 │ 0.33007   │ 0.391436 │ 0.471273 │\n",
       "│ 396 │ 0.293408  │ 0.258968  │ 0.536052 │ 0.535193  │ 0.568434 │ 0.571393 │\n",
       "│ 397 │ 0.755526  │ 0.70027   │ 0.277198 │ 0.207312  │ 0.549721 │ 0.46456  │\n",
       "│ 398 │ 0.427144  │ 0.29278   │ 0.0      │ 0.551677  │ 0.713461 │ 0.644396 │\n",
       "│ 399 │ 0.5343    │ 0.628319  │ 0.229407 │ 0.556778  │ 0.652596 │ 0.741005 │\n",
       "│ 400 │ 0.422314  │ 0.468031  │ 0.808323 │ 0.512315  │ 0.352976 │ 0.821427 │\n",
       "\n",
       "│ Row │ Column13 │ Column14  │ Column15  │ result    │\n",
       "│     │ \u001b[90mFloat64\u001b[39m  │ \u001b[90mFloat64\u001b[39m   │ \u001b[90mFloat64\u001b[39m   │ \u001b[90mFloat64\u001b[39m   │\n",
       "├─────┼──────────┼───────────┼───────────┼───────────┤\n",
       "│ 1   │ 0.616287 │ 0.305131  │ 0.165657  │ 2.64432e5 │\n",
       "│ 2   │ 0.631708 │ 0.660561  │ 0.518479  │ 1.67688e5 │\n",
       "│ 3   │ 0.337034 │ 0.442042  │ 0.0338813 │ 6.70549e5 │\n",
       "│ 4   │ 0.708453 │ 0.545701  │ 0.448983  │ 1.1592e5  │\n",
       "│ 5   │ 0.598314 │ 0.859845  │ 0.214738  │ 6.93351e5 │\n",
       "│ 6   │ 0.543194 │ 0.185986  │ 0.314512  │ 5.5556e5  │\n",
       "│ 7   │ 0.428322 │ 0.239789  │ 0.514247  │ 188443.0  │\n",
       "│ 8   │ 0.487099 │ 0.737915  │ 0.0592817 │ 1.96863e5 │\n",
       "│ 9   │ 0.587627 │ 0.23451   │ 0.17101   │ 4.8118e5  │\n",
       "│ 10  │ 0.714444 │ 0.576413  │ 0.0776534 │ 853647.0  │\n",
       "⋮\n",
       "│ 390 │ 0.577367 │ 0.336914  │ 0.489229  │ 5.49584e5 │\n",
       "│ 391 │ 0.596867 │ 0.313593  │ 0.251555  │ 3.97004e5 │\n",
       "│ 392 │ 0.531304 │ 0.373839  │ 0.762161  │ 4.10825e5 │\n",
       "│ 393 │ 0.553285 │ 0.511117  │ 0.228625  │ 1.02428e5 │\n",
       "│ 394 │ 1.0      │ 0.777778  │ 0.609589  │ 317454.0  │\n",
       "│ 395 │ 0.678764 │ 0.0199391 │ 0.12525   │ 4.32704e5 │\n",
       "│ 396 │ 0.369327 │ 0.993252  │ 0.223371  │ 2.0702e5  │\n",
       "│ 397 │ 0.419024 │ 0.205527  │ 0.0665026 │ 1.19395e6 │\n",
       "│ 398 │ 0.458512 │ 0.832928  │ 0.293363  │ 5.86269e5 │\n",
       "│ 399 │ 0.399347 │ 0.0244992 │ 0.0554767 │ 7.86013e5 │\n",
       "│ 400 │ 0.415229 │ 0.632068  │ 0.657092  │ 859230.0  │"
      ]
     },
     "execution_count": 64,
     "metadata": {},
     "output_type": "execute_result"
    }
   ],
   "source": [
    "gdata_norm=GeoDataFrame(x_prime_norm, [:Column1,:Column2,:Column3,:Column4,:Column5,:Column6,:Column7,:Column8,:Column9,:Column10,:Column11,:Column12,:Column13,:Column14,:Column15])"
   ]
  },
  {
   "cell_type": "code",
   "execution_count": 65,
   "metadata": {},
   "outputs": [
    {
     "data": {
      "text/html": [
       "300×16 GeoDataFrame (Column1, Column2, Column3, Column4, Column5, Column6, Column7, Column8, Column9, Column10, Column11, Column12, Column13, Column14 and Column15)\n",
       "<table class=\"data-frame\"><thead><tr><th></th><th>Column1</th><th>Column2</th><th>Column3</th><th>Column4</th><th>Column5</th><th>Column6</th><th>Column7</th><th>Column8</th></tr><tr><th></th><th>Float64</th><th>Float64</th><th>Float64</th><th>Float64</th><th>Float64</th><th>Float64</th><th>Float64</th><th>Float64</th></tr></thead><tbody><tr><th>1</th><td>0.325524</td><td>0.950538</td><td>0.357411</td><td>0.389105</td><td>0.194585</td><td>0.184043</td><td>0.237166</td><td>0.485226</td></tr><tr><th>2</th><td>0.652948</td><td>0.704087</td><td>0.861773</td><td>0.837654</td><td>0.434892</td><td>0.379896</td><td>0.744429</td><td>0.225178</td></tr><tr><th>3</th><td>0.290786</td><td>0.383286</td><td>0.833265</td><td>0.9898</td><td>0.638877</td><td>0.0566432</td><td>0.936918</td><td>0.222246</td></tr><tr><th>4</th><td>0.749271</td><td>0.479017</td><td>0.0575158</td><td>0.904464</td><td>0.506446</td><td>0.166152</td><td>0.47365</td><td>0.285476</td></tr><tr><th>5</th><td>0.60662</td><td>0.653666</td><td>0.589511</td><td>0.0862952</td><td>0.499406</td><td>0.199111</td><td>0.0911868</td><td>0.151885</td></tr><tr><th>6</th><td>0.657132</td><td>0.329131</td><td>0.215921</td><td>0.33697</td><td>0.326447</td><td>0.371088</td><td>0.521115</td><td>0.341996</td></tr><tr><th>7</th><td>0.287145</td><td>0.397668</td><td>0.518124</td><td>0.920083</td><td>0.448945</td><td>0.527357</td><td>0.81018</td><td>0.539941</td></tr><tr><th>8</th><td>0.677486</td><td>0.642819</td><td>0.279754</td><td>0.225433</td><td>0.128728</td><td>0.543143</td><td>0.903321</td><td>0.528444</td></tr><tr><th>9</th><td>0.482049</td><td>0.555148</td><td>0.955058</td><td>0.503599</td><td>0.50785</td><td>0.411249</td><td>0.702991</td><td>0.805342</td></tr><tr><th>10</th><td>0.335434</td><td>0.281389</td><td>0.618836</td><td>0.666675</td><td>0.652585</td><td>0.623918</td><td>0.80255</td><td>0.584131</td></tr><tr><th>11</th><td>0.458438</td><td>0.735938</td><td>0.266868</td><td>0.106359</td><td>0.630907</td><td>0.496983</td><td>0.638357</td><td>0.161225</td></tr><tr><th>12</th><td>0.310861</td><td>0.412033</td><td>0.303915</td><td>0.419046</td><td>0.376088</td><td>0.402153</td><td>0.449262</td><td>0.494171</td></tr><tr><th>13</th><td>0.576896</td><td>0.294779</td><td>0.96941</td><td>0.75033</td><td>0.520029</td><td>0.537296</td><td>0.909499</td><td>0.306723</td></tr><tr><th>14</th><td>0.392065</td><td>0.435471</td><td>0.598637</td><td>0.931822</td><td>0.45636</td><td>0.464672</td><td>0.543519</td><td>0.510021</td></tr><tr><th>15</th><td>0.425576</td><td>0.348063</td><td>0.180856</td><td>0.301368</td><td>0.85775</td><td>0.42866</td><td>0.510179</td><td>0.615141</td></tr><tr><th>16</th><td>0.359006</td><td>0.577339</td><td>0.54691</td><td>0.884851</td><td>0.880364</td><td>0.783504</td><td>0.527174</td><td>0.352456</td></tr><tr><th>17</th><td>0.589832</td><td>0.558778</td><td>0.426632</td><td>0.290842</td><td>0.727711</td><td>0.555608</td><td>0.586813</td><td>0.365777</td></tr><tr><th>18</th><td>0.502076</td><td>0.301273</td><td>0.264452</td><td>0.574789</td><td>0.976604</td><td>0.261376</td><td>0.439503</td><td>0.0647753</td></tr><tr><th>19</th><td>0.450434</td><td>0.665669</td><td>0.648166</td><td>0.053733</td><td>0.546662</td><td>0.555058</td><td>0.271488</td><td>0.519957</td></tr><tr><th>20</th><td>0.44587</td><td>0.459155</td><td>0.464098</td><td>0.487003</td><td>0.405918</td><td>0.536733</td><td>0.378737</td><td>0.450529</td></tr><tr><th>21</th><td>0.542378</td><td>0.527117</td><td>0.371689</td><td>0.691241</td><td>0.107093</td><td>0.833408</td><td>0.0965144</td><td>0.368986</td></tr><tr><th>22</th><td>0.669897</td><td>0.664922</td><td>0.622139</td><td>0.133887</td><td>0.402061</td><td>0.397167</td><td>0.246108</td><td>0.734135</td></tr><tr><th>23</th><td>0.629783</td><td>0.200161</td><td>0.32651</td><td>0.906532</td><td>0.204959</td><td>0.557692</td><td>0.614071</td><td>0.579697</td></tr><tr><th>24</th><td>0.411584</td><td>0.260469</td><td>0.0455288</td><td>0.552722</td><td>0.698403</td><td>0.919109</td><td>0.672511</td><td>0.360388</td></tr><tr><th>25</th><td>0.305997</td><td>0.441539</td><td>0.91563</td><td>0.0905758</td><td>0.839354</td><td>0.297998</td><td>0.370569</td><td>0.693888</td></tr><tr><th>26</th><td>0.708904</td><td>0.331038</td><td>0.76662</td><td>0.898491</td><td>0.483878</td><td>0.696153</td><td>0.564596</td><td>0.542634</td></tr><tr><th>27</th><td>0.801126</td><td>0.954448</td><td>0.723712</td><td>0.441696</td><td>0.465846</td><td>0.475121</td><td>0.35621</td><td>0.373658</td></tr><tr><th>28</th><td>0.576402</td><td>0.349992</td><td>0.594552</td><td>0.126931</td><td>0.611318</td><td>0.516955</td><td>0.610987</td><td>0.480667</td></tr><tr><th>29</th><td>0.617537</td><td>0.726191</td><td>0.640535</td><td>0.20074</td><td>0.297947</td><td>0.509823</td><td>0.406331</td><td>0.625572</td></tr><tr><th>30</th><td>0.503111</td><td>0.916579</td><td>0.823435</td><td>0.416974</td><td>0.608272</td><td>0.356364</td><td>0.555124</td><td>0.217127</td></tr><tr><th>&vellip;</th><td>&vellip;</td><td>&vellip;</td><td>&vellip;</td><td>&vellip;</td><td>&vellip;</td><td>&vellip;</td><td>&vellip;</td><td>&vellip;</td></tr></tbody></table>"
      ],
      "text/plain": [
       "300×16 GeoDataFrame (Column1, Column2, Column3, Column4, Column5, Column6, Column7, Column8, Column9, Column10, Column11, Column12, Column13, Column14 and Column15)\n",
       "\n",
       "│ Row │ Column1  │ Column2  │ Column3   │ Column4   │ Column5  │ Column6   │\n",
       "│     │ \u001b[90mFloat64\u001b[39m  │ \u001b[90mFloat64\u001b[39m  │ \u001b[90mFloat64\u001b[39m   │ \u001b[90mFloat64\u001b[39m   │ \u001b[90mFloat64\u001b[39m  │ \u001b[90mFloat64\u001b[39m   │\n",
       "├─────┼──────────┼──────────┼───────────┼───────────┼──────────┼───────────┤\n",
       "│ 1   │ 0.325524 │ 0.950538 │ 0.357411  │ 0.389105  │ 0.194585 │ 0.184043  │\n",
       "│ 2   │ 0.652948 │ 0.704087 │ 0.861773  │ 0.837654  │ 0.434892 │ 0.379896  │\n",
       "│ 3   │ 0.290786 │ 0.383286 │ 0.833265  │ 0.9898    │ 0.638877 │ 0.0566432 │\n",
       "│ 4   │ 0.749271 │ 0.479017 │ 0.0575158 │ 0.904464  │ 0.506446 │ 0.166152  │\n",
       "│ 5   │ 0.60662  │ 0.653666 │ 0.589511  │ 0.0862952 │ 0.499406 │ 0.199111  │\n",
       "│ 6   │ 0.657132 │ 0.329131 │ 0.215921  │ 0.33697   │ 0.326447 │ 0.371088  │\n",
       "│ 7   │ 0.287145 │ 0.397668 │ 0.518124  │ 0.920083  │ 0.448945 │ 0.527357  │\n",
       "│ 8   │ 0.677486 │ 0.642819 │ 0.279754  │ 0.225433  │ 0.128728 │ 0.543143  │\n",
       "│ 9   │ 0.482049 │ 0.555148 │ 0.955058  │ 0.503599  │ 0.50785  │ 0.411249  │\n",
       "│ 10  │ 0.335434 │ 0.281389 │ 0.618836  │ 0.666675  │ 0.652585 │ 0.623918  │\n",
       "⋮\n",
       "│ 290 │ 0.417986 │ 0.781967 │ 0.380758  │ 0.490075  │ 0.313017 │ 0.473217  │\n",
       "│ 291 │ 0.651835 │ 0.131384 │ 0.960086  │ 0.607222  │ 0.352406 │ 0.619274  │\n",
       "│ 292 │ 0.422508 │ 0.371174 │ 0.930225  │ 0.720679  │ 0.396738 │ 0.59049   │\n",
       "│ 293 │ 0.424089 │ 0.41038  │ 0.232929  │ 0.304246  │ 0.537516 │ 0.524329  │\n",
       "│ 294 │ 0.724449 │ 0.601482 │ 0.938874  │ 0.770812  │ 0.605411 │ 0.5919    │\n",
       "│ 295 │ 0.193264 │ 0.428874 │ 0.686467  │ 0.62224   │ 0.299817 │ 0.6068    │\n",
       "│ 296 │ 0.539898 │ 0.386087 │ 0.556154  │ 0.741902  │ 0.790226 │ 0.246852  │\n",
       "│ 297 │ 0.668475 │ 0.512893 │ 0.439263  │ 0.832544  │ 0.280857 │ 0.415232  │\n",
       "│ 298 │ 0.236431 │ 0.658412 │ 0.983822  │ 0.356004  │ 0.734194 │ 0.195368  │\n",
       "│ 299 │ 0.664262 │ 0.585362 │ 0.783288  │ 0.609724  │ 0.710151 │ 0.442726  │\n",
       "│ 300 │ 0.207818 │ 0.540015 │ 0.160931  │ 0.21601   │ 0.462652 │ 0.292638  │\n",
       "\n",
       "│ Row │ Column7   │ Column8   │ Column9  │ Column10 │ Column11 │ Column12 │\n",
       "│     │ \u001b[90mFloat64\u001b[39m   │ \u001b[90mFloat64\u001b[39m   │ \u001b[90mFloat64\u001b[39m  │ \u001b[90mFloat64\u001b[39m  │ \u001b[90mFloat64\u001b[39m  │ \u001b[90mFloat64\u001b[39m  │\n",
       "├─────┼───────────┼───────────┼──────────┼──────────┼──────────┼──────────┤\n",
       "│ 1   │ 0.237166  │ 0.485226  │ 0.595528 │ 0.547244 │ 0.654956 │ 0.917294 │\n",
       "│ 2   │ 0.744429  │ 0.225178  │ 0.469169 │ 0.401166 │ 0.35635  │ 0.346895 │\n",
       "│ 3   │ 0.936918  │ 0.222246  │ 0.608    │ 0.321378 │ 0.14359  │ 0.891789 │\n",
       "│ 4   │ 0.47365   │ 0.285476  │ 0.637091 │ 0.366316 │ 0.484531 │ 0.581004 │\n",
       "│ 5   │ 0.0911868 │ 0.151885  │ 0.773359 │ 0.454087 │ 0.166154 │ 0.111092 │\n",
       "│ 6   │ 0.521115  │ 0.341996  │ 0.343542 │ 0.71529  │ 0.341602 │ 0.13268  │\n",
       "│ 7   │ 0.81018   │ 0.539941  │ 0.786988 │ 0.335605 │ 0.60964  │ 0.909823 │\n",
       "│ 8   │ 0.903321  │ 0.528444  │ 0.547586 │ 0.454642 │ 0.326231 │ 0.790782 │\n",
       "│ 9   │ 0.702991  │ 0.805342  │ 0.385823 │ 0.124711 │ 0.61379  │ 0.101821 │\n",
       "│ 10  │ 0.80255   │ 0.584131  │ 0.564552 │ 0.173564 │ 0.369043 │ 0.733823 │\n",
       "⋮\n",
       "│ 290 │ 0.54801   │ 0.565112  │ 0.466529 │ 0.401893 │ 0.497359 │ 0.168643 │\n",
       "│ 291 │ 0.262954  │ 0.871915  │ 0.44652  │ 0.302075 │ 0.362053 │ 0.172017 │\n",
       "│ 292 │ 0.651147  │ 0.204229  │ 0.445846 │ 0.585675 │ 0.398278 │ 0.903282 │\n",
       "│ 293 │ 0.771084  │ 0.15365   │ 0.490154 │ 0.472058 │ 0.785322 │ 0.263574 │\n",
       "│ 294 │ 0.475795  │ 0.445534  │ 0.220187 │ 0.426178 │ 0.640288 │ 0.209079 │\n",
       "│ 295 │ 0.550129  │ 0.478206  │ 0.592971 │ 0.159968 │ 0.53807  │ 0.293326 │\n",
       "│ 296 │ 0.776188  │ 0.463699  │ 0.440668 │ 0.410372 │ 0.103562 │ 0.660725 │\n",
       "│ 297 │ 0.495204  │ 0.0826289 │ 0.330854 │ 0.601113 │ 0.389685 │ 0.70913  │\n",
       "│ 298 │ 0.920045  │ 0.235577  │ 0.554983 │ 0.871689 │ 0.413801 │ 0.596268 │\n",
       "│ 299 │ 0.180271  │ 0.58795   │ 0.460136 │ 0.325178 │ 0.340101 │ 0.837241 │\n",
       "│ 300 │ 0.295378  │ 0.620616  │ 0.461927 │ 0.711489 │ 0.799529 │ 0.924718 │\n",
       "\n",
       "│ Row │ Column13 │ Column14 │ Column15   │ result    │\n",
       "│     │ \u001b[90mFloat64\u001b[39m  │ \u001b[90mFloat64\u001b[39m  │ \u001b[90mFloat64\u001b[39m    │ \u001b[90mFloat64\u001b[39m   │\n",
       "├─────┼──────────┼──────────┼────────────┼───────────┤\n",
       "│ 1   │ 0.616287 │ 0.305131 │ 0.165657   │ 2.64432e5 │\n",
       "│ 2   │ 0.631708 │ 0.660561 │ 0.518479   │ 1.67688e5 │\n",
       "│ 3   │ 0.337034 │ 0.442042 │ 0.0338813  │ 6.70549e5 │\n",
       "│ 4   │ 0.708453 │ 0.545701 │ 0.448983   │ 1.1592e5  │\n",
       "│ 5   │ 0.598314 │ 0.859845 │ 0.214738   │ 6.93351e5 │\n",
       "│ 6   │ 0.543194 │ 0.185986 │ 0.314512   │ 5.5556e5  │\n",
       "│ 7   │ 0.428322 │ 0.239789 │ 0.514247   │ 188443.0  │\n",
       "│ 8   │ 0.487099 │ 0.737915 │ 0.0592817  │ 1.96863e5 │\n",
       "│ 9   │ 0.587627 │ 0.23451  │ 0.17101    │ 4.8118e5  │\n",
       "│ 10  │ 0.714444 │ 0.576413 │ 0.0776534  │ 853647.0  │\n",
       "⋮\n",
       "│ 290 │ 0.598562 │ 0.179207 │ 0.209917   │ 1.15684e5 │\n",
       "│ 291 │ 0.651489 │ 0.2679   │ 0.524527   │ 2.07409e5 │\n",
       "│ 292 │ 0.56604  │ 0.255505 │ 0.187583   │ 2.41224e5 │\n",
       "│ 293 │ 0.697714 │ 0.556856 │ 0.0440756  │ 2.74186e5 │\n",
       "│ 294 │ 0.48556  │ 0.670997 │ 0.00879225 │ 1.52029e6 │\n",
       "│ 295 │ 0.445002 │ 0.100522 │ 0.240174   │ 371263.0  │\n",
       "│ 296 │ 0.474284 │ 0.982616 │ 0.561411   │ 4.53453e5 │\n",
       "│ 297 │ 0.627054 │ 0.15659  │ 0.229706   │ 2.50842e5 │\n",
       "│ 298 │ 0.657046 │ 0.689024 │ 0.509571   │ 7.48203e5 │\n",
       "│ 299 │ 0.199395 │ 0.676919 │ 0.382728   │ 123223.0  │\n",
       "│ 300 │ 0.6299   │ 0.34683  │ 0.326477   │ 6.72022e5 │"
      ]
     },
     "execution_count": 65,
     "metadata": {},
     "output_type": "execute_result"
    }
   ],
   "source": [
    "gdata_inp=GeoDataFrame(gdata.data[1:300,:], [:Column1,:Column2,:Column3,:Column4,:Column5,:Column6,:Column7,:Column8,:Column9,:Column10,:Column11,:Column12,:Column13,:Column14,:Column15])"
   ]
  },
  {
   "cell_type": "code",
   "execution_count": 66,
   "metadata": {},
   "outputs": [
    {
     "data": {
      "text/html": [
       "300×16 GeoDataFrame (Column1, Column2, Column3, Column4, Column5, Column6, Column7, Column8, Column9, Column10, Column11, Column12, Column13, Column14 and Column15)\n",
       "<table class=\"data-frame\"><thead><tr><th></th><th>Column1</th><th>Column2</th><th>Column3</th><th>Column4</th><th>Column5</th><th>Column6</th><th>Column7</th><th>Column8</th></tr><tr><th></th><th>Float64</th><th>Float64</th><th>Float64</th><th>Float64</th><th>Float64</th><th>Float64</th><th>Float64</th><th>Float64</th></tr></thead><tbody><tr><th>1</th><td>0.325524</td><td>0.950538</td><td>0.357411</td><td>0.389105</td><td>0.194585</td><td>0.184043</td><td>0.237166</td><td>0.485226</td></tr><tr><th>2</th><td>0.652948</td><td>0.704087</td><td>0.861773</td><td>0.837654</td><td>0.434892</td><td>0.379896</td><td>0.744429</td><td>0.225178</td></tr><tr><th>3</th><td>0.290786</td><td>0.383286</td><td>0.833265</td><td>0.9898</td><td>0.638877</td><td>0.0566432</td><td>0.936918</td><td>0.222246</td></tr><tr><th>4</th><td>0.749271</td><td>0.479017</td><td>0.0575158</td><td>0.904464</td><td>0.506446</td><td>0.166152</td><td>0.47365</td><td>0.285476</td></tr><tr><th>5</th><td>0.60662</td><td>0.653666</td><td>0.589511</td><td>0.0862952</td><td>0.499406</td><td>0.199111</td><td>0.0911868</td><td>0.151885</td></tr><tr><th>6</th><td>0.657132</td><td>0.329131</td><td>0.215921</td><td>0.33697</td><td>0.326447</td><td>0.371088</td><td>0.521115</td><td>0.341996</td></tr><tr><th>7</th><td>0.287145</td><td>0.397668</td><td>0.518124</td><td>0.920083</td><td>0.448945</td><td>0.527357</td><td>0.81018</td><td>0.539941</td></tr><tr><th>8</th><td>0.677486</td><td>0.642819</td><td>0.279754</td><td>0.225433</td><td>0.128728</td><td>0.543143</td><td>0.903321</td><td>0.528444</td></tr><tr><th>9</th><td>0.482049</td><td>0.555148</td><td>0.955058</td><td>0.503599</td><td>0.50785</td><td>0.411249</td><td>0.702991</td><td>0.805342</td></tr><tr><th>10</th><td>0.335434</td><td>0.281389</td><td>0.618836</td><td>0.666675</td><td>0.652585</td><td>0.623918</td><td>0.80255</td><td>0.584131</td></tr><tr><th>11</th><td>0.458438</td><td>0.735938</td><td>0.266868</td><td>0.106359</td><td>0.630907</td><td>0.496983</td><td>0.638357</td><td>0.161225</td></tr><tr><th>12</th><td>0.310861</td><td>0.412033</td><td>0.303915</td><td>0.419046</td><td>0.376088</td><td>0.402153</td><td>0.449262</td><td>0.494171</td></tr><tr><th>13</th><td>0.576896</td><td>0.294779</td><td>0.96941</td><td>0.75033</td><td>0.520029</td><td>0.537296</td><td>0.909499</td><td>0.306723</td></tr><tr><th>14</th><td>0.392065</td><td>0.435471</td><td>0.598637</td><td>0.931822</td><td>0.45636</td><td>0.464672</td><td>0.543519</td><td>0.510021</td></tr><tr><th>15</th><td>0.425576</td><td>0.348063</td><td>0.180856</td><td>0.301368</td><td>0.85775</td><td>0.42866</td><td>0.510179</td><td>0.615141</td></tr><tr><th>16</th><td>0.359006</td><td>0.577339</td><td>0.54691</td><td>0.884851</td><td>0.880364</td><td>0.783504</td><td>0.527174</td><td>0.352456</td></tr><tr><th>17</th><td>0.589832</td><td>0.558778</td><td>0.426632</td><td>0.290842</td><td>0.727711</td><td>0.555608</td><td>0.586813</td><td>0.365777</td></tr><tr><th>18</th><td>0.502076</td><td>0.301273</td><td>0.264452</td><td>0.574789</td><td>0.976604</td><td>0.261376</td><td>0.439503</td><td>0.0647753</td></tr><tr><th>19</th><td>0.450434</td><td>0.665669</td><td>0.648166</td><td>0.053733</td><td>0.546662</td><td>0.555058</td><td>0.271488</td><td>0.519957</td></tr><tr><th>20</th><td>0.44587</td><td>0.459155</td><td>0.464098</td><td>0.487003</td><td>0.405918</td><td>0.536733</td><td>0.378737</td><td>0.450529</td></tr><tr><th>21</th><td>0.542378</td><td>0.527117</td><td>0.371689</td><td>0.691241</td><td>0.107093</td><td>0.833408</td><td>0.0965144</td><td>0.368986</td></tr><tr><th>22</th><td>0.669897</td><td>0.664922</td><td>0.622139</td><td>0.133887</td><td>0.402061</td><td>0.397167</td><td>0.246108</td><td>0.734135</td></tr><tr><th>23</th><td>0.629783</td><td>0.200161</td><td>0.32651</td><td>0.906532</td><td>0.204959</td><td>0.557692</td><td>0.614071</td><td>0.579697</td></tr><tr><th>24</th><td>0.411584</td><td>0.260469</td><td>0.0455288</td><td>0.552722</td><td>0.698403</td><td>0.919109</td><td>0.672511</td><td>0.360388</td></tr><tr><th>25</th><td>0.305997</td><td>0.441539</td><td>0.91563</td><td>0.0905758</td><td>0.839354</td><td>0.297998</td><td>0.370569</td><td>0.693888</td></tr><tr><th>26</th><td>0.708904</td><td>0.331038</td><td>0.76662</td><td>0.898491</td><td>0.483878</td><td>0.696153</td><td>0.564596</td><td>0.542634</td></tr><tr><th>27</th><td>0.801126</td><td>0.954448</td><td>0.723712</td><td>0.441696</td><td>0.465846</td><td>0.475121</td><td>0.35621</td><td>0.373658</td></tr><tr><th>28</th><td>0.576402</td><td>0.349992</td><td>0.594552</td><td>0.126931</td><td>0.611318</td><td>0.516955</td><td>0.610987</td><td>0.480667</td></tr><tr><th>29</th><td>0.617537</td><td>0.726191</td><td>0.640535</td><td>0.20074</td><td>0.297947</td><td>0.509823</td><td>0.406331</td><td>0.625572</td></tr><tr><th>30</th><td>0.503111</td><td>0.916579</td><td>0.823435</td><td>0.416974</td><td>0.608272</td><td>0.356364</td><td>0.555124</td><td>0.217127</td></tr><tr><th>&vellip;</th><td>&vellip;</td><td>&vellip;</td><td>&vellip;</td><td>&vellip;</td><td>&vellip;</td><td>&vellip;</td><td>&vellip;</td><td>&vellip;</td></tr></tbody></table>"
      ],
      "text/plain": [
       "300×16 GeoDataFrame (Column1, Column2, Column3, Column4, Column5, Column6, Column7, Column8, Column9, Column10, Column11, Column12, Column13, Column14 and Column15)\n",
       "\n",
       "│ Row │ Column1  │ Column2  │ Column3   │ Column4   │ Column5  │ Column6   │\n",
       "│     │ \u001b[90mFloat64\u001b[39m  │ \u001b[90mFloat64\u001b[39m  │ \u001b[90mFloat64\u001b[39m   │ \u001b[90mFloat64\u001b[39m   │ \u001b[90mFloat64\u001b[39m  │ \u001b[90mFloat64\u001b[39m   │\n",
       "├─────┼──────────┼──────────┼───────────┼───────────┼──────────┼───────────┤\n",
       "│ 1   │ 0.325524 │ 0.950538 │ 0.357411  │ 0.389105  │ 0.194585 │ 0.184043  │\n",
       "│ 2   │ 0.652948 │ 0.704087 │ 0.861773  │ 0.837654  │ 0.434892 │ 0.379896  │\n",
       "│ 3   │ 0.290786 │ 0.383286 │ 0.833265  │ 0.9898    │ 0.638877 │ 0.0566432 │\n",
       "│ 4   │ 0.749271 │ 0.479017 │ 0.0575158 │ 0.904464  │ 0.506446 │ 0.166152  │\n",
       "│ 5   │ 0.60662  │ 0.653666 │ 0.589511  │ 0.0862952 │ 0.499406 │ 0.199111  │\n",
       "│ 6   │ 0.657132 │ 0.329131 │ 0.215921  │ 0.33697   │ 0.326447 │ 0.371088  │\n",
       "│ 7   │ 0.287145 │ 0.397668 │ 0.518124  │ 0.920083  │ 0.448945 │ 0.527357  │\n",
       "│ 8   │ 0.677486 │ 0.642819 │ 0.279754  │ 0.225433  │ 0.128728 │ 0.543143  │\n",
       "│ 9   │ 0.482049 │ 0.555148 │ 0.955058  │ 0.503599  │ 0.50785  │ 0.411249  │\n",
       "│ 10  │ 0.335434 │ 0.281389 │ 0.618836  │ 0.666675  │ 0.652585 │ 0.623918  │\n",
       "⋮\n",
       "│ 290 │ 0.417986 │ 0.781967 │ 0.380758  │ 0.490075  │ 0.313017 │ 0.473217  │\n",
       "│ 291 │ 0.651835 │ 0.131384 │ 0.960086  │ 0.607222  │ 0.352406 │ 0.619274  │\n",
       "│ 292 │ 0.422508 │ 0.371174 │ 0.930225  │ 0.720679  │ 0.396738 │ 0.59049   │\n",
       "│ 293 │ 0.424089 │ 0.41038  │ 0.232929  │ 0.304246  │ 0.537516 │ 0.524329  │\n",
       "│ 294 │ 0.724449 │ 0.601482 │ 0.938874  │ 0.770812  │ 0.605411 │ 0.5919    │\n",
       "│ 295 │ 0.193264 │ 0.428874 │ 0.686467  │ 0.62224   │ 0.299817 │ 0.6068    │\n",
       "│ 296 │ 0.539898 │ 0.386087 │ 0.556154  │ 0.741902  │ 0.790226 │ 0.246852  │\n",
       "│ 297 │ 0.668475 │ 0.512893 │ 0.439263  │ 0.832544  │ 0.280857 │ 0.415232  │\n",
       "│ 298 │ 0.236431 │ 0.658412 │ 0.983822  │ 0.356004  │ 0.734194 │ 0.195368  │\n",
       "│ 299 │ 0.664262 │ 0.585362 │ 0.783288  │ 0.609724  │ 0.710151 │ 0.442726  │\n",
       "│ 300 │ 0.207818 │ 0.540015 │ 0.160931  │ 0.21601   │ 0.462652 │ 0.292638  │\n",
       "\n",
       "│ Row │ Column7   │ Column8   │ Column9  │ Column10 │ Column11 │ Column12 │\n",
       "│     │ \u001b[90mFloat64\u001b[39m   │ \u001b[90mFloat64\u001b[39m   │ \u001b[90mFloat64\u001b[39m  │ \u001b[90mFloat64\u001b[39m  │ \u001b[90mFloat64\u001b[39m  │ \u001b[90mFloat64\u001b[39m  │\n",
       "├─────┼───────────┼───────────┼──────────┼──────────┼──────────┼──────────┤\n",
       "│ 1   │ 0.237166  │ 0.485226  │ 0.595528 │ 0.547244 │ 0.654956 │ 0.917294 │\n",
       "│ 2   │ 0.744429  │ 0.225178  │ 0.469169 │ 0.401166 │ 0.35635  │ 0.346895 │\n",
       "│ 3   │ 0.936918  │ 0.222246  │ 0.608    │ 0.321378 │ 0.14359  │ 0.891789 │\n",
       "│ 4   │ 0.47365   │ 0.285476  │ 0.637091 │ 0.366316 │ 0.484531 │ 0.581004 │\n",
       "│ 5   │ 0.0911868 │ 0.151885  │ 0.773359 │ 0.454087 │ 0.166154 │ 0.111092 │\n",
       "│ 6   │ 0.521115  │ 0.341996  │ 0.343542 │ 0.71529  │ 0.341602 │ 0.13268  │\n",
       "│ 7   │ 0.81018   │ 0.539941  │ 0.786988 │ 0.335605 │ 0.60964  │ 0.909823 │\n",
       "│ 8   │ 0.903321  │ 0.528444  │ 0.547586 │ 0.454642 │ 0.326231 │ 0.790782 │\n",
       "│ 9   │ 0.702991  │ 0.805342  │ 0.385823 │ 0.124711 │ 0.61379  │ 0.101821 │\n",
       "│ 10  │ 0.80255   │ 0.584131  │ 0.564552 │ 0.173564 │ 0.369043 │ 0.733823 │\n",
       "⋮\n",
       "│ 290 │ 0.54801   │ 0.565112  │ 0.466529 │ 0.401893 │ 0.497359 │ 0.168643 │\n",
       "│ 291 │ 0.262954  │ 0.871915  │ 0.44652  │ 0.302075 │ 0.362053 │ 0.172017 │\n",
       "│ 292 │ 0.651147  │ 0.204229  │ 0.445846 │ 0.585675 │ 0.398278 │ 0.903282 │\n",
       "│ 293 │ 0.771084  │ 0.15365   │ 0.490154 │ 0.472058 │ 0.785322 │ 0.263574 │\n",
       "│ 294 │ 0.475795  │ 0.445534  │ 0.220187 │ 0.426178 │ 0.640288 │ 0.209079 │\n",
       "│ 295 │ 0.550129  │ 0.478206  │ 0.592971 │ 0.159968 │ 0.53807  │ 0.293326 │\n",
       "│ 296 │ 0.776188  │ 0.463699  │ 0.440668 │ 0.410372 │ 0.103562 │ 0.660725 │\n",
       "│ 297 │ 0.495204  │ 0.0826289 │ 0.330854 │ 0.601113 │ 0.389685 │ 0.70913  │\n",
       "│ 298 │ 0.920045  │ 0.235577  │ 0.554983 │ 0.871689 │ 0.413801 │ 0.596268 │\n",
       "│ 299 │ 0.180271  │ 0.58795   │ 0.460136 │ 0.325178 │ 0.340101 │ 0.837241 │\n",
       "│ 300 │ 0.295378  │ 0.620616  │ 0.461927 │ 0.711489 │ 0.799529 │ 0.924718 │\n",
       "\n",
       "│ Row │ Column13 │ Column14 │ Column15   │ result    │\n",
       "│     │ \u001b[90mFloat64\u001b[39m  │ \u001b[90mFloat64\u001b[39m  │ \u001b[90mFloat64\u001b[39m    │ \u001b[90mFloat64\u001b[39m   │\n",
       "├─────┼──────────┼──────────┼────────────┼───────────┤\n",
       "│ 1   │ 0.616287 │ 0.305131 │ 0.165657   │ 2.64432e5 │\n",
       "│ 2   │ 0.631708 │ 0.660561 │ 0.518479   │ 1.67688e5 │\n",
       "│ 3   │ 0.337034 │ 0.442042 │ 0.0338813  │ 6.70549e5 │\n",
       "│ 4   │ 0.708453 │ 0.545701 │ 0.448983   │ 1.1592e5  │\n",
       "│ 5   │ 0.598314 │ 0.859845 │ 0.214738   │ 6.93351e5 │\n",
       "│ 6   │ 0.543194 │ 0.185986 │ 0.314512   │ 5.5556e5  │\n",
       "│ 7   │ 0.428322 │ 0.239789 │ 0.514247   │ 188443.0  │\n",
       "│ 8   │ 0.487099 │ 0.737915 │ 0.0592817  │ 1.96863e5 │\n",
       "│ 9   │ 0.587627 │ 0.23451  │ 0.17101    │ 4.8118e5  │\n",
       "│ 10  │ 0.714444 │ 0.576413 │ 0.0776534  │ 853647.0  │\n",
       "⋮\n",
       "│ 290 │ 0.598562 │ 0.179207 │ 0.209917   │ 1.15684e5 │\n",
       "│ 291 │ 0.651489 │ 0.2679   │ 0.524527   │ 2.07409e5 │\n",
       "│ 292 │ 0.56604  │ 0.255505 │ 0.187583   │ 2.41224e5 │\n",
       "│ 293 │ 0.697714 │ 0.556856 │ 0.0440756  │ 2.74186e5 │\n",
       "│ 294 │ 0.48556  │ 0.670997 │ 0.00879225 │ 1.52029e6 │\n",
       "│ 295 │ 0.445002 │ 0.100522 │ 0.240174   │ 371263.0  │\n",
       "│ 296 │ 0.474284 │ 0.982616 │ 0.561411   │ 4.53453e5 │\n",
       "│ 297 │ 0.627054 │ 0.15659  │ 0.229706   │ 2.50842e5 │\n",
       "│ 298 │ 0.657046 │ 0.689024 │ 0.509571   │ 7.48203e5 │\n",
       "│ 299 │ 0.199395 │ 0.676919 │ 0.382728   │ 123223.0  │\n",
       "│ 300 │ 0.6299   │ 0.34683  │ 0.326477   │ 6.72022e5 │"
      ]
     },
     "execution_count": 66,
     "metadata": {},
     "output_type": "execute_result"
    }
   ],
   "source": [
    "gdata_inp_norm=GeoDataFrame(gdata_norm.data[1:300,:], [:Column1,:Column2,:Column3,:Column4,:Column5,:Column6,:Column7,:Column8,:Column9,:Column10,:Column11,:Column12,:Column13,:Column14,:Column15])"
   ]
  },
  {
   "cell_type": "code",
   "execution_count": 67,
   "metadata": {},
   "outputs": [
    {
     "name": "stderr",
     "output_type": "stream",
     "text": [
      "┌ Warning: `getindex(df::DataFrame, col_inds::Union{AbstractVector, Regex, Not})` is deprecated, use `df[:, col_inds]` instead.\n",
      "│   caller = top-level scope at In[67]:1\n",
      "└ @ Core In[67]:1\n"
     ]
    },
    {
     "data": {
      "text/plain": [
       "15×400 PointSet{Float64,15}\n",
       " 0.32552403347646375  0.6529483865181551   …  0.45664549343797745\n",
       " 0.9505377745130067   0.7040874262043197      0.5156778250078524 \n",
       " 0.3574106632505416   0.8617731659535054      0.8888279236974739 \n",
       " 0.3891053083039686   0.8376543520911649      0.10413054268723793\n",
       " 0.19458481981610914  0.43489205441952716     0.31057324901305994\n",
       " 0.18404287745283546  0.37989580450756727  …  0.436042599165575  \n",
       " 0.237165948950443    0.7444293249953049      0.42231367109377316\n",
       " 0.4852260601904668   0.22517765935529105     0.4680305411114972 \n",
       " 0.595528233074592    0.4691692339893906      0.8083230780587582 \n",
       " 0.547243978939568    0.40116585813571554     0.5123150835953532 \n",
       " 0.654956161767441    0.35634982808567617  …  0.35297594406155686\n",
       " 0.9172940522512507   0.3468949416342412      0.8214274596998332 \n",
       " 0.6162868767048066   0.6317078206990341      0.41522867698057586\n",
       " 0.3051309124852714   0.6605609879263646      0.6320678204716216 \n",
       " 0.1656567562494625   0.5184792443786393      0.6570921376228587 "
      ]
     },
     "execution_count": 67,
     "metadata": {},
     "output_type": "execute_result"
    }
   ],
   "source": [
    "punktmenge=PointSet(adjoint(convert(Matrix,gdata.data[1:15])))"
   ]
  },
  {
   "cell_type": "code",
   "execution_count": 68,
   "metadata": {},
   "outputs": [
    {
     "name": "stderr",
     "output_type": "stream",
     "text": [
      "┌ Warning: `getindex(df::DataFrame, col_inds::Union{AbstractVector, Regex, Not})` is deprecated, use `df[:, col_inds]` instead.\n",
      "│   caller = top-level scope at In[68]:1\n",
      "└ @ Core In[68]:1\n"
     ]
    },
    {
     "data": {
      "text/plain": [
       "15×400 PointSet{Float64,15}\n",
       " 0.32552403347646375  0.6529483865181551   …  0.45664549343797745\n",
       " 0.9505377745130067   0.7040874262043197      0.5156778250078524 \n",
       " 0.3574106632505416   0.8617731659535054      0.8888279236974739 \n",
       " 0.3891053083039686   0.8376543520911649      0.10413054268723793\n",
       " 0.19458481981610914  0.43489205441952716     0.31057324901305994\n",
       " 0.18404287745283546  0.37989580450756727  …  0.436042599165575  \n",
       " 0.237165948950443    0.7444293249953049      0.42231367109377316\n",
       " 0.4852260601904668   0.22517765935529105     0.4680305411114972 \n",
       " 0.595528233074592    0.4691692339893906      0.8083230780587582 \n",
       " 0.547243978939568    0.40116585813571554     0.5123150835953532 \n",
       " 0.654956161767441    0.35634982808567617  …  0.35297594406155686\n",
       " 0.9172940522512507   0.3468949416342412      0.8214274596998332 \n",
       " 0.6162868767048066   0.6317078206990341      0.41522867698057586\n",
       " 0.3051309124852714   0.6605609879263646      0.6320678204716216 \n",
       " 0.1656567562494625   0.5184792443786393      0.6570921376228587 "
      ]
     },
     "execution_count": 68,
     "metadata": {},
     "output_type": "execute_result"
    }
   ],
   "source": [
    "punktmenge_norm=PointSet(adjoint(convert(Matrix,gdata_norm.data[1:15])))"
   ]
  },
  {
   "cell_type": "code",
   "execution_count": 69,
   "metadata": {},
   "outputs": [
    {
     "data": {
      "text/plain": [
       "15D EstimationProblem\n",
       "  data:      300×16 GeoDataFrame (Column1, Column2, Column3, Column4, Column5, Column6, Column7, Column8, Column9, Column10, Column11, Column12, Column13, Column14 and Column15)\n",
       "  domain:    15×400 PointSet{Float64,15}\n",
       "  variables: result (Float64)"
      ]
     },
     "execution_count": 69,
     "metadata": {},
     "output_type": "execute_result"
    }
   ],
   "source": [
    "problem = EstimationProblem(gdata_inp_norm, punktmenge_norm, :result)"
   ]
  },
  {
   "cell_type": "code",
   "execution_count": 70,
   "metadata": {},
   "outputs": [
    {
     "data": {
      "text/plain": [
       "Kriging\n",
       "  └─result\n",
       "    └─variogram ⇨ GaussianVariogram{Float64,Euclidean}(15.0, 1.0, 1.0e-6, Euclidean(0.0))\n",
       "    └─distance ⇨ Euclidean(0.0)\n"
      ]
     },
     "execution_count": 70,
     "metadata": {},
     "output_type": "execute_result"
    }
   ],
   "source": [
    "solver = Kriging(\n",
    "    :result => (variogram=GaussianVariogram(range=15.),)\n",
    ")\n"
   ]
  },
  {
   "cell_type": "code",
   "execution_count": 71,
   "metadata": {},
   "outputs": [
    {
     "data": {
      "text/plain": [
       "15D EstimationSolution\n",
       "  domain: 15×400 PointSet{Float64,15}\n",
       "  variables: result"
      ]
     },
     "execution_count": 71,
     "metadata": {},
     "output_type": "execute_result"
    }
   ],
   "source": [
    "solution = solve(problem, solver)"
   ]
  },
  {
   "cell_type": "code",
   "execution_count": 72,
   "metadata": {},
   "outputs": [
    {
     "data": {
      "text/plain": [
       "(mean = [264432.25520764623, 167688.4118280789, 670549.1309356502, 115919.85301286125, 693350.5086835421, 555560.1098407966, 188442.96721043056, 196862.60159517988, 481180.30516838375, 853647.0165697729  …  318529.79217096494, 575119.3679956301, 250075.80293832783, 158582.42857505963, 179825.4250687761, 205990.5938549889, 1.1630688854629614e6, 152395.53377238114, 656454.90115045, 1.214454696679952e6], variance = [0.0, -6.661338147750939e-16, -6.661338147750939e-16, 1.1102230246251565e-16, 0.0, -2.220446049250313e-16, -2.220446049250313e-16, 1.1102230246251565e-16, 0.0, 8.881784197001252e-16  …  4.766620899099294e-6, 3.82379517571696e-6, 1.6895627018564952e-6, 5.520998744734662e-6, 5.056187396768053e-6, 2.1856344679660467e-6, 3.454974007222056e-6, 7.018186483076505e-6, 3.944667356647891e-6, 3.0957385245278246e-6])"
      ]
     },
     "execution_count": 72,
     "metadata": {},
     "output_type": "execute_result"
    }
   ],
   "source": [
    "μ, σ² = solution[:result]"
   ]
  },
  {
   "cell_type": "code",
   "execution_count": 73,
   "metadata": {},
   "outputs": [],
   "source": [
    "using Plots"
   ]
  },
  {
   "cell_type": "code",
   "execution_count": 74,
   "metadata": {},
   "outputs": [
    {
     "data": {
      "image/svg+xml": [
       "<?xml version=\"1.0\" encoding=\"utf-8\"?>\n",
       "<svg xmlns=\"http://www.w3.org/2000/svg\" xmlns:xlink=\"http://www.w3.org/1999/xlink\" width=\"600\" height=\"400\" viewBox=\"0 0 2400 1600\">\n",
       "<defs>\n",
       "  <clipPath id=\"clip1400\">\n",
       "    <rect x=\"0\" y=\"0\" width=\"2400\" height=\"1600\"/>\n",
       "  </clipPath>\n",
       "</defs>\n",
       "<path clip-path=\"url(#clip1400)\" d=\"\n",
       "M0 1600 L2400 1600 L2400 0 L0 0  Z\n",
       "  \" fill=\"#ffffff\" fill-rule=\"evenodd\" fill-opacity=\"1\"/>\n",
       "<defs>\n",
       "  <clipPath id=\"clip1401\">\n",
       "    <rect x=\"480\" y=\"0\" width=\"1681\" height=\"1600\"/>\n",
       "  </clipPath>\n",
       "</defs>\n",
       "<path clip-path=\"url(#clip1400)\" d=\"\n",
       "M301.332 1487.47 L2352.76 1487.47 L2352.76 47.2441 L301.332 47.2441  Z\n",
       "  \" fill=\"#ffffff\" fill-rule=\"evenodd\" fill-opacity=\"1\"/>\n",
       "<defs>\n",
       "  <clipPath id=\"clip1402\">\n",
       "    <rect x=\"301\" y=\"47\" width=\"2052\" height=\"1441\"/>\n",
       "  </clipPath>\n",
       "</defs>\n",
       "<polyline clip-path=\"url(#clip1402)\" style=\"stroke:#000000; stroke-width:2; stroke-opacity:0.1; fill:none\" points=\"\n",
       "  354.54,1487.47 354.54,47.2441 \n",
       "  \"/>\n",
       "<polyline clip-path=\"url(#clip1402)\" style=\"stroke:#000000; stroke-width:2; stroke-opacity:0.1; fill:none\" points=\"\n",
       "  839.579,1487.47 839.579,47.2441 \n",
       "  \"/>\n",
       "<polyline clip-path=\"url(#clip1402)\" style=\"stroke:#000000; stroke-width:2; stroke-opacity:0.1; fill:none\" points=\"\n",
       "  1324.62,1487.47 1324.62,47.2441 \n",
       "  \"/>\n",
       "<polyline clip-path=\"url(#clip1402)\" style=\"stroke:#000000; stroke-width:2; stroke-opacity:0.1; fill:none\" points=\"\n",
       "  1809.66,1487.47 1809.66,47.2441 \n",
       "  \"/>\n",
       "<polyline clip-path=\"url(#clip1402)\" style=\"stroke:#000000; stroke-width:2; stroke-opacity:0.1; fill:none\" points=\"\n",
       "  2294.7,1487.47 2294.7,47.2441 \n",
       "  \"/>\n",
       "<polyline clip-path=\"url(#clip1402)\" style=\"stroke:#000000; stroke-width:2; stroke-opacity:0.1; fill:none\" points=\"\n",
       "  301.332,1467.09 2352.76,1467.09 \n",
       "  \"/>\n",
       "<polyline clip-path=\"url(#clip1402)\" style=\"stroke:#000000; stroke-width:2; stroke-opacity:0.1; fill:none\" points=\"\n",
       "  301.332,1178.35 2352.76,1178.35 \n",
       "  \"/>\n",
       "<polyline clip-path=\"url(#clip1402)\" style=\"stroke:#000000; stroke-width:2; stroke-opacity:0.1; fill:none\" points=\"\n",
       "  301.332,889.621 2352.76,889.621 \n",
       "  \"/>\n",
       "<polyline clip-path=\"url(#clip1402)\" style=\"stroke:#000000; stroke-width:2; stroke-opacity:0.1; fill:none\" points=\"\n",
       "  301.332,600.89 2352.76,600.89 \n",
       "  \"/>\n",
       "<polyline clip-path=\"url(#clip1402)\" style=\"stroke:#000000; stroke-width:2; stroke-opacity:0.1; fill:none\" points=\"\n",
       "  301.332,312.158 2352.76,312.158 \n",
       "  \"/>\n",
       "<polyline clip-path=\"url(#clip1400)\" style=\"stroke:#000000; stroke-width:4; stroke-opacity:1; fill:none\" points=\"\n",
       "  301.332,1487.47 2352.76,1487.47 \n",
       "  \"/>\n",
       "<polyline clip-path=\"url(#clip1400)\" style=\"stroke:#000000; stroke-width:4; stroke-opacity:1; fill:none\" points=\"\n",
       "  301.332,1487.47 301.332,47.2441 \n",
       "  \"/>\n",
       "<polyline clip-path=\"url(#clip1400)\" style=\"stroke:#000000; stroke-width:4; stroke-opacity:1; fill:none\" points=\"\n",
       "  354.54,1487.47 354.54,1470.19 \n",
       "  \"/>\n",
       "<polyline clip-path=\"url(#clip1400)\" style=\"stroke:#000000; stroke-width:4; stroke-opacity:1; fill:none\" points=\"\n",
       "  839.579,1487.47 839.579,1470.19 \n",
       "  \"/>\n",
       "<polyline clip-path=\"url(#clip1400)\" style=\"stroke:#000000; stroke-width:4; stroke-opacity:1; fill:none\" points=\"\n",
       "  1324.62,1487.47 1324.62,1470.19 \n",
       "  \"/>\n",
       "<polyline clip-path=\"url(#clip1400)\" style=\"stroke:#000000; stroke-width:4; stroke-opacity:1; fill:none\" points=\"\n",
       "  1809.66,1487.47 1809.66,1470.19 \n",
       "  \"/>\n",
       "<polyline clip-path=\"url(#clip1400)\" style=\"stroke:#000000; stroke-width:4; stroke-opacity:1; fill:none\" points=\"\n",
       "  2294.7,1487.47 2294.7,1470.19 \n",
       "  \"/>\n",
       "<polyline clip-path=\"url(#clip1400)\" style=\"stroke:#000000; stroke-width:4; stroke-opacity:1; fill:none\" points=\"\n",
       "  301.332,1467.09 325.949,1467.09 \n",
       "  \"/>\n",
       "<polyline clip-path=\"url(#clip1400)\" style=\"stroke:#000000; stroke-width:4; stroke-opacity:1; fill:none\" points=\"\n",
       "  301.332,1178.35 325.949,1178.35 \n",
       "  \"/>\n",
       "<polyline clip-path=\"url(#clip1400)\" style=\"stroke:#000000; stroke-width:4; stroke-opacity:1; fill:none\" points=\"\n",
       "  301.332,889.621 325.949,889.621 \n",
       "  \"/>\n",
       "<polyline clip-path=\"url(#clip1400)\" style=\"stroke:#000000; stroke-width:4; stroke-opacity:1; fill:none\" points=\"\n",
       "  301.332,600.89 325.949,600.89 \n",
       "  \"/>\n",
       "<polyline clip-path=\"url(#clip1400)\" style=\"stroke:#000000; stroke-width:4; stroke-opacity:1; fill:none\" points=\"\n",
       "  301.332,312.158 325.949,312.158 \n",
       "  \"/>\n",
       "<g clip-path=\"url(#clip1400)\">\n",
       "<text style=\"fill:#000000; fill-opacity:1; font-family:Arial,Helvetica Neue,Helvetica,sans-serif; font-size:48px; text-anchor:middle;\" transform=\"rotate(0, 354.54, 1541.47)\" x=\"354.54\" y=\"1541.47\">0</text>\n",
       "</g>\n",
       "<g clip-path=\"url(#clip1400)\">\n",
       "<text style=\"fill:#000000; fill-opacity:1; font-family:Arial,Helvetica Neue,Helvetica,sans-serif; font-size:48px; text-anchor:middle;\" transform=\"rotate(0, 839.579, 1541.47)\" x=\"839.579\" y=\"1541.47\">100</text>\n",
       "</g>\n",
       "<g clip-path=\"url(#clip1400)\">\n",
       "<text style=\"fill:#000000; fill-opacity:1; font-family:Arial,Helvetica Neue,Helvetica,sans-serif; font-size:48px; text-anchor:middle;\" transform=\"rotate(0, 1324.62, 1541.47)\" x=\"1324.62\" y=\"1541.47\">200</text>\n",
       "</g>\n",
       "<g clip-path=\"url(#clip1400)\">\n",
       "<text style=\"fill:#000000; fill-opacity:1; font-family:Arial,Helvetica Neue,Helvetica,sans-serif; font-size:48px; text-anchor:middle;\" transform=\"rotate(0, 1809.66, 1541.47)\" x=\"1809.66\" y=\"1541.47\">300</text>\n",
       "</g>\n",
       "<g clip-path=\"url(#clip1400)\">\n",
       "<text style=\"fill:#000000; fill-opacity:1; font-family:Arial,Helvetica Neue,Helvetica,sans-serif; font-size:48px; text-anchor:middle;\" transform=\"rotate(0, 2294.7, 1541.47)\" x=\"2294.7\" y=\"1541.47\">400</text>\n",
       "</g>\n",
       "<g clip-path=\"url(#clip1400)\">\n",
       "<text style=\"fill:#000000; fill-opacity:1; font-family:Arial,Helvetica Neue,Helvetica,sans-serif; font-size:48px; text-anchor:end;\" transform=\"rotate(0, 277.332, 1484.59)\" x=\"277.332\" y=\"1484.59\">0</text>\n",
       "</g>\n",
       "<g clip-path=\"url(#clip1400)\">\n",
       "<text style=\"fill:#000000; fill-opacity:1; font-family:Arial,Helvetica Neue,Helvetica,sans-serif; font-size:48px; text-anchor:start;\" transform=\"rotate(0, 107.046, 1202.08)\" x=\"107.046\" y=\"1202.08\">5.0×10</text>\n",
       "</g>\n",
       "<g clip-path=\"url(#clip1400)\">\n",
       "<text style=\"fill:#000000; fill-opacity:1; font-family:Arial,Helvetica Neue,Helvetica,sans-serif; font-size:38px; text-anchor:start;\" transform=\"rotate(0, 255.587, 1174.67)\" x=\"255.587\" y=\"1174.67\">5</text>\n",
       "</g>\n",
       "<g clip-path=\"url(#clip1400)\">\n",
       "<text style=\"fill:#000000; fill-opacity:1; font-family:Arial,Helvetica Neue,Helvetica,sans-serif; font-size:48px; text-anchor:start;\" transform=\"rotate(0, 107.046, 913.349)\" x=\"107.046\" y=\"913.349\">1.0×10</text>\n",
       "</g>\n",
       "<g clip-path=\"url(#clip1400)\">\n",
       "<text style=\"fill:#000000; fill-opacity:1; font-family:Arial,Helvetica Neue,Helvetica,sans-serif; font-size:38px; text-anchor:start;\" transform=\"rotate(0, 255.587, 885.939)\" x=\"255.587\" y=\"885.939\">6</text>\n",
       "</g>\n",
       "<g clip-path=\"url(#clip1400)\">\n",
       "<text style=\"fill:#000000; fill-opacity:1; font-family:Arial,Helvetica Neue,Helvetica,sans-serif; font-size:48px; text-anchor:start;\" transform=\"rotate(0, 107.046, 624.617)\" x=\"107.046\" y=\"624.617\">1.5×10</text>\n",
       "</g>\n",
       "<g clip-path=\"url(#clip1400)\">\n",
       "<text style=\"fill:#000000; fill-opacity:1; font-family:Arial,Helvetica Neue,Helvetica,sans-serif; font-size:38px; text-anchor:start;\" transform=\"rotate(0, 255.587, 597.207)\" x=\"255.587\" y=\"597.207\">6</text>\n",
       "</g>\n",
       "<g clip-path=\"url(#clip1400)\">\n",
       "<text style=\"fill:#000000; fill-opacity:1; font-family:Arial,Helvetica Neue,Helvetica,sans-serif; font-size:48px; text-anchor:start;\" transform=\"rotate(0, 107.046, 335.885)\" x=\"107.046\" y=\"335.885\">2.0×10</text>\n",
       "</g>\n",
       "<g clip-path=\"url(#clip1400)\">\n",
       "<text style=\"fill:#000000; fill-opacity:1; font-family:Arial,Helvetica Neue,Helvetica,sans-serif; font-size:38px; text-anchor:start;\" transform=\"rotate(0, 255.587, 308.475)\" x=\"255.587\" y=\"308.475\">6</text>\n",
       "</g>\n",
       "<polyline clip-path=\"url(#clip1402)\" style=\"stroke:#009af9; stroke-width:4; stroke-opacity:1; fill:none\" points=\"\n",
       "  359.391,1314.39 364.241,1370.25 369.091,1079.87 373.942,1400.15 378.792,1066.7 383.643,1146.27 388.493,1358.27 393.343,1353.4 398.194,1189.22 403.044,974.135 \n",
       "  407.895,1131.62 412.745,1189.4 417.595,972.802 422.446,1376.66 427.296,1188.9 432.147,1329.02 436.997,1322.87 441.847,1418.55 446.698,1127.46 451.548,1234.32 \n",
       "  456.399,1345.66 461.249,948.026 466.099,1369.24 470.95,1148.16 475.8,1006.02 480.65,755.959 485.501,1408.55 490.351,1123.7 495.202,1350.53 500.052,1414.1 \n",
       "  504.902,581.356 509.753,1396.89 514.603,1138.3 519.454,1187.93 524.304,1146.85 529.154,1008.74 534.005,1134.18 538.855,1144.77 543.706,1287.79 548.556,1371.4 \n",
       "  553.406,948.393 558.257,979.895 563.107,1395.36 567.958,1297.39 572.808,1189.51 577.658,1294.11 582.509,1241.23 587.359,1353.97 592.209,791.705 597.06,1122.16 \n",
       "  601.91,968.366 606.761,1335.93 611.611,1039.13 616.461,1319.29 621.312,1026.07 626.162,1308.77 631.013,1339.97 635.863,906.675 640.713,1362.38 645.564,1274.46 \n",
       "  650.414,1265.33 655.265,991.115 660.115,1305.38 664.965,798.826 669.816,1380.13 674.666,1372.64 679.517,981.619 684.367,1296.4 689.217,1056.22 694.068,1257.61 \n",
       "  698.918,1118.54 703.768,1187.42 708.619,1141.61 713.469,1423.08 718.32,1300.4 723.17,1150.82 728.02,1339.1 732.871,1172.64 737.721,1407.23 742.572,1353.12 \n",
       "  747.422,1047.88 752.272,1299.74 757.123,1056.49 761.973,1410.88 766.824,1132.34 771.674,1147.98 776.524,1389.85 781.375,1312.69 786.225,1212.54 791.075,1307.06 \n",
       "  795.926,831.935 800.776,1191.86 805.627,1068.31 810.477,1171.05 815.327,1101.43 820.178,1074.81 825.028,1377.62 829.879,1142.94 834.729,1370.38 839.579,1233.14 \n",
       "  844.43,1275.21 849.28,1277.64 854.131,1386.08 858.981,1362.28 863.831,1131.79 868.682,960.405 873.532,1195.04 878.383,1251.98 883.233,1158.97 888.083,1183.32 \n",
       "  892.934,1230.71 897.784,1347.63 902.634,1180.46 907.485,1237.48 912.335,834.117 917.186,1305.25 922.036,1150.77 926.886,1266.61 931.737,1300.83 936.587,1408.32 \n",
       "  941.438,1146.47 946.288,1405.28 951.138,1264.11 955.989,1036.39 960.839,1281.87 965.69,1279.12 970.54,1378.48 975.39,1185.55 980.241,1015.08 985.091,1111.81 \n",
       "  989.942,1358.93 994.792,1161.66 999.642,1273.09 1004.49,1178.14 1009.34,1016.04 1014.19,1196.81 1019.04,1250.18 1023.89,1403.64 1028.74,1068.48 1033.6,1348.34 \n",
       "  1038.45,1259.01 1043.3,738.496 1048.15,1319.46 1053,955.075 1057.85,1208.88 1062.7,1325.35 1067.55,1183.11 1072.4,1204.36 1077.25,1212.14 1082.1,1217.26 \n",
       "  1086.95,1362.04 1091.8,1073.46 1096.65,1074.22 1101.5,1308.45 1106.35,1083.46 1111.2,728.501 1116.05,1351.86 1120.9,1172.77 1125.75,1320.9 1130.6,1184.34 \n",
       "  1135.45,1291.37 1140.3,1193.84 1145.15,1159.7 1150,878.211 1154.85,1323.62 1159.71,1315.42 1164.56,1373 1169.41,966.204 1174.26,1333.37 1179.11,1261.37 \n",
       "  1183.96,983.342 1188.81,1291.76 1193.66,1282.12 1198.51,1362.13 1203.36,1250.09 1208.21,1131.87 1213.06,1287.93 1217.91,1078.2 1222.76,399.481 1227.61,1234.62 \n",
       "  1232.46,1067.11 1237.31,1387.2 1242.16,1304.82 1247.01,778.71 1251.86,1173.34 1256.71,1321.98 1261.56,1315.97 1266.41,1389.83 1271.26,1317.66 1276.11,1284.22 \n",
       "  1280.96,1090.23 1285.82,1207.36 1290.67,1229.04 1295.52,1363.43 1300.37,1238.74 1305.22,1063.71 1310.07,1078.41 1314.92,1210.62 1319.77,1332.24 1324.62,772.061 \n",
       "  1329.47,1084.18 1334.32,1213.89 1339.17,1308.35 1344.02,1052.37 1348.87,1286.12 1353.72,1373.93 1358.57,1415.37 1363.42,1382.71 1368.27,1170.72 1373.12,1223.48 \n",
       "  1377.97,1248.25 1382.82,1372.86 1387.67,1161.16 1392.52,1065.86 1397.37,1164.66 1402.22,1255.11 1407.08,1240.69 1411.93,1188.99 1416.78,1193.93 1421.63,1205.74 \n",
       "  1426.48,1368.05 1431.33,1370.95 1436.18,1045.3 1441.03,1335.47 1445.88,367.603 1450.73,751.277 1455.58,1380.83 1460.43,1251.46 1465.28,1283.81 1470.13,721.514 \n",
       "  1474.98,1322.04 1479.83,1049.29 1484.68,1103.78 1489.53,1229.63 1494.38,1379.65 1499.23,1329.7 1504.08,1359.09 1508.93,1190.36 1513.78,1384.62 1518.63,1235.31 \n",
       "  1523.48,983.691 1528.33,1226.28 1533.19,898.039 1538.04,1252.19 1542.89,1009.62 1547.74,1386.04 1552.59,1196.34 1557.44,1264.75 1562.29,1135.55 1567.14,1363.23 \n",
       "  1571.99,1217.84 1576.84,1047.59 1581.69,907.459 1586.54,1040.15 1591.39,1093.38 1596.24,1056.71 1601.09,1080.48 1605.94,1063.83 1610.79,1109.28 1615.64,1385.12 \n",
       "  1620.49,1159.26 1625.34,1068.61 1630.19,1279.75 1635.04,1304.92 1639.89,1148.62 1644.74,1246.83 1649.59,1420.77 1654.45,952.197 1659.3,1223.66 1664.15,1344.46 \n",
       "  1669,1276.69 1673.85,1311.12 1678.7,1378.81 1683.55,1316.44 1688.4,1084.93 1693.25,1397.83 1698.1,1221.96 1702.95,1058.22 1707.8,1271.83 1712.65,1151.71 \n",
       "  1717.5,1228.11 1722.35,1271.05 1727.2,484.981 1732.05,1110.02 1736.9,1202.05 1741.75,1137.39 1746.6,1200.63 1751.45,1288.2 1756.3,1237.95 1761.15,1400.28 \n",
       "  1766,1347.31 1770.85,1327.79 1775.7,1308.75 1780.56,589.174 1785.41,1252.69 1790.26,1205.23 1795.11,1322.23 1799.96,1035.03 1804.81,1395.93 1809.66,1079.02 \n",
       "  1814.51,1342.1 1819.36,1280.42 1824.21,1173.68 1829.06,625.866 1833.91,1312.31 1838.76,819.922 1843.61,1179.65 1848.46,1181.82 1853.31,843.256 1858.16,1253.1 \n",
       "  1863.01,978.21 1867.86,1405.16 1872.71,1238.09 1877.56,1140.19 1882.41,996.701 1887.26,1198.1 1892.11,1183.47 1896.96,1253.47 1901.82,1222.7 1906.67,674.387 \n",
       "  1911.52,738.364 1916.37,718.83 1921.22,1317.08 1926.07,1200.47 1930.92,1391.36 1935.77,1145.88 1940.62,1410.32 1945.47,1243.08 1950.32,1297.8 1955.17,1083.68 \n",
       "  1960.02,1285.87 1964.87,1094.04 1969.72,1171.5 1974.57,1108.52 1979.42,1066.03 1984.27,1159.03 1989.12,1128.46 1993.97,1237.17 1998.82,864.355 2003.67,1256.3 \n",
       "  2008.52,1266.02 2013.37,572.477 2018.22,1364.82 2023.07,1067.19 2027.93,1217.03 2032.78,1347.76 2037.63,1248.17 2042.48,949.481 2047.33,1335.01 2052.18,1057.4 \n",
       "  2057.03,1227.3 2061.88,1248.68 2066.73,1274.78 2071.58,1425.33 2076.43,1262.37 2081.28,1442.61 2086.13,1307.73 2090.98,1156.06 2095.83,1321.57 2100.68,1360.53 \n",
       "  2105.53,1288.58 2110.38,1281.11 2115.23,1283.04 2120.08,1295.47 2124.93,1446.71 2129.78,1319.72 2134.63,1337.27 2139.48,1070.9 2144.33,1285.9 2149.18,1149.71 \n",
       "  2154.04,1346.36 2158.89,1187.72 2163.74,1217.88 2168.59,837.066 2173.44,742.952 2178.29,1260.35 2183.14,88.0053 2187.99,1332.88 2192.84,1305.91 2197.69,1358.1 \n",
       "  2202.54,1263.51 2207.39,1016.05 2212.24,1131.91 2217.09,1153.22 2221.94,1294.11 2226.79,1437.01 2231.64,1249.48 2236.49,1360.73 2241.34,1182.71 2246.19,1290.55 \n",
       "  2251.04,1283.15 2255.89,1134.97 2260.74,1322.68 2265.59,1375.51 2270.44,1363.24 2275.3,1348.13 2280.15,795.455 2285,1379.08 2289.85,1088.01 2294.7,765.782 \n",
       "  \n",
       "  \"/>\n",
       "<polyline clip-path=\"url(#clip1402)\" style=\"stroke:#e26f46; stroke-width:4; stroke-opacity:1; fill:none\" points=\"\n",
       "  359.391,1314.39 364.241,1370.25 369.091,1079.87 373.942,1400.15 378.792,1066.7 383.643,1146.27 388.493,1358.27 393.343,1353.4 398.194,1189.22 403.044,974.135 \n",
       "  407.895,1131.62 412.745,1189.4 417.595,972.802 422.446,1376.66 427.296,1188.9 432.147,1329.02 436.997,1322.87 441.847,1418.55 446.698,1127.46 451.548,1234.32 \n",
       "  456.399,1345.66 461.249,948.026 466.099,1369.24 470.95,1148.16 475.8,1006.02 480.65,755.959 485.501,1408.55 490.351,1123.7 495.202,1350.53 500.052,1414.1 \n",
       "  504.902,581.356 509.753,1396.89 514.603,1138.3 519.454,1187.93 524.304,1146.85 529.154,1008.74 534.005,1134.18 538.855,1144.77 543.706,1287.79 548.556,1371.4 \n",
       "  553.406,948.393 558.257,979.895 563.107,1395.36 567.958,1297.39 572.808,1189.51 577.658,1294.11 582.509,1241.23 587.359,1353.97 592.209,791.705 597.06,1122.16 \n",
       "  601.91,968.366 606.761,1335.93 611.611,1039.13 616.461,1319.29 621.312,1026.07 626.162,1308.77 631.013,1339.97 635.863,906.675 640.713,1362.38 645.564,1274.46 \n",
       "  650.414,1265.33 655.265,991.115 660.115,1305.38 664.965,798.826 669.816,1380.13 674.666,1372.64 679.517,981.619 684.367,1296.4 689.217,1056.22 694.068,1257.61 \n",
       "  698.918,1118.54 703.768,1187.42 708.619,1141.61 713.469,1423.08 718.32,1300.4 723.17,1150.82 728.02,1339.1 732.871,1172.64 737.721,1407.23 742.572,1353.12 \n",
       "  747.422,1047.88 752.272,1299.74 757.123,1056.49 761.973,1410.88 766.824,1132.34 771.674,1147.98 776.524,1389.85 781.375,1312.69 786.225,1212.54 791.075,1307.06 \n",
       "  795.926,831.935 800.776,1191.86 805.627,1068.31 810.477,1171.05 815.327,1101.43 820.178,1074.81 825.028,1377.62 829.879,1142.94 834.729,1370.38 839.579,1233.14 \n",
       "  844.43,1275.21 849.28,1277.64 854.131,1386.08 858.981,1362.28 863.831,1131.79 868.682,960.405 873.532,1195.04 878.383,1251.98 883.233,1158.97 888.083,1183.32 \n",
       "  892.934,1230.71 897.784,1347.63 902.634,1180.46 907.485,1237.48 912.335,834.117 917.186,1305.25 922.036,1150.77 926.886,1266.61 931.737,1300.83 936.587,1408.32 \n",
       "  941.438,1146.47 946.288,1405.28 951.138,1264.11 955.989,1036.39 960.839,1281.87 965.69,1279.12 970.54,1378.48 975.39,1185.55 980.241,1015.08 985.091,1111.81 \n",
       "  989.942,1358.93 994.792,1161.66 999.642,1273.09 1004.49,1178.14 1009.34,1016.04 1014.19,1196.81 1019.04,1250.18 1023.89,1403.64 1028.74,1068.48 1033.6,1348.34 \n",
       "  1038.45,1259.01 1043.3,738.496 1048.15,1319.46 1053,955.075 1057.85,1208.88 1062.7,1325.35 1067.55,1183.11 1072.4,1204.36 1077.25,1212.14 1082.1,1217.26 \n",
       "  1086.95,1362.04 1091.8,1073.46 1096.65,1074.22 1101.5,1308.45 1106.35,1083.46 1111.2,728.501 1116.05,1351.86 1120.9,1172.77 1125.75,1320.9 1130.6,1184.34 \n",
       "  1135.45,1291.37 1140.3,1193.84 1145.15,1159.7 1150,878.211 1154.85,1323.62 1159.71,1315.42 1164.56,1373 1169.41,966.204 1174.26,1333.37 1179.11,1261.37 \n",
       "  1183.96,983.342 1188.81,1291.76 1193.66,1282.12 1198.51,1362.13 1203.36,1250.09 1208.21,1131.87 1213.06,1287.93 1217.91,1078.2 1222.76,399.481 1227.61,1234.62 \n",
       "  1232.46,1067.11 1237.31,1387.2 1242.16,1304.82 1247.01,778.71 1251.86,1173.34 1256.71,1321.98 1261.56,1315.97 1266.41,1389.83 1271.26,1317.66 1276.11,1284.22 \n",
       "  1280.96,1090.23 1285.82,1207.36 1290.67,1229.04 1295.52,1363.43 1300.37,1238.74 1305.22,1063.71 1310.07,1078.41 1314.92,1210.62 1319.77,1332.24 1324.62,772.061 \n",
       "  1329.47,1084.18 1334.32,1213.89 1339.17,1308.35 1344.02,1052.37 1348.87,1286.12 1353.72,1373.93 1358.57,1415.37 1363.42,1382.71 1368.27,1170.72 1373.12,1223.48 \n",
       "  1377.97,1248.25 1382.82,1372.86 1387.67,1161.16 1392.52,1065.86 1397.37,1164.66 1402.22,1255.11 1407.08,1240.69 1411.93,1188.99 1416.78,1193.93 1421.63,1205.74 \n",
       "  1426.48,1368.05 1431.33,1370.95 1436.18,1045.3 1441.03,1335.47 1445.88,367.603 1450.73,751.277 1455.58,1380.83 1460.43,1251.46 1465.28,1283.81 1470.13,721.514 \n",
       "  1474.98,1322.04 1479.83,1049.29 1484.68,1103.78 1489.53,1229.63 1494.38,1379.65 1499.23,1329.7 1504.08,1359.09 1508.93,1190.36 1513.78,1384.62 1518.63,1235.31 \n",
       "  1523.48,983.691 1528.33,1226.28 1533.19,898.039 1538.04,1252.19 1542.89,1009.62 1547.74,1386.04 1552.59,1196.34 1557.44,1264.75 1562.29,1135.55 1567.14,1363.23 \n",
       "  1571.99,1217.84 1576.84,1047.59 1581.69,907.459 1586.54,1040.15 1591.39,1093.38 1596.24,1056.71 1601.09,1080.48 1605.94,1063.83 1610.79,1109.28 1615.64,1385.12 \n",
       "  1620.49,1159.26 1625.34,1068.61 1630.19,1279.75 1635.04,1304.92 1639.89,1148.62 1644.74,1246.83 1649.59,1420.77 1654.45,952.197 1659.3,1223.66 1664.15,1344.46 \n",
       "  1669,1276.69 1673.85,1311.12 1678.7,1378.81 1683.55,1316.44 1688.4,1084.93 1693.25,1397.83 1698.1,1221.96 1702.95,1058.22 1707.8,1271.83 1712.65,1151.71 \n",
       "  1717.5,1228.11 1722.35,1271.05 1727.2,484.981 1732.05,1110.02 1736.9,1202.05 1741.75,1137.39 1746.6,1200.63 1751.45,1288.2 1756.3,1237.95 1761.15,1400.28 \n",
       "  1766,1347.31 1770.85,1327.79 1775.7,1308.75 1780.56,589.174 1785.41,1252.69 1790.26,1205.23 1795.11,1322.23 1799.96,1035.03 1804.81,1395.93 1809.66,1079.02 \n",
       "  1814.51,1267.45 1819.36,1225.37 1824.21,1292.8 1829.06,750.697 1833.91,1306.2 1838.76,787.394 1843.61,1315.7 1848.46,1101.02 1853.31,672.464 1858.16,1275.61 \n",
       "  1863.01,944.361 1867.86,1252.4 1872.71,1087.39 1877.56,1163.96 1882.41,997.952 1887.26,1242.47 1892.11,1230.78 1896.96,1394.41 1901.82,1256.2 1906.67,483.312 \n",
       "  1911.52,724.163 1916.37,979.555 1921.22,1252.09 1926.07,1132.61 1930.92,1248.58 1935.77,1100.77 1940.62,1281.38 1945.47,1229.26 1950.32,1355.06 1955.17,1118.39 \n",
       "  1960.02,1222.55 1964.87,1076.29 1969.72,1187.62 1974.57,1033.1 1979.42,1170.73 1984.27,1139.54 1989.12,1088.95 1993.97,1311.71 1998.82,900.022 2003.67,1256.58 \n",
       "  2008.52,1179.56 2013.37,520.644 2018.22,1321.68 2023.07,1081.23 2027.93,1235.62 2032.78,1242.05 2037.63,1104.27 2042.48,842.319 2047.33,1332.15 2052.18,1072.64 \n",
       "  2057.03,1190.31 2061.88,1213.03 2066.73,1301.08 2071.58,1403.96 2076.43,1223.88 2081.28,1359.56 2086.13,1322.61 2090.98,1225.49 2095.83,1294.87 2100.68,1368.41 \n",
       "  2105.53,1253.31 2110.38,1300.59 2115.23,1351.26 2120.08,1393.43 2124.93,1405.64 2129.78,1269.54 2134.63,1246.15 2139.48,1064.27 2144.33,1266.74 2149.18,1203.19 \n",
       "  2154.04,1323.65 2158.89,1127 2163.74,1310.1 2168.59,963.047 2173.44,970.191 2178.29,1391.78 2183.14,888.845 2187.99,1239.48 2192.84,1268.55 2197.69,1233.52 \n",
       "  2202.54,1149.59 2207.39,976.223 2212.24,1049.24 2217.09,1304.82 2221.94,1062.2 2226.79,1313.58 2231.64,1278.86 2236.49,1349.67 2241.34,1158.58 2246.19,1149.72 \n",
       "  2251.04,1237.83 2255.89,1229.85 2260.74,1407.94 2265.59,1283.77 2270.44,1217.21 2275.3,1347.54 2280.15,777.62 2285,1128.54 2289.85,1013.19 2294.7,970.911 \n",
       "  \n",
       "  \"/>\n",
       "<path clip-path=\"url(#clip1400)\" d=\"\n",
       "M1989.93 312.204 L2280.76 312.204 L2280.76 130.764 L1989.93 130.764  Z\n",
       "  \" fill=\"#ffffff\" fill-rule=\"evenodd\" fill-opacity=\"1\"/>\n",
       "<polyline clip-path=\"url(#clip1400)\" style=\"stroke:#000000; stroke-width:4; stroke-opacity:1; fill:none\" points=\"\n",
       "  1989.93,312.204 2280.76,312.204 2280.76,130.764 1989.93,130.764 1989.93,312.204 \n",
       "  \"/>\n",
       "<polyline clip-path=\"url(#clip1400)\" style=\"stroke:#009af9; stroke-width:4; stroke-opacity:1; fill:none\" points=\"\n",
       "  2013.93,191.244 2157.93,191.244 \n",
       "  \"/>\n",
       "<g clip-path=\"url(#clip1400)\">\n",
       "<text style=\"fill:#000000; fill-opacity:1; font-family:Arial,Helvetica Neue,Helvetica,sans-serif; font-size:48px; text-anchor:start;\" transform=\"rotate(0, 2181.93, 208.744)\" x=\"2181.93\" y=\"208.744\">y1</text>\n",
       "</g>\n",
       "<polyline clip-path=\"url(#clip1400)\" style=\"stroke:#e26f46; stroke-width:4; stroke-opacity:1; fill:none\" points=\"\n",
       "  2013.93,251.724 2157.93,251.724 \n",
       "  \"/>\n",
       "<g clip-path=\"url(#clip1400)\">\n",
       "<text style=\"fill:#000000; fill-opacity:1; font-family:Arial,Helvetica Neue,Helvetica,sans-serif; font-size:48px; text-anchor:start;\" transform=\"rotate(0, 2181.93, 269.224)\" x=\"2181.93\" y=\"269.224\">y2</text>\n",
       "</g>\n",
       "</svg>\n"
      ]
     },
     "execution_count": 74,
     "metadata": {},
     "output_type": "execute_result"
    }
   ],
   "source": [
    "plot([μ,gdata_norm[:result]])"
   ]
  },
  {
   "cell_type": "code",
   "execution_count": 75,
   "metadata": {},
   "outputs": [
    {
     "data": {
      "text/plain": [
       "\"y_predict_julia_geostats.csv\""
      ]
     },
     "execution_count": 75,
     "metadata": {},
     "output_type": "execute_result"
    }
   ],
   "source": [
    "using DataFrames\n",
    "df=DataFrame()\n",
    "df.A =1:400\n",
    "df.B =μ\n",
    "CSV.write(\"y_predict_julia_geostats.csv\",df, writeheader=false)"
   ]
  },
  {
   "cell_type": "code",
   "execution_count": null,
   "metadata": {},
   "outputs": [],
   "source": []
  },
  {
   "cell_type": "code",
   "execution_count": null,
   "metadata": {},
   "outputs": [],
   "source": []
  }
 ],
 "metadata": {
  "kernelspec": {
   "display_name": "Julia 1.3.0",
   "language": "julia",
   "name": "julia-1.3"
  },
  "language_info": {
   "file_extension": ".jl",
   "mimetype": "application/julia",
   "name": "julia",
   "version": "1.3.0"
  }
 },
 "nbformat": 4,
 "nbformat_minor": 4
}
