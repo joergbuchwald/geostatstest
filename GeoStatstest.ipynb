{
 "cells": [
  {
   "cell_type": "code",
   "execution_count": 55,
   "metadata": {},
   "outputs": [],
   "source": [
    "using GeoStats"
   ]
  },
  {
   "cell_type": "code",
   "execution_count": 56,
   "metadata": {},
   "outputs": [
    {
     "name": "stdout",
     "output_type": "stream",
     "text": [
      "search: \u001b[0m\u001b[1mG\u001b[22m\u001b[0m\u001b[1me\u001b[22m\u001b[0m\u001b[1mo\u001b[22m\u001b[0m\u001b[1mD\u001b[22m\u001b[0m\u001b[1ma\u001b[22m\u001b[0m\u001b[1mt\u001b[22m\u001b[0m\u001b[1ma\u001b[22m\u001b[0m\u001b[1mF\u001b[22m\u001b[0m\u001b[1mr\u001b[22m\u001b[0m\u001b[1ma\u001b[22m\u001b[0m\u001b[1mm\u001b[22m\u001b[0m\u001b[1me\u001b[22m\n",
      "\n"
     ]
    },
    {
     "data": {
      "text/latex": [
       "\\begin{verbatim}\n",
       "GeoDataFrame(data, coordnames)\n",
       "\\end{verbatim}\n",
       "A dataframe object \\texttt{data} with additional metadata for tracking the columns \\texttt{coordnames} that represent spatial coordinates.\n",
       "\n",
       "\\subsection{Examples}\n",
       "If the data was already loaded in a normal DataFrame \\texttt{data}, and there exists columns named \\texttt{x}, \\texttt{y} and \\texttt{z}, wrap the data and specify the column names:\n",
       "\n",
       "\\begin{verbatim}\n",
       "julia> GeoDataFrame(data, [:x,:y,:z])\n",
       "\\end{verbatim}\n",
       "Alternatively, load the data directly into a \\texttt{GeoDataFrame} object by using the method \\href{@ref}{\\texttt{readgeotable}}.\n",
       "\n",
       "\\subsubsection{Notes}\n",
       "This type is a lightweight wrapper over Julia's DataFrame types. No additional storage is required other than a vector of symbols with the columns names representing spatial coordinates.\n",
       "\n"
      ],
      "text/markdown": [
       "```\n",
       "GeoDataFrame(data, coordnames)\n",
       "```\n",
       "\n",
       "A dataframe object `data` with additional metadata for tracking the columns `coordnames` that represent spatial coordinates.\n",
       "\n",
       "## Examples\n",
       "\n",
       "If the data was already loaded in a normal DataFrame `data`, and there exists columns named `x`, `y` and `z`, wrap the data and specify the column names:\n",
       "\n",
       "```julia\n",
       "julia> GeoDataFrame(data, [:x,:y,:z])\n",
       "```\n",
       "\n",
       "Alternatively, load the data directly into a `GeoDataFrame` object by using the method [`readgeotable`](@ref).\n",
       "\n",
       "### Notes\n",
       "\n",
       "This type is a lightweight wrapper over Julia's DataFrame types. No additional storage is required other than a vector of symbols with the columns names representing spatial coordinates.\n"
      ],
      "text/plain": [
       "\u001b[36m  GeoDataFrame(data, coordnames)\u001b[39m\n",
       "\n",
       "  A dataframe object \u001b[36mdata\u001b[39m with additional metadata for tracking the columns\n",
       "  \u001b[36mcoordnames\u001b[39m that represent spatial coordinates.\n",
       "\n",
       "\u001b[1m  Examples\u001b[22m\n",
       "\u001b[1m  ==========\u001b[22m\n",
       "\n",
       "  If the data was already loaded in a normal DataFrame \u001b[36mdata\u001b[39m, and there exists\n",
       "  columns named \u001b[36mx\u001b[39m, \u001b[36my\u001b[39m and \u001b[36mz\u001b[39m, wrap the data and specify the column names:\n",
       "\n",
       "\u001b[36m  julia> GeoDataFrame(data, [:x,:y,:z])\u001b[39m\n",
       "\n",
       "  Alternatively, load the data directly into a \u001b[36mGeoDataFrame\u001b[39m object by using\n",
       "  the method \u001b[36mreadgeotable\u001b[39m.\n",
       "\n",
       "\u001b[1m  Notes\u001b[22m\n",
       "\u001b[1m  –––––––\u001b[22m\n",
       "\n",
       "  This type is a lightweight wrapper over Julia's DataFrame types. No\n",
       "  additional storage is required other than a vector of symbols with the\n",
       "  columns names representing spatial coordinates."
      ]
     },
     "execution_count": 56,
     "metadata": {},
     "output_type": "execute_result"
    }
   ],
   "source": [
    "?GeoDataFrame"
   ]
  },
  {
   "cell_type": "code",
   "execution_count": 57,
   "metadata": {},
   "outputs": [],
   "source": [
    "using CSV"
   ]
  },
  {
   "cell_type": "code",
   "execution_count": 77,
   "metadata": {
    "collapsed": true,
    "jupyter": {
     "outputs_hidden": true
    }
   },
   "outputs": [
    {
     "data": {
      "text/plain": [
       "400-element Array{Float64,1}:\n",
       " 264432.25520764623       \n",
       " 167688.41183851557       \n",
       " 670549.1309412513        \n",
       " 115919.8530580652        \n",
       " 693350.508694783         \n",
       " 555560.1098441511        \n",
       " 188442.96715840694       \n",
       " 196862.60159301193       \n",
       " 481180.30510619          \n",
       " 853647.0166223499        \n",
       " 580936.4451294354        \n",
       " 480871.4034428356        \n",
       " 855955.6781931772        \n",
       "      ⋮                   \n",
       " 534234.1675322347        \n",
       " 549584.2680083631        \n",
       " 397004.1057001574        \n",
       " 410824.6893967921        \n",
       " 102427.80128575808       \n",
       " 317454.0032188951        \n",
       " 432703.8716610953        \n",
       " 207019.8774613448        \n",
       "      1.1939538005072905e6\n",
       " 586269.1259098226        \n",
       " 786013.4761361814        \n",
       " 859230.0453506851        "
      ]
     },
     "execution_count": 77,
     "metadata": {},
     "output_type": "execute_result"
    }
   ],
   "source": [
    "X_all=Matrix(CSV.read(\"x_shuffled.csv\",header=0))\n",
    "y_all=vec(Matrix(CSV.read(\"y_shuffled.csv\", header=0)))"
   ]
  },
  {
   "cell_type": "code",
   "execution_count": 81,
   "metadata": {
    "collapsed": true,
    "jupyter": {
     "outputs_hidden": true
    }
   },
   "outputs": [
    {
     "data": {
      "text/plain": [
       "300-element Array{Float64,1}:\n",
       " 264432.25520764623      \n",
       " 167688.41183851557      \n",
       " 670549.1309412513       \n",
       " 115919.8530580652       \n",
       " 693350.508694783        \n",
       " 555560.1098441511       \n",
       " 188442.96715840694      \n",
       " 196862.60159301193      \n",
       " 481180.30510619         \n",
       " 853647.0166223499       \n",
       " 580936.4451294354       \n",
       " 480871.4034428356       \n",
       " 855955.6781931772       \n",
       "      ⋮                  \n",
       " 396801.95264317875      \n",
       " 115684.45379602977      \n",
       " 207408.5438973958       \n",
       " 241223.6170499474       \n",
       " 274185.8344435944       \n",
       "      1.520287439001148e6\n",
       " 371262.97747558105      \n",
       " 453453.30194002483      \n",
       " 250841.83928940955      \n",
       " 748202.5476966833       \n",
       " 123222.96428520135      \n",
       " 672021.531663523        "
      ]
     },
     "execution_count": 81,
     "metadata": {},
     "output_type": "execute_result"
    }
   ],
   "source": [
    "X_train=X_all[1:300,:]\n",
    "y_train=y_all[1:300]"
   ]
  },
  {
   "cell_type": "code",
   "execution_count": null,
   "metadata": {},
   "outputs": [],
   "source": []
  },
  {
   "cell_type": "code",
   "execution_count": null,
   "metadata": {},
   "outputs": [],
   "source": []
  },
  {
   "cell_type": "code",
   "execution_count": 145,
   "metadata": {},
   "outputs": [
    {
     "data": {
      "text/plain": [
       "normalize_matrix (generic function with 1 method)"
      ]
     },
     "execution_count": 145,
     "metadata": {},
     "output_type": "execute_result"
    }
   ],
   "source": [
    "function normalize_matrix(matrix)\n",
    "    matrix_new = matrix\n",
    "    for (i,_) in enumerate(matrix[1,:])\n",
    "        matrix_new[:,i]=matrix[:,i].-minimum(matrix[:,i])\n",
    "        matrix_new[:,i]=matrix_new[:,i]./maximum(matrix_new[:,i])\n",
    "    end\n",
    "    return matrix_new\n",
    "end"
   ]
  },
  {
   "cell_type": "code",
   "execution_count": 146,
   "metadata": {
    "collapsed": true,
    "jupyter": {
     "outputs_hidden": true
    }
   },
   "outputs": [
    {
     "data": {
      "text/plain": [
       "400×15 Array{Float64,2}:\n",
       " 0.325524  0.950538  0.357411   0.389105   …  0.616287  0.305131    0.165657 \n",
       " 0.652948  0.704087  0.861773   0.837654      0.631708  0.660561    0.518479 \n",
       " 0.290786  0.383286  0.833265   0.9898        0.337034  0.442042    0.0338813\n",
       " 0.749271  0.479017  0.0575158  0.904464      0.708453  0.545701    0.448983 \n",
       " 0.60662   0.653666  0.589511   0.0862952     0.598314  0.859845    0.214738 \n",
       " 0.657132  0.329131  0.215921   0.33697    …  0.543194  0.185986    0.314512 \n",
       " 0.287145  0.397668  0.518124   0.920083      0.428322  0.239789    0.514247 \n",
       " 0.677486  0.642819  0.279754   0.225433      0.487099  0.737915    0.0592817\n",
       " 0.482049  0.555148  0.955058   0.503599      0.587627  0.23451     0.17101  \n",
       " 0.335434  0.281389  0.618836   0.666675      0.714444  0.576413    0.0776534\n",
       " 0.458438  0.735938  0.266868   0.106359   …  0.331804  0.756263    0.295403 \n",
       " 0.310861  0.412033  0.303915   0.419046      0.394073  0.00192811  0.319251 \n",
       " 0.576896  0.294779  0.96941    0.75033       0.664093  0.277847    0.173671 \n",
       " ⋮                                         ⋱                                 \n",
       " 0.745721  0.39426   0.611934   0.718905      0.609045  0.929257    0.130732 \n",
       " 0.689604  0.18274   0.0773333  0.0786033     0.577367  0.336914    0.489229 \n",
       " 0.823232  0.496345  0.818769   0.0562795  …  0.596867  0.313593    0.251555 \n",
       " 0.52157   0.77115   0.130445   0.439108      0.531304  0.373839    0.762161 \n",
       " 0.331634  0.584108  0.370114   0.774935      0.553285  0.511117    0.228625 \n",
       " 0.879449  0.403628  0.260727   0.785875      1.0       0.777778    0.609589 \n",
       " 0.181605  0.231573  0.853557   0.213557      0.678764  0.0199391   0.12525  \n",
       " 0.260827  0.599174  0.219731   0.793242   …  0.369327  0.993252    0.223371 \n",
       " 0.711291  0.206614  0.543204   0.874076      0.419024  0.205527    0.0665026\n",
       " 0.306579  0.470404  0.680667   0.25232       0.458512  0.832928    0.293363 \n",
       " 0.692603  0.662464  0.988678   0.610005      0.399347  0.0244992   0.0554767\n",
       " 0.456645  0.515678  0.888828   0.104131      0.415229  0.632068    0.657092 "
      ]
     },
     "execution_count": 146,
     "metadata": {},
     "output_type": "execute_result"
    }
   ],
   "source": [
    "X_all_norm=normalize_matrix(X_all)"
   ]
  },
  {
   "cell_type": "code",
   "execution_count": 147,
   "metadata": {
    "collapsed": true,
    "jupyter": {
     "outputs_hidden": true
    }
   },
   "outputs": [
    {
     "data": {
      "text/plain": [
       "300×15 Array{Float64,2}:\n",
       " 0.325524  0.950538  0.357411   …  0.616287  0.305131    0.165657  \n",
       " 0.652948  0.704087  0.861773      0.631708  0.660561    0.518479  \n",
       " 0.290786  0.383286  0.833265      0.337034  0.442042    0.0338813 \n",
       " 0.749271  0.479017  0.0575158     0.708453  0.545701    0.448983  \n",
       " 0.60662   0.653666  0.589511      0.598314  0.859845    0.214738  \n",
       " 0.657132  0.329131  0.215921   …  0.543194  0.185986    0.314512  \n",
       " 0.287145  0.397668  0.518124      0.428322  0.239789    0.514247  \n",
       " 0.677486  0.642819  0.279754      0.487099  0.737915    0.0592817 \n",
       " 0.482049  0.555148  0.955058      0.587627  0.23451     0.17101   \n",
       " 0.335434  0.281389  0.618836      0.714444  0.576413    0.0776534 \n",
       " 0.458438  0.735938  0.266868   …  0.331804  0.756263    0.295403  \n",
       " 0.310861  0.412033  0.303915      0.394073  0.00192811  0.319251  \n",
       " 0.576896  0.294779  0.96941       0.664093  0.277847    0.173671  \n",
       " ⋮                              ⋱                                  \n",
       " 0.500699  0.537482  0.669281      0.382935  0.145281    0.544762  \n",
       " 0.417986  0.781967  0.380758      0.598562  0.179207    0.209917  \n",
       " 0.651835  0.131384  0.960086   …  0.651489  0.2679      0.524527  \n",
       " 0.422508  0.371174  0.930225      0.56604   0.255505    0.187583  \n",
       " 0.424089  0.41038   0.232929      0.697714  0.556856    0.0440756 \n",
       " 0.724449  0.601482  0.938874      0.48556   0.670997    0.00879225\n",
       " 0.193264  0.428874  0.686467      0.445002  0.100522    0.240174  \n",
       " 0.539898  0.386087  0.556154   …  0.474284  0.982616    0.561411  \n",
       " 0.668475  0.512893  0.439263      0.627054  0.15659     0.229706  \n",
       " 0.236431  0.658412  0.983822      0.657046  0.689024    0.509571  \n",
       " 0.664262  0.585362  0.783288      0.199395  0.676919    0.382728  \n",
       " 0.207818  0.540015  0.160931      0.6299    0.34683     0.326477  "
      ]
     },
     "execution_count": 147,
     "metadata": {},
     "output_type": "execute_result"
    }
   ],
   "source": [
    "X_train_norm=X_all_norm[1:300,:]"
   ]
  },
  {
   "cell_type": "code",
   "execution_count": 82,
   "metadata": {},
   "outputs": [
    {
     "data": {
      "text/plain": [
       "normalize_df (generic function with 1 method)"
      ]
     },
     "execution_count": 82,
     "metadata": {},
     "output_type": "execute_result"
    }
   ],
   "source": [
    "function normalize_df(dataframe)\n",
    "    df=dataframe\n",
    "    for name in names(dataframe[1:15])\n",
    "        df[name] = dataframe[name].-minimum(dataframe[name])\n",
    "        df[name] = df[name]./maximum(df[name])\n",
    "    end\n",
    "    return df\n",
    "end\n",
    "    "
   ]
  },
  {
   "cell_type": "code",
   "execution_count": 156,
   "metadata": {},
   "outputs": [
    {
     "data": {
      "text/plain": [
       "EmpiricalVariogram([6.070067482033012e8, 1.8210202446099038e9, 3.035033741016506e9, 4.2490472374231086e9, 5.463060733829711e9, 6.677074230236314e9, 7.891087726642917e9, 9.105101223049519e9, 1.0319114719456121e10, 1.1533128215862724e10, 1.2747141712269327e10, 1.3961155208675928e10, 1.5175168705082531e10, 1.6389182201489134e10, 1.7603195697895737e10, 1.8817209194302338e10, 2.0031222690708942e10, 2.1245236187115543e10, 2.245924968352215e10, 2.367326317992875e10], [6.7262193206467834e10, NaN, NaN, NaN, NaN, NaN, NaN, NaN, NaN, NaN, NaN, NaN, NaN, NaN, NaN, NaN, NaN, NaN, NaN, NaN], [91, 0, 0, 0, 0, 0, 0, 0, 0, 0, 0, 0, 0, 0, 0, 0, 0, 0, 0, 0])"
      ]
     },
     "execution_count": 156,
     "metadata": {},
     "output_type": "execute_result"
    }
   ],
   "source": [
    "gamma1=EmpiricalVariogram(X_train,y_train)"
   ]
  },
  {
   "cell_type": "code",
   "execution_count": 157,
   "metadata": {},
   "outputs": [
    {
     "data": {
      "text/plain": [
       "EmpiricalVariogram([0.08781919022760766, 0.263457570682823, 0.4390959511380383, 0.6147343315932536, 0.7903727120484689, 0.9660110925036842, 1.1416494729588995, 1.3172878534141148, 1.4929262338693303, 1.6685646143245456, 1.844202994779761, 2.019841375234976, 2.1954797556901915, 2.371118136145407, 2.546756516600622, 2.7223948970558376, 2.8980332775110527, 3.073671657966268, 3.2493100384214832, 3.4249484188766988], [NaN, NaN, NaN, NaN, NaN, NaN, NaN, NaN, NaN, NaN, NaN, NaN, NaN, NaN, NaN, NaN, NaN, NaN, NaN, NaN], [0, 0, 0, 0, 0, 0, 0, 0, 0, 0, 0, 0, 0, 0, 0, 0, 0, 0, 0, 0])"
      ]
     },
     "execution_count": 157,
     "metadata": {},
     "output_type": "execute_result"
    }
   ],
   "source": [
    "gamma2=EmpiricalVariogram(X_train_norm,y_train)"
   ]
  },
  {
   "cell_type": "code",
   "execution_count": 159,
   "metadata": {},
   "outputs": [
    {
     "ename": "ArgumentError",
     "evalue": "ArgumentError: reducing over an empty collection is not allowed",
     "output_type": "error",
     "traceback": [
      "ArgumentError: reducing over an empty collection is not allowed",
      "",
      "Stacktrace:",
      " [1] _empty_reduce_error() at ./reduce.jl:212",
      " [2] reduce_empty(::Function, ::Type) at ./reduce.jl:222",
      " [3] mapreduce_empty(::typeof(identity), ::Function, ::Type) at ./reduce.jl:247",
      " [4] _mapreduce(::typeof(identity), ::typeof(max), ::IndexLinear, ::Array{Float64,1}) at ./reduce.jl:301",
      " [5] _mapreduce_dim at ./reducedim.jl:312 [inlined]",
      " [6] #mapreduce#584 at ./reducedim.jl:307 [inlined]",
      " [7] mapreduce at ./reducedim.jl:307 [inlined]",
      " [8] _maximum at ./reducedim.jl:657 [inlined]",
      " [9] _maximum at ./reducedim.jl:656 [inlined]",
      " [10] #maximum#591 at ./reducedim.jl:652 [inlined]",
      " [11] maximum(::Array{Float64,1}) at ./reducedim.jl:652",
      " [12] fit_impl(::Type{SphericalVariogram}, ::EmpiricalVariogram, ::WeightedLeastSquares) at /home/buchwalj/.julia/packages/Variography/YxsOD/src/fitting.jl:85",
      " [13] fit at /home/buchwalj/.julia/packages/Variography/YxsOD/src/fitting.jl:36 [inlined] (repeats 2 times)",
      " [14] top-level scope at In[159]:1"
     ]
    }
   ],
   "source": [
    "theoretical = Variography.fit(SphericalVariogram, gamma2)"
   ]
  },
  {
   "cell_type": "code",
   "execution_count": 116,
   "metadata": {},
   "outputs": [
    {
     "data": {
      "text/plain": [
       "KrigingEstimators.FittedKriging{OrdinaryKriging{SphericalVariogram{Float64,Distances.Euclidean}},KrigingEstimators.KrigingState{Float64,Float64,LinearAlgebra.Adjoint{Float64,Array{Float64,2}},Array{Float64,1},LinearAlgebra.LU{Float64,Array{Float64,2}},Float64}}(OrdinaryKriging{SphericalVariogram{Float64,Distances.Euclidean}}(SphericalVariogram{Float64,Distances.Euclidean}\n",
       "  range: Float64 3.2946662898886776e8\n",
       "  sill: Float64 6.726219320646783e10\n",
       "  nugget: Float64 3.2357932797945004e10\n",
       "  distance: Distances.Euclidean\n",
       "), KrigingEstimators.KrigingState{Float64,Float64,LinearAlgebra.Adjoint{Float64,Array{Float64,2}},Array{Float64,1},LinearAlgebra.LU{Float64,Array{Float64,2}},Float64}([2.5517504e9 2.977928704e9 … 2.992654336e9 2.398543872e9; 0.37270960211753845 0.34937259554862976 … 0.3381301462650299 0.3338361978530884; … ; 292.7633056640625 293.4721374511719 … 293.5047607421875 292.8464660644531; 2.4051436301541415e-20 6.428909113073219e-20 … 4.880736552868805e-20 4.239224383621547e-20], [264432.25520764623, 167688.41183851557, 670549.1309412513, 115919.8530580652, 693350.508694783, 555560.1098441511, 188442.96715840694, 196862.60159301193, 481180.30510619, 853647.0166223499  …  207408.5438973958, 241223.6170499474, 274185.8344435944, 1.520287439001148e6, 371262.97747558105, 453453.30194002483, 250841.83928940955, 748202.5476966833, 123222.96428520135, 672021.531663523], LinearAlgebra.LU{Float64,Array{Float64,2}}([6.726219320646783e10 -7.62939453125e-6 … 1.2312690512767159e10 1.0; -1.134276800613806e-16 6.726219320646783e10 … -6.2327946110730506e-6 1.0000000000000002; … ; 0.18305514473743312 -9.266415967051332e-17 … 3.730278035813933e10 0.032031780242799374; 1.4867192881005278e-11 1.486719288100528e-11 … 8.586968567829632e-13 -1.5963794093440954e-10], [1, 2, 3, 4, 5, 6, 7, 8, 9, 10  …  292, 293, 294, 295, 296, 297, 298, 299, 300, 301], 0), [NaN, NaN, 4.65655668818445e-310, 4.65655844167283e-310, NaN, 4.65655665645516e-310, NaN, NaN, NaN, NaN  …  1.27e-321, 6.90684131709075e-310, 6.90684131709075e-310, 5.0e-324, 4.65656605650347e-310, 0.0, NaN, 4.65655651439666e-310, 0.0, 4.6565626246994e-310]))"
      ]
     },
     "execution_count": 116,
     "metadata": {},
     "output_type": "execute_result"
    }
   ],
   "source": [
    "ok = OrdinaryKriging(adjoint(X_train),y_train,theoretical)"
   ]
  },
  {
   "cell_type": "code",
   "execution_count": 139,
   "metadata": {},
   "outputs": [
    {
     "data": {
      "text/plain": [
       "prediction (generic function with 1 method)"
      ]
     },
     "execution_count": 139,
     "metadata": {},
     "output_type": "execute_result"
    }
   ],
   "source": [
    "function prediction(X)\n",
    "    meanval=X[:,1]\n",
    "    for (i, _) in enumerate(X[:,1])\n",
    "        meanval[i], sigma = predict(ok,X[i,:])\n",
    "    end\n",
    "    return meanval\n",
    "end"
   ]
  },
  {
   "cell_type": "code",
   "execution_count": 140,
   "metadata": {},
   "outputs": [
    {
     "data": {
      "text/plain": [
       "400-element Array{Float64,1}:\n",
       " 264432.255207646  \n",
       " 167688.411838515  \n",
       " 670549.1309412511 \n",
       " 115919.85305806519\n",
       " 693350.5086947829 \n",
       " 555560.109844151  \n",
       " 188442.96715840686\n",
       " 196862.601593012  \n",
       " 481180.3051061902 \n",
       " 853647.0166223499 \n",
       " 580936.445129435  \n",
       " 480871.4034428355 \n",
       " 855955.6781931773 \n",
       "      ⋮            \n",
       " 456256.8122958507 \n",
       " 565802.4278368937 \n",
       " 414163.08522705873\n",
       " 521355.90737576777\n",
       " 494060.29008716834\n",
       " 341188.0821535221 \n",
       " 467785.54500648996\n",
       " 509625.4816023401 \n",
       " 566061.1781555831 \n",
       " 508410.77045980486\n",
       " 550716.820616945  \n",
       " 411950.63263809937"
      ]
     },
     "execution_count": 140,
     "metadata": {},
     "output_type": "execute_result"
    }
   ],
   "source": [
    "μ = prediction(X_all)"
   ]
  },
  {
   "cell_type": "code",
   "execution_count": null,
   "metadata": {},
   "outputs": [],
   "source": []
  },
  {
   "cell_type": "code",
   "execution_count": null,
   "metadata": {},
   "outputs": [],
   "source": []
  },
  {
   "cell_type": "code",
   "execution_count": null,
   "metadata": {},
   "outputs": [],
   "source": []
  },
  {
   "cell_type": "code",
   "execution_count": null,
   "metadata": {},
   "outputs": [],
   "source": []
  },
  {
   "cell_type": "code",
   "execution_count": null,
   "metadata": {},
   "outputs": [],
   "source": []
  },
  {
   "cell_type": "code",
   "execution_count": 73,
   "metadata": {},
   "outputs": [],
   "source": [
    "using Plots"
   ]
  },
  {
   "cell_type": "code",
   "execution_count": 141,
   "metadata": {},
   "outputs": [
    {
     "data": {
      "image/svg+xml": [
       "<?xml version=\"1.0\" encoding=\"utf-8\"?>\n",
       "<svg xmlns=\"http://www.w3.org/2000/svg\" xmlns:xlink=\"http://www.w3.org/1999/xlink\" width=\"600\" height=\"400\" viewBox=\"0 0 2400 1600\">\n",
       "<defs>\n",
       "  <clipPath id=\"clip1800\">\n",
       "    <rect x=\"0\" y=\"0\" width=\"2400\" height=\"1600\"/>\n",
       "  </clipPath>\n",
       "</defs>\n",
       "<path clip-path=\"url(#clip1800)\" d=\"\n",
       "M0 1600 L2400 1600 L2400 0 L0 0  Z\n",
       "  \" fill=\"#ffffff\" fill-rule=\"evenodd\" fill-opacity=\"1\"/>\n",
       "<defs>\n",
       "  <clipPath id=\"clip1801\">\n",
       "    <rect x=\"480\" y=\"0\" width=\"1681\" height=\"1600\"/>\n",
       "  </clipPath>\n",
       "</defs>\n",
       "<path clip-path=\"url(#clip1800)\" d=\"\n",
       "M328.094 1487.47 L2352.76 1487.47 L2352.76 47.2441 L328.094 47.2441  Z\n",
       "  \" fill=\"#ffffff\" fill-rule=\"evenodd\" fill-opacity=\"1\"/>\n",
       "<defs>\n",
       "  <clipPath id=\"clip1802\">\n",
       "    <rect x=\"328\" y=\"47\" width=\"2026\" height=\"1441\"/>\n",
       "  </clipPath>\n",
       "</defs>\n",
       "<polyline clip-path=\"url(#clip1802)\" style=\"stroke:#000000; stroke-width:2; stroke-opacity:0.1; fill:none\" points=\"\n",
       "  380.608,1487.47 380.608,47.2441 \n",
       "  \"/>\n",
       "<polyline clip-path=\"url(#clip1802)\" style=\"stroke:#000000; stroke-width:2; stroke-opacity:0.1; fill:none\" points=\"\n",
       "  859.32,1487.47 859.32,47.2441 \n",
       "  \"/>\n",
       "<polyline clip-path=\"url(#clip1802)\" style=\"stroke:#000000; stroke-width:2; stroke-opacity:0.1; fill:none\" points=\"\n",
       "  1338.03,1487.47 1338.03,47.2441 \n",
       "  \"/>\n",
       "<polyline clip-path=\"url(#clip1802)\" style=\"stroke:#000000; stroke-width:2; stroke-opacity:0.1; fill:none\" points=\"\n",
       "  1816.74,1487.47 1816.74,47.2441 \n",
       "  \"/>\n",
       "<polyline clip-path=\"url(#clip1802)\" style=\"stroke:#000000; stroke-width:2; stroke-opacity:0.1; fill:none\" points=\"\n",
       "  2295.45,1487.47 2295.45,47.2441 \n",
       "  \"/>\n",
       "<polyline clip-path=\"url(#clip1802)\" style=\"stroke:#000000; stroke-width:2; stroke-opacity:0.1; fill:none\" points=\"\n",
       "  328.094,1317.52 2352.76,1317.52 \n",
       "  \"/>\n",
       "<polyline clip-path=\"url(#clip1802)\" style=\"stroke:#000000; stroke-width:2; stroke-opacity:0.1; fill:none\" points=\"\n",
       "  328.094,1131.68 2352.76,1131.68 \n",
       "  \"/>\n",
       "<polyline clip-path=\"url(#clip1802)\" style=\"stroke:#000000; stroke-width:2; stroke-opacity:0.1; fill:none\" points=\"\n",
       "  328.094,945.838 2352.76,945.838 \n",
       "  \"/>\n",
       "<polyline clip-path=\"url(#clip1802)\" style=\"stroke:#000000; stroke-width:2; stroke-opacity:0.1; fill:none\" points=\"\n",
       "  328.094,759.997 2352.76,759.997 \n",
       "  \"/>\n",
       "<polyline clip-path=\"url(#clip1802)\" style=\"stroke:#000000; stroke-width:2; stroke-opacity:0.1; fill:none\" points=\"\n",
       "  328.094,574.156 2352.76,574.156 \n",
       "  \"/>\n",
       "<polyline clip-path=\"url(#clip1802)\" style=\"stroke:#000000; stroke-width:2; stroke-opacity:0.1; fill:none\" points=\"\n",
       "  328.094,388.314 2352.76,388.314 \n",
       "  \"/>\n",
       "<polyline clip-path=\"url(#clip1802)\" style=\"stroke:#000000; stroke-width:2; stroke-opacity:0.1; fill:none\" points=\"\n",
       "  328.094,202.473 2352.76,202.473 \n",
       "  \"/>\n",
       "<polyline clip-path=\"url(#clip1800)\" style=\"stroke:#000000; stroke-width:4; stroke-opacity:1; fill:none\" points=\"\n",
       "  328.094,1487.47 2352.76,1487.47 \n",
       "  \"/>\n",
       "<polyline clip-path=\"url(#clip1800)\" style=\"stroke:#000000; stroke-width:4; stroke-opacity:1; fill:none\" points=\"\n",
       "  328.094,1487.47 328.094,47.2441 \n",
       "  \"/>\n",
       "<polyline clip-path=\"url(#clip1800)\" style=\"stroke:#000000; stroke-width:4; stroke-opacity:1; fill:none\" points=\"\n",
       "  380.608,1487.47 380.608,1470.19 \n",
       "  \"/>\n",
       "<polyline clip-path=\"url(#clip1800)\" style=\"stroke:#000000; stroke-width:4; stroke-opacity:1; fill:none\" points=\"\n",
       "  859.32,1487.47 859.32,1470.19 \n",
       "  \"/>\n",
       "<polyline clip-path=\"url(#clip1800)\" style=\"stroke:#000000; stroke-width:4; stroke-opacity:1; fill:none\" points=\"\n",
       "  1338.03,1487.47 1338.03,1470.19 \n",
       "  \"/>\n",
       "<polyline clip-path=\"url(#clip1800)\" style=\"stroke:#000000; stroke-width:4; stroke-opacity:1; fill:none\" points=\"\n",
       "  1816.74,1487.47 1816.74,1470.19 \n",
       "  \"/>\n",
       "<polyline clip-path=\"url(#clip1800)\" style=\"stroke:#000000; stroke-width:4; stroke-opacity:1; fill:none\" points=\"\n",
       "  2295.45,1487.47 2295.45,1470.19 \n",
       "  \"/>\n",
       "<polyline clip-path=\"url(#clip1800)\" style=\"stroke:#000000; stroke-width:4; stroke-opacity:1; fill:none\" points=\"\n",
       "  328.094,1317.52 352.39,1317.52 \n",
       "  \"/>\n",
       "<polyline clip-path=\"url(#clip1800)\" style=\"stroke:#000000; stroke-width:4; stroke-opacity:1; fill:none\" points=\"\n",
       "  328.094,1131.68 352.39,1131.68 \n",
       "  \"/>\n",
       "<polyline clip-path=\"url(#clip1800)\" style=\"stroke:#000000; stroke-width:4; stroke-opacity:1; fill:none\" points=\"\n",
       "  328.094,945.838 352.39,945.838 \n",
       "  \"/>\n",
       "<polyline clip-path=\"url(#clip1800)\" style=\"stroke:#000000; stroke-width:4; stroke-opacity:1; fill:none\" points=\"\n",
       "  328.094,759.997 352.39,759.997 \n",
       "  \"/>\n",
       "<polyline clip-path=\"url(#clip1800)\" style=\"stroke:#000000; stroke-width:4; stroke-opacity:1; fill:none\" points=\"\n",
       "  328.094,574.156 352.39,574.156 \n",
       "  \"/>\n",
       "<polyline clip-path=\"url(#clip1800)\" style=\"stroke:#000000; stroke-width:4; stroke-opacity:1; fill:none\" points=\"\n",
       "  328.094,388.314 352.39,388.314 \n",
       "  \"/>\n",
       "<polyline clip-path=\"url(#clip1800)\" style=\"stroke:#000000; stroke-width:4; stroke-opacity:1; fill:none\" points=\"\n",
       "  328.094,202.473 352.39,202.473 \n",
       "  \"/>\n",
       "<g clip-path=\"url(#clip1800)\">\n",
       "<text style=\"fill:#000000; fill-opacity:1; font-family:Arial,Helvetica Neue,Helvetica,sans-serif; font-size:48px; text-anchor:middle;\" transform=\"rotate(0, 380.608, 1541.47)\" x=\"380.608\" y=\"1541.47\">0</text>\n",
       "</g>\n",
       "<g clip-path=\"url(#clip1800)\">\n",
       "<text style=\"fill:#000000; fill-opacity:1; font-family:Arial,Helvetica Neue,Helvetica,sans-serif; font-size:48px; text-anchor:middle;\" transform=\"rotate(0, 859.32, 1541.47)\" x=\"859.32\" y=\"1541.47\">100</text>\n",
       "</g>\n",
       "<g clip-path=\"url(#clip1800)\">\n",
       "<text style=\"fill:#000000; fill-opacity:1; font-family:Arial,Helvetica Neue,Helvetica,sans-serif; font-size:48px; text-anchor:middle;\" transform=\"rotate(0, 1338.03, 1541.47)\" x=\"1338.03\" y=\"1541.47\">200</text>\n",
       "</g>\n",
       "<g clip-path=\"url(#clip1800)\">\n",
       "<text style=\"fill:#000000; fill-opacity:1; font-family:Arial,Helvetica Neue,Helvetica,sans-serif; font-size:48px; text-anchor:middle;\" transform=\"rotate(0, 1816.74, 1541.47)\" x=\"1816.74\" y=\"1541.47\">300</text>\n",
       "</g>\n",
       "<g clip-path=\"url(#clip1800)\">\n",
       "<text style=\"fill:#000000; fill-opacity:1; font-family:Arial,Helvetica Neue,Helvetica,sans-serif; font-size:48px; text-anchor:middle;\" transform=\"rotate(0, 2295.45, 1541.47)\" x=\"2295.45\" y=\"1541.47\">400</text>\n",
       "</g>\n",
       "<g clip-path=\"url(#clip1800)\">\n",
       "<text style=\"fill:#000000; fill-opacity:1; font-family:Arial,Helvetica Neue,Helvetica,sans-serif; font-size:48px; text-anchor:start;\" transform=\"rotate(0, 107.046, 1341.25)\" x=\"107.046\" y=\"1341.25\">2.50×10</text>\n",
       "</g>\n",
       "<g clip-path=\"url(#clip1800)\">\n",
       "<text style=\"fill:#000000; fill-opacity:1; font-family:Arial,Helvetica Neue,Helvetica,sans-serif; font-size:38px; text-anchor:start;\" transform=\"rotate(0, 282.349, 1313.84)\" x=\"282.349\" y=\"1313.84\">5</text>\n",
       "</g>\n",
       "<g clip-path=\"url(#clip1800)\">\n",
       "<text style=\"fill:#000000; fill-opacity:1; font-family:Arial,Helvetica Neue,Helvetica,sans-serif; font-size:48px; text-anchor:start;\" transform=\"rotate(0, 107.046, 1155.41)\" x=\"107.046\" y=\"1155.41\">5.00×10</text>\n",
       "</g>\n",
       "<g clip-path=\"url(#clip1800)\">\n",
       "<text style=\"fill:#000000; fill-opacity:1; font-family:Arial,Helvetica Neue,Helvetica,sans-serif; font-size:38px; text-anchor:start;\" transform=\"rotate(0, 282.349, 1128)\" x=\"282.349\" y=\"1128\">5</text>\n",
       "</g>\n",
       "<g clip-path=\"url(#clip1800)\">\n",
       "<text style=\"fill:#000000; fill-opacity:1; font-family:Arial,Helvetica Neue,Helvetica,sans-serif; font-size:48px; text-anchor:start;\" transform=\"rotate(0, 107.046, 969.566)\" x=\"107.046\" y=\"969.566\">7.50×10</text>\n",
       "</g>\n",
       "<g clip-path=\"url(#clip1800)\">\n",
       "<text style=\"fill:#000000; fill-opacity:1; font-family:Arial,Helvetica Neue,Helvetica,sans-serif; font-size:38px; text-anchor:start;\" transform=\"rotate(0, 282.349, 942.156)\" x=\"282.349\" y=\"942.156\">5</text>\n",
       "</g>\n",
       "<g clip-path=\"url(#clip1800)\">\n",
       "<text style=\"fill:#000000; fill-opacity:1; font-family:Arial,Helvetica Neue,Helvetica,sans-serif; font-size:48px; text-anchor:start;\" transform=\"rotate(0, 107.046, 783.725)\" x=\"107.046\" y=\"783.725\">1.00×10</text>\n",
       "</g>\n",
       "<g clip-path=\"url(#clip1800)\">\n",
       "<text style=\"fill:#000000; fill-opacity:1; font-family:Arial,Helvetica Neue,Helvetica,sans-serif; font-size:38px; text-anchor:start;\" transform=\"rotate(0, 282.349, 756.314)\" x=\"282.349\" y=\"756.314\">6</text>\n",
       "</g>\n",
       "<g clip-path=\"url(#clip1800)\">\n",
       "<text style=\"fill:#000000; fill-opacity:1; font-family:Arial,Helvetica Neue,Helvetica,sans-serif; font-size:48px; text-anchor:start;\" transform=\"rotate(0, 107.046, 597.883)\" x=\"107.046\" y=\"597.883\">1.25×10</text>\n",
       "</g>\n",
       "<g clip-path=\"url(#clip1800)\">\n",
       "<text style=\"fill:#000000; fill-opacity:1; font-family:Arial,Helvetica Neue,Helvetica,sans-serif; font-size:38px; text-anchor:start;\" transform=\"rotate(0, 282.349, 570.473)\" x=\"282.349\" y=\"570.473\">6</text>\n",
       "</g>\n",
       "<g clip-path=\"url(#clip1800)\">\n",
       "<text style=\"fill:#000000; fill-opacity:1; font-family:Arial,Helvetica Neue,Helvetica,sans-serif; font-size:48px; text-anchor:start;\" transform=\"rotate(0, 107.046, 412.042)\" x=\"107.046\" y=\"412.042\">1.50×10</text>\n",
       "</g>\n",
       "<g clip-path=\"url(#clip1800)\">\n",
       "<text style=\"fill:#000000; fill-opacity:1; font-family:Arial,Helvetica Neue,Helvetica,sans-serif; font-size:38px; text-anchor:start;\" transform=\"rotate(0, 282.349, 384.631)\" x=\"282.349\" y=\"384.631\">6</text>\n",
       "</g>\n",
       "<g clip-path=\"url(#clip1800)\">\n",
       "<text style=\"fill:#000000; fill-opacity:1; font-family:Arial,Helvetica Neue,Helvetica,sans-serif; font-size:48px; text-anchor:start;\" transform=\"rotate(0, 107.046, 226.2)\" x=\"107.046\" y=\"226.2\">1.75×10</text>\n",
       "</g>\n",
       "<g clip-path=\"url(#clip1800)\">\n",
       "<text style=\"fill:#000000; fill-opacity:1; font-family:Arial,Helvetica Neue,Helvetica,sans-serif; font-size:38px; text-anchor:start;\" transform=\"rotate(0, 282.349, 198.79)\" x=\"282.349\" y=\"198.79\">6</text>\n",
       "</g>\n",
       "<polyline clip-path=\"url(#clip1802)\" style=\"stroke:#009af9; stroke-width:4; stroke-opacity:1; fill:none\" points=\"\n",
       "  385.396,1306.79 390.183,1378.71 394.97,1004.9 399.757,1417.19 404.544,987.95 409.331,1090.38 414.118,1363.28 418.905,1357.02 423.693,1145.67 428.48,868.791 \n",
       "  433.267,1071.51 438.054,1145.9 442.841,867.075 447.628,1386.96 452.415,1145.25 457.202,1325.63 461.989,1317.71 466.777,1440.89 471.564,1066.16 476.351,1203.73 \n",
       "  481.138,1347.05 485.925,835.181 490.712,1377.4 495.499,1092.81 500.286,909.832 505.073,587.935 509.861,1428.02 514.648,1061.33 519.435,1353.33 524.222,1435.16 \n",
       "  529.009,363.169 533.796,1413 538.583,1080.12 543.37,1144.01 548.157,1091.12 552.945,913.343 557.732,1074.82 562.519,1088.44 567.306,1272.56 572.093,1380.19 \n",
       "  576.88,835.653 581.667,876.206 586.454,1411.03 591.242,1284.91 596.029,1146.04 600.816,1280.69 605.603,1212.63 610.39,1357.76 615.177,633.949 619.964,1059.35 \n",
       "  624.751,861.364 629.538,1334.52 634.326,952.455 639.113,1313.1 643.9,935.647 648.687,1299.56 653.474,1339.73 658.261,781.95 663.048,1368.58 667.835,1255.4 \n",
       "  672.622,1243.65 677.41,890.65 682.197,1295.2 686.984,643.117 691.771,1391.43 696.558,1381.78 701.345,878.425 706.132,1283.64 710.919,974.457 715.706,1233.71 \n",
       "  720.494,1054.68 725.281,1143.36 730.068,1084.38 734.855,1446.71 739.642,1288.79 744.429,1096.24 749.216,1338.61 754.003,1124.32 758.791,1426.32 763.578,1356.65 \n",
       "  768.365,963.726 773.152,1287.95 777.939,974.806 782.726,1431.01 787.513,1072.44 792.3,1092.59 797.087,1403.94 801.875,1304.62 806.662,1175.69 811.449,1297.36 \n",
       "  816.236,685.738 821.023,1149.07 825.81,990.018 830.597,1122.28 835.384,1032.66 840.171,998.393 844.959,1388.19 849.746,1086.1 854.533,1378.88 859.32,1202.21 \n",
       "  864.107,1256.36 868.894,1259.49 873.681,1399.09 878.468,1368.45 883.255,1071.74 888.043,851.117 892.83,1153.16 897.617,1226.46 902.404,1106.73 907.191,1138.08 \n",
       "  911.978,1199.08 916.765,1349.59 921.552,1134.39 926.34,1207.79 931.127,688.547 935.914,1295.03 940.701,1096.17 945.488,1245.29 950.275,1289.34 955.062,1427.72 \n",
       "  959.849,1090.64 964.636,1423.8 969.424,1242.07 974.211,948.927 978.998,1264.93 983.785,1261.39 988.572,1389.3 993.359,1140.95 998.146,921.504 1002.93,1046.02 \n",
       "  1007.72,1364.13 1012.51,1110.19 1017.29,1253.64 1022.08,1131.4 1026.87,922.732 1031.66,1155.44 1036.44,1224.14 1041.23,1421.69 1046.02,990.244 1050.8,1350.51 \n",
       "  1055.59,1235.51 1060.38,565.455 1065.17,1313.32 1069.95,844.255 1074.74,1170.97 1079.53,1320.91 1084.31,1137.8 1089.1,1165.16 1093.89,1175.17 1098.68,1181.77 \n",
       "  1103.46,1368.13 1108.25,996.65 1113.04,997.626 1117.82,1299.15 1122.61,1009.53 1127.4,552.588 1132.19,1355.04 1136.97,1124.49 1141.76,1315.18 1146.55,1139.38 \n",
       "  1151.33,1277.16 1156.12,1151.62 1160.91,1107.66 1165.7,745.309 1170.48,1318.68 1175.27,1308.13 1180.06,1382.24 1184.84,858.582 1189.63,1331.23 1194.42,1238.55 \n",
       "  1199.21,880.643 1203.99,1277.66 1208.78,1265.25 1213.57,1368.26 1218.35,1224.03 1223.14,1071.84 1227.93,1272.73 1232.71,1002.75 1237.5,129.042 1242.29,1204.11 \n",
       "  1247.08,988.482 1251.86,1400.52 1256.65,1294.49 1261.44,617.221 1266.22,1125.23 1271.01,1316.58 1275.8,1308.84 1280.59,1403.91 1285.37,1311 1290.16,1267.96 \n",
       "  1294.95,1018.24 1299.73,1169.02 1304.52,1196.93 1309.31,1369.93 1314.1,1209.42 1318.88,984.105 1323.67,1003.02 1328.46,1173.22 1333.24,1329.78 1338.03,608.662 \n",
       "  1342.82,1010.45 1347.61,1177.43 1352.39,1299.02 1357.18,969.506 1361.97,1270.41 1366.75,1383.44 1371.54,1436.79 1376.33,1394.75 1381.12,1121.85 1385.9,1189.77 \n",
       "  1390.69,1221.66 1395.48,1382.06 1400.26,1109.54 1405.05,986.872 1409.84,1114.06 1414.63,1230.49 1419.41,1211.92 1424.2,1145.37 1428.99,1151.73 1433.77,1166.94 \n",
       "  1438.56,1375.88 1443.35,1379.6 1448.13,960.4 1452.92,1333.94 1457.71,88.0053 1462.5,581.908 1467.28,1392.32 1472.07,1225.79 1476.86,1267.43 1481.64,543.593 \n",
       "  1486.43,1316.65 1491.22,965.538 1496.01,1035.68 1500.79,1197.69 1505.58,1390.8 1510.37,1326.51 1515.15,1364.34 1519.94,1147.14 1524.73,1397.21 1529.52,1205 \n",
       "  1534.3,881.093 1539.09,1193.38 1543.88,770.832 1548.66,1226.73 1553.45,914.47 1558.24,1399.03 1563.03,1154.83 1567.81,1242.9 1572.6,1076.58 1577.39,1369.67 \n",
       "  1582.17,1182.5 1586.96,963.35 1591.75,782.96 1596.54,953.775 1601.32,1022.3 1606.11,975.085 1610.9,1005.69 1615.68,984.261 1620.47,1042.76 1625.26,1397.84 \n",
       "  1630.05,1107.11 1634.83,990.412 1639.62,1262.21 1644.41,1294.61 1649.19,1093.4 1653.98,1219.82 1658.77,1443.74 1663.56,840.55 1668.34,1190 1673.13,1345.51 \n",
       "  1677.92,1258.27 1682.7,1302.59 1687.49,1389.73 1692.28,1309.44 1697.06,1011.41 1701.85,1414.21 1706.64,1187.82 1711.43,977.037 1716.21,1252.01 1721,1097.39 \n",
       "  1725.79,1195.73 1730.57,1251.01 1735.36,239.106 1740.15,1043.72 1744.94,1162.19 1749.72,1078.95 1754.51,1160.35 1759.3,1273.09 1764.08,1208.39 1768.87,1417.37 \n",
       "  1773.66,1349.18 1778.45,1324.05 1783.23,1299.54 1788.02,373.233 1792.81,1227.38 1797.59,1166.28 1802.38,1316.9 1807.17,947.175 1811.96,1411.76 1816.74,1003.8 \n",
       "  1821.53,1160.57 1826.32,1159.53 1831.1,1232.52 1835.89,1113.1 1840.68,1238.91 1845.47,1166.94 1850.25,1236.96 1855.04,1134.88 1859.83,1037.13 1864.61,1128.25 \n",
       "  1869.4,1170.27 1874.19,1171.03 1878.98,1080.74 1883.76,1227.57 1888.55,1058.16 1893.34,1139.82 1898.12,1075.19 1902.91,1067.96 1907.7,1221.43 1912.49,1114.18 \n",
       "  1917.27,1195.85 1922.06,1195.59 1926.85,1137.02 1931.63,1143.55 1936.42,1238.99 1941.21,1224.53 1945.99,1137.93 1950.78,1064.63 1955.57,1157.38 1960.36,1160.5 \n",
       "  1965.14,1057.95 1969.93,1090.38 1974.72,1063.28 1979.5,1194.29 1984.29,1138.77 1989.08,1066.1 1993.87,1134.57 1998.65,1162.88 2003.44,1240.18 2008.23,1088.54 \n",
       "  2013.01,1189.54 2017.8,1171.71 2022.59,1143.12 2027.38,1066.96 2032.16,1228.35 2036.95,1047.22 2041.74,1133.31 2046.52,1145 2051.31,1169.41 2056.1,1133.38 \n",
       "  2060.89,1143.09 2065.67,1236.36 2070.46,1067.27 2075.25,1105.05 2080.03,1132.17 2084.82,1220.66 2089.61,1109.08 2094.4,1162.99 2099.18,1187.73 2103.97,1166.36 \n",
       "  2108.76,1212.27 2113.54,1100.06 2118.33,1225.73 2123.12,1240.31 2127.91,1128.67 2132.69,1203.86 2137.48,1210.28 2142.27,1111.83 2147.05,1207.31 2151.84,1121.46 \n",
       "  2156.63,1194.48 2161.41,1143.58 2166.2,1229.84 2170.99,1209.5 2175.78,1229.4 2180.56,1068.9 2185.35,1112.5 2190.14,1230.82 2194.92,1197.26 2199.71,1202.59 \n",
       "  2204.5,1135.64 2209.29,1189.56 2214.07,1109.96 2218.86,1153.9 2223.65,1109.02 2228.43,1103.8 2233.22,1157.72 2238.01,1238.05 2242.8,1164.2 2247.58,1082.76 \n",
       "  2252.37,1195.49 2257.16,1115.8 2261.94,1136.1 2266.73,1249.74 2271.52,1155.63 2276.31,1124.52 2281.09,1082.57 2285.88,1125.43 2290.67,1093.98 2295.45,1197.13 \n",
       "  \n",
       "  \"/>\n",
       "<polyline clip-path=\"url(#clip1802)\" style=\"stroke:#e26f46; stroke-width:4; stroke-opacity:1; fill:none\" points=\"\n",
       "  385.396,1306.79 390.183,1378.71 394.97,1004.9 399.757,1417.19 404.544,987.95 409.331,1090.38 414.118,1363.28 418.905,1357.02 423.693,1145.67 428.48,868.791 \n",
       "  433.267,1071.51 438.054,1145.9 442.841,867.075 447.628,1386.96 452.415,1145.25 457.202,1325.63 461.989,1317.71 466.777,1440.89 471.564,1066.16 476.351,1203.73 \n",
       "  481.138,1347.05 485.925,835.181 490.712,1377.4 495.499,1092.81 500.286,909.832 505.073,587.935 509.861,1428.02 514.648,1061.33 519.435,1353.33 524.222,1435.16 \n",
       "  529.009,363.169 533.796,1413 538.583,1080.12 543.37,1144.01 548.157,1091.12 552.945,913.343 557.732,1074.82 562.519,1088.44 567.306,1272.56 572.093,1380.19 \n",
       "  576.88,835.653 581.667,876.206 586.454,1411.03 591.242,1284.91 596.029,1146.04 600.816,1280.69 605.603,1212.63 610.39,1357.76 615.177,633.949 619.964,1059.35 \n",
       "  624.751,861.364 629.538,1334.52 634.326,952.455 639.113,1313.1 643.9,935.647 648.687,1299.56 653.474,1339.73 658.261,781.95 663.048,1368.58 667.835,1255.4 \n",
       "  672.622,1243.65 677.41,890.65 682.197,1295.2 686.984,643.117 691.771,1391.43 696.558,1381.78 701.345,878.425 706.132,1283.64 710.919,974.457 715.706,1233.71 \n",
       "  720.494,1054.68 725.281,1143.36 730.068,1084.38 734.855,1446.71 739.642,1288.79 744.429,1096.24 749.216,1338.61 754.003,1124.32 758.791,1426.32 763.578,1356.65 \n",
       "  768.365,963.726 773.152,1287.95 777.939,974.806 782.726,1431.01 787.513,1072.44 792.3,1092.59 797.087,1403.94 801.875,1304.62 806.662,1175.69 811.449,1297.36 \n",
       "  816.236,685.738 821.023,1149.07 825.81,990.018 830.597,1122.28 835.384,1032.66 840.171,998.393 844.959,1388.19 849.746,1086.1 854.533,1378.88 859.32,1202.21 \n",
       "  864.107,1256.36 868.894,1259.49 873.681,1399.09 878.468,1368.45 883.255,1071.74 888.043,851.117 892.83,1153.16 897.617,1226.46 902.404,1106.73 907.191,1138.08 \n",
       "  911.978,1199.08 916.765,1349.59 921.552,1134.39 926.34,1207.79 931.127,688.547 935.914,1295.03 940.701,1096.17 945.488,1245.29 950.275,1289.34 955.062,1427.72 \n",
       "  959.849,1090.64 964.636,1423.8 969.424,1242.07 974.211,948.927 978.998,1264.93 983.785,1261.39 988.572,1389.3 993.359,1140.95 998.146,921.504 1002.93,1046.02 \n",
       "  1007.72,1364.13 1012.51,1110.19 1017.29,1253.64 1022.08,1131.4 1026.87,922.732 1031.66,1155.44 1036.44,1224.14 1041.23,1421.69 1046.02,990.244 1050.8,1350.51 \n",
       "  1055.59,1235.51 1060.38,565.455 1065.17,1313.32 1069.95,844.255 1074.74,1170.97 1079.53,1320.91 1084.31,1137.8 1089.1,1165.16 1093.89,1175.17 1098.68,1181.77 \n",
       "  1103.46,1368.13 1108.25,996.65 1113.04,997.626 1117.82,1299.15 1122.61,1009.53 1127.4,552.588 1132.19,1355.04 1136.97,1124.49 1141.76,1315.18 1146.55,1139.38 \n",
       "  1151.33,1277.16 1156.12,1151.62 1160.91,1107.66 1165.7,745.309 1170.48,1318.68 1175.27,1308.13 1180.06,1382.24 1184.84,858.582 1189.63,1331.23 1194.42,1238.55 \n",
       "  1199.21,880.643 1203.99,1277.66 1208.78,1265.25 1213.57,1368.26 1218.35,1224.03 1223.14,1071.84 1227.93,1272.73 1232.71,1002.75 1237.5,129.042 1242.29,1204.11 \n",
       "  1247.08,988.482 1251.86,1400.52 1256.65,1294.49 1261.44,617.221 1266.22,1125.23 1271.01,1316.58 1275.8,1308.84 1280.59,1403.91 1285.37,1311 1290.16,1267.96 \n",
       "  1294.95,1018.24 1299.73,1169.02 1304.52,1196.93 1309.31,1369.93 1314.1,1209.42 1318.88,984.105 1323.67,1003.02 1328.46,1173.22 1333.24,1329.78 1338.03,608.662 \n",
       "  1342.82,1010.45 1347.61,1177.43 1352.39,1299.02 1357.18,969.506 1361.97,1270.41 1366.75,1383.44 1371.54,1436.79 1376.33,1394.75 1381.12,1121.85 1385.9,1189.77 \n",
       "  1390.69,1221.66 1395.48,1382.06 1400.26,1109.54 1405.05,986.872 1409.84,1114.06 1414.63,1230.49 1419.41,1211.92 1424.2,1145.37 1428.99,1151.73 1433.77,1166.94 \n",
       "  1438.56,1375.88 1443.35,1379.6 1448.13,960.4 1452.92,1333.94 1457.71,88.0053 1462.5,581.908 1467.28,1392.32 1472.07,1225.79 1476.86,1267.43 1481.64,543.593 \n",
       "  1486.43,1316.65 1491.22,965.538 1496.01,1035.68 1500.79,1197.69 1505.58,1390.8 1510.37,1326.51 1515.15,1364.34 1519.94,1147.14 1524.73,1397.21 1529.52,1205 \n",
       "  1534.3,881.093 1539.09,1193.38 1543.88,770.832 1548.66,1226.73 1553.45,914.47 1558.24,1399.03 1563.03,1154.83 1567.81,1242.9 1572.6,1076.58 1577.39,1369.67 \n",
       "  1582.17,1182.5 1586.96,963.35 1591.75,782.96 1596.54,953.775 1601.32,1022.3 1606.11,975.085 1610.9,1005.69 1615.68,984.261 1620.47,1042.76 1625.26,1397.84 \n",
       "  1630.05,1107.11 1634.83,990.412 1639.62,1262.21 1644.41,1294.61 1649.19,1093.4 1653.98,1219.82 1658.77,1443.74 1663.56,840.55 1668.34,1190 1673.13,1345.51 \n",
       "  1677.92,1258.27 1682.7,1302.59 1687.49,1389.73 1692.28,1309.44 1697.06,1011.41 1701.85,1414.21 1706.64,1187.82 1711.43,977.037 1716.21,1252.01 1721,1097.39 \n",
       "  1725.79,1195.73 1730.57,1251.01 1735.36,239.106 1740.15,1043.72 1744.94,1162.19 1749.72,1078.95 1754.51,1160.35 1759.3,1273.09 1764.08,1208.39 1768.87,1417.37 \n",
       "  1773.66,1349.18 1778.45,1324.05 1783.23,1299.54 1788.02,373.233 1792.81,1227.38 1797.59,1166.28 1802.38,1316.9 1807.17,947.175 1811.96,1411.76 1816.74,1003.8 \n",
       "  1821.53,1246.38 1826.32,1192.21 1831.1,1279.01 1835.89,581.16 1840.68,1296.25 1845.47,628.4 1850.25,1308.49 1855.04,1032.13 1859.83,480.452 1864.61,1256.87 \n",
       "  1869.4,830.462 1874.19,1226.99 1878.98,1014.58 1883.76,1113.15 1888.55,899.451 1893.34,1214.21 1898.12,1199.17 1902.91,1409.81 1907.7,1231.89 1912.49,236.957 \n",
       "  1917.27,547.004 1922.06,875.769 1926.85,1226.6 1931.63,1072.8 1936.42,1222.09 1941.21,1031.81 1945.99,1264.31 1950.78,1197.21 1955.57,1359.15 1960.36,1054.49 \n",
       "  1965.14,1188.57 1969.93,1000.3 1974.72,1143.6 1979.5,944.699 1984.29,1121.86 1989.08,1081.71 1993.87,1016.59 1998.65,1303.35 2003.44,773.386 2008.23,1232.38 \n",
       "  2013.01,1133.24 2017.8,285.014 2022.59,1316.18 2027.38,1006.65 2032.16,1205.39 2036.95,1213.67 2041.74,1036.31 2046.52,699.105 2051.31,1329.66 2056.1,995.593 \n",
       "  2060.89,1147.08 2065.67,1176.32 2070.46,1289.67 2075.25,1422.11 2080.03,1190.28 2084.82,1364.94 2089.61,1317.39 2094.4,1192.36 2099.18,1281.68 2103.97,1376.34 \n",
       "  2108.76,1228.17 2113.54,1289.03 2118.33,1354.26 2123.12,1408.55 2127.91,1424.27 2132.69,1249.07 2137.48,1218.96 2142.27,984.824 2147.05,1245.46 2151.84,1163.66 \n",
       "  2156.63,1318.72 2161.41,1065.57 2166.2,1301.28 2170.99,854.517 2175.78,863.714 2180.56,1406.43 2185.35,758.998 2190.14,1210.36 2194.92,1247.79 2199.71,1202.7 \n",
       "  2204.5,1094.66 2209.29,871.479 2214.07,965.473 2218.86,1294.48 2223.65,982.161 2228.43,1305.76 2233.22,1261.07 2238.01,1352.21 2242.8,1106.23 2247.58,1094.82 \n",
       "  2252.37,1208.24 2257.16,1197.97 2261.94,1427.22 2266.73,1267.38 2271.52,1181.71 2276.31,1349.47 2281.09,615.818 2285.88,1067.55 2290.67,919.067 2295.45,864.641 \n",
       "  \n",
       "  \"/>\n",
       "<path clip-path=\"url(#clip1800)\" d=\"\n",
       "M1989.93 312.204 L2280.76 312.204 L2280.76 130.764 L1989.93 130.764  Z\n",
       "  \" fill=\"#ffffff\" fill-rule=\"evenodd\" fill-opacity=\"1\"/>\n",
       "<polyline clip-path=\"url(#clip1800)\" style=\"stroke:#000000; stroke-width:4; stroke-opacity:1; fill:none\" points=\"\n",
       "  1989.93,312.204 2280.76,312.204 2280.76,130.764 1989.93,130.764 1989.93,312.204 \n",
       "  \"/>\n",
       "<polyline clip-path=\"url(#clip1800)\" style=\"stroke:#009af9; stroke-width:4; stroke-opacity:1; fill:none\" points=\"\n",
       "  2013.93,191.244 2157.93,191.244 \n",
       "  \"/>\n",
       "<g clip-path=\"url(#clip1800)\">\n",
       "<text style=\"fill:#000000; fill-opacity:1; font-family:Arial,Helvetica Neue,Helvetica,sans-serif; font-size:48px; text-anchor:start;\" transform=\"rotate(0, 2181.93, 208.744)\" x=\"2181.93\" y=\"208.744\">y1</text>\n",
       "</g>\n",
       "<polyline clip-path=\"url(#clip1800)\" style=\"stroke:#e26f46; stroke-width:4; stroke-opacity:1; fill:none\" points=\"\n",
       "  2013.93,251.724 2157.93,251.724 \n",
       "  \"/>\n",
       "<g clip-path=\"url(#clip1800)\">\n",
       "<text style=\"fill:#000000; fill-opacity:1; font-family:Arial,Helvetica Neue,Helvetica,sans-serif; font-size:48px; text-anchor:start;\" transform=\"rotate(0, 2181.93, 269.224)\" x=\"2181.93\" y=\"269.224\">y2</text>\n",
       "</g>\n",
       "</svg>\n"
      ]
     },
     "execution_count": 141,
     "metadata": {},
     "output_type": "execute_result"
    }
   ],
   "source": [
    "plot([μ,y_all])"
   ]
  },
  {
   "cell_type": "code",
   "execution_count": 75,
   "metadata": {},
   "outputs": [
    {
     "data": {
      "text/plain": [
       "\"y_predict_julia_geostats.csv\""
      ]
     },
     "execution_count": 75,
     "metadata": {},
     "output_type": "execute_result"
    }
   ],
   "source": [
    "using DataFrames\n",
    "df=DataFrame()\n",
    "df.A =1:400\n",
    "df.B =μ\n",
    "CSV.write(\"y_predict_julia_geostats.csv\",df, writeheader=false)"
   ]
  },
  {
   "cell_type": "code",
   "execution_count": null,
   "metadata": {},
   "outputs": [],
   "source": []
  },
  {
   "cell_type": "code",
   "execution_count": null,
   "metadata": {},
   "outputs": [],
   "source": []
  }
 ],
 "metadata": {
  "kernelspec": {
   "display_name": "Julia 1.3.0",
   "language": "julia",
   "name": "julia-1.3"
  },
  "language_info": {
   "file_extension": ".jl",
   "mimetype": "application/julia",
   "name": "julia",
   "version": "1.3.0"
  }
 },
 "nbformat": 4,
 "nbformat_minor": 4
}
